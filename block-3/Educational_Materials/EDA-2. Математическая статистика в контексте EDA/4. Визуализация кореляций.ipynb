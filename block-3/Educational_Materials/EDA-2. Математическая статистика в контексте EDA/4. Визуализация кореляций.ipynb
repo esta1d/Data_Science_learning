{
 "cells": [
  {
   "cell_type": "markdown",
   "metadata": {},
   "source": [
    "# Визуализация корреляций. Матрица корреляций. График рассеивания. Парные отношения в наборе данных"
   ]
  },
  {
   "cell_type": "markdown",
   "metadata": {},
   "source": [
    "В прошлых юнитах мы познакомились с корреляцией и её типами. В этом юните мы узнаем о наглядных способах представления корреляций пары признаков и корреляций признаков всего датасета.\n",
    "\n",
    "В качестве датасета для визуализации корреляций возьмём новые данные о параметрах фигур девушек месяца журнала «Плейбой»."
   ]
  },
  {
   "cell_type": "markdown",
   "metadata": {},
   "source": [
    "Набор данных содержит ~600 записей о девушках и восемь признаков:\n",
    "\n",
    "* ``BMI`` — индекс массы тела (ИМТ)\n",
    "* ``year`` — год размещения модели в журнале\n",
    "* ``month`` — месяц размещения\n",
    "* ``waist`` — обхват талии модели\n",
    "* ``hips`` — обхват бёдер модели\n",
    "* ``height`` — рост модели\n",
    "* ``weight`` — вес модели\n",
    "* ``waist/hip`` — соотношение обхвата талии и бёдер\n",
    "\n",
    "Прочитаем датасет и приступим к изучению способов визуализации."
   ]
  },
  {
   "cell_type": "code",
   "execution_count": 23,
   "metadata": {},
   "outputs": [],
   "source": [
    "import pandas as pd"
   ]
  },
  {
   "cell_type": "code",
   "execution_count": 24,
   "metadata": {},
   "outputs": [
    {
     "data": {
      "text/html": [
       "<div>\n",
       "<style scoped>\n",
       "    .dataframe tbody tr th:only-of-type {\n",
       "        vertical-align: middle;\n",
       "    }\n",
       "\n",
       "    .dataframe tbody tr th {\n",
       "        vertical-align: top;\n",
       "    }\n",
       "\n",
       "    .dataframe thead th {\n",
       "        text-align: right;\n",
       "    }\n",
       "</style>\n",
       "<table border=\"1\" class=\"dataframe\">\n",
       "  <thead>\n",
       "    <tr style=\"text-align: right;\">\n",
       "      <th></th>\n",
       "      <th>Month</th>\n",
       "      <th>Year</th>\n",
       "      <th>Waist</th>\n",
       "      <th>Hips</th>\n",
       "      <th>Height</th>\n",
       "      <th>Weight</th>\n",
       "      <th>BMI</th>\n",
       "      <th>Waist/Hip</th>\n",
       "    </tr>\n",
       "  </thead>\n",
       "  <tbody>\n",
       "    <tr>\n",
       "      <th>0</th>\n",
       "      <td>December</td>\n",
       "      <td>1953</td>\n",
       "      <td>24.000000</td>\n",
       "      <td>36.000000</td>\n",
       "      <td>65.000000</td>\n",
       "      <td>118.000000</td>\n",
       "      <td>19.630000</td>\n",
       "      <td>0.670000</td>\n",
       "    </tr>\n",
       "    <tr>\n",
       "      <th>1</th>\n",
       "      <td>January</td>\n",
       "      <td>1954</td>\n",
       "      <td>23.433172</td>\n",
       "      <td>34.698708</td>\n",
       "      <td>66.057258</td>\n",
       "      <td>114.936066</td>\n",
       "      <td>18.232168</td>\n",
       "      <td>0.677916</td>\n",
       "    </tr>\n",
       "    <tr>\n",
       "      <th>2</th>\n",
       "      <td>February</td>\n",
       "      <td>1954</td>\n",
       "      <td>23.433172</td>\n",
       "      <td>34.698708</td>\n",
       "      <td>66.057258</td>\n",
       "      <td>114.936066</td>\n",
       "      <td>18.232168</td>\n",
       "      <td>0.677916</td>\n",
       "    </tr>\n",
       "    <tr>\n",
       "      <th>3</th>\n",
       "      <td>March</td>\n",
       "      <td>1954</td>\n",
       "      <td>24.000000</td>\n",
       "      <td>35.000000</td>\n",
       "      <td>66.000000</td>\n",
       "      <td>118.000000</td>\n",
       "      <td>19.040000</td>\n",
       "      <td>0.690000</td>\n",
       "    </tr>\n",
       "    <tr>\n",
       "      <th>4</th>\n",
       "      <td>April</td>\n",
       "      <td>1954</td>\n",
       "      <td>23.433172</td>\n",
       "      <td>34.698708</td>\n",
       "      <td>66.057258</td>\n",
       "      <td>114.936066</td>\n",
       "      <td>18.232168</td>\n",
       "      <td>0.677916</td>\n",
       "    </tr>\n",
       "    <tr>\n",
       "      <th>...</th>\n",
       "      <td>...</td>\n",
       "      <td>...</td>\n",
       "      <td>...</td>\n",
       "      <td>...</td>\n",
       "      <td>...</td>\n",
       "      <td>...</td>\n",
       "      <td>...</td>\n",
       "      <td>...</td>\n",
       "    </tr>\n",
       "    <tr>\n",
       "      <th>657</th>\n",
       "      <td>September</td>\n",
       "      <td>2008</td>\n",
       "      <td>25.000000</td>\n",
       "      <td>36.000000</td>\n",
       "      <td>67.000000</td>\n",
       "      <td>115.000000</td>\n",
       "      <td>18.010000</td>\n",
       "      <td>0.690000</td>\n",
       "    </tr>\n",
       "    <tr>\n",
       "      <th>658</th>\n",
       "      <td>October</td>\n",
       "      <td>2008</td>\n",
       "      <td>24.000000</td>\n",
       "      <td>34.000000</td>\n",
       "      <td>65.000000</td>\n",
       "      <td>115.000000</td>\n",
       "      <td>19.130000</td>\n",
       "      <td>0.710000</td>\n",
       "    </tr>\n",
       "    <tr>\n",
       "      <th>659</th>\n",
       "      <td>November</td>\n",
       "      <td>2008</td>\n",
       "      <td>21.000000</td>\n",
       "      <td>32.000000</td>\n",
       "      <td>66.000000</td>\n",
       "      <td>108.000000</td>\n",
       "      <td>17.430000</td>\n",
       "      <td>0.660000</td>\n",
       "    </tr>\n",
       "    <tr>\n",
       "      <th>660</th>\n",
       "      <td>December</td>\n",
       "      <td>2008</td>\n",
       "      <td>25.000000</td>\n",
       "      <td>35.000000</td>\n",
       "      <td>68.000000</td>\n",
       "      <td>115.000000</td>\n",
       "      <td>17.480000</td>\n",
       "      <td>0.710000</td>\n",
       "    </tr>\n",
       "    <tr>\n",
       "      <th>661</th>\n",
       "      <td>January</td>\n",
       "      <td>2009</td>\n",
       "      <td>23.500000</td>\n",
       "      <td>36.000000</td>\n",
       "      <td>67.000000</td>\n",
       "      <td>121.000000</td>\n",
       "      <td>18.950000</td>\n",
       "      <td>0.650000</td>\n",
       "    </tr>\n",
       "  </tbody>\n",
       "</table>\n",
       "<p>662 rows × 8 columns</p>\n",
       "</div>"
      ],
      "text/plain": [
       "         Month  Year      Waist       Hips     Height      Weight        BMI  \\\n",
       "0     December  1953  24.000000  36.000000  65.000000  118.000000  19.630000   \n",
       "1      January  1954  23.433172  34.698708  66.057258  114.936066  18.232168   \n",
       "2     February  1954  23.433172  34.698708  66.057258  114.936066  18.232168   \n",
       "3        March  1954  24.000000  35.000000  66.000000  118.000000  19.040000   \n",
       "4        April  1954  23.433172  34.698708  66.057258  114.936066  18.232168   \n",
       "..         ...   ...        ...        ...        ...         ...        ...   \n",
       "657  September  2008  25.000000  36.000000  67.000000  115.000000  18.010000   \n",
       "658    October  2008  24.000000  34.000000  65.000000  115.000000  19.130000   \n",
       "659   November  2008  21.000000  32.000000  66.000000  108.000000  17.430000   \n",
       "660   December  2008  25.000000  35.000000  68.000000  115.000000  17.480000   \n",
       "661    January  2009  23.500000  36.000000  67.000000  121.000000  18.950000   \n",
       "\n",
       "     Waist/Hip  \n",
       "0     0.670000  \n",
       "1     0.677916  \n",
       "2     0.677916  \n",
       "3     0.690000  \n",
       "4     0.677916  \n",
       "..         ...  \n",
       "657   0.690000  \n",
       "658   0.710000  \n",
       "659   0.660000  \n",
       "660   0.710000  \n",
       "661   0.650000  \n",
       "\n",
       "[662 rows x 8 columns]"
      ]
     },
     "execution_count": 24,
     "metadata": {},
     "output_type": "execute_result"
    }
   ],
   "source": [
    "model_data = pd.read_csv('data/model.csv')\n",
    "model_data"
   ]
  },
  {
   "cell_type": "markdown",
   "metadata": {},
   "source": [
    "## МАТРИЦА КОРРЕЛЯЦИЙ"
   ]
  },
  {
   "cell_type": "markdown",
   "metadata": {},
   "source": [
    "В случае большого количества данных в датасете матрица, возвращаемая методом pandas data.corr(), становится нечитаемой."
   ]
  },
  {
   "cell_type": "markdown",
   "metadata": {},
   "source": [
    "### Задание 6.1\n",
    "\n",
    "Постройте матрицу корреляций для датасета. В ответ впишите самый высокий коэффициент корреляции. Ответ округлите до сотых."
   ]
  },
  {
   "cell_type": "code",
   "execution_count": 25,
   "metadata": {},
   "outputs": [
    {
     "data": {
      "text/html": [
       "<div>\n",
       "<style scoped>\n",
       "    .dataframe tbody tr th:only-of-type {\n",
       "        vertical-align: middle;\n",
       "    }\n",
       "\n",
       "    .dataframe tbody tr th {\n",
       "        vertical-align: top;\n",
       "    }\n",
       "\n",
       "    .dataframe thead th {\n",
       "        text-align: right;\n",
       "    }\n",
       "</style>\n",
       "<table border=\"1\" class=\"dataframe\">\n",
       "  <thead>\n",
       "    <tr style=\"text-align: right;\">\n",
       "      <th></th>\n",
       "      <th>Year</th>\n",
       "      <th>Waist</th>\n",
       "      <th>Hips</th>\n",
       "      <th>Height</th>\n",
       "      <th>Weight</th>\n",
       "      <th>BMI</th>\n",
       "      <th>Waist/Hip</th>\n",
       "    </tr>\n",
       "  </thead>\n",
       "  <tbody>\n",
       "    <tr>\n",
       "      <th>Year</th>\n",
       "      <td>1.000000</td>\n",
       "      <td>0.292518</td>\n",
       "      <td>-0.281576</td>\n",
       "      <td>0.284482</td>\n",
       "      <td>-0.010753</td>\n",
       "      <td>0.025309</td>\n",
       "      <td>0.458945</td>\n",
       "    </tr>\n",
       "    <tr>\n",
       "      <th>Waist</th>\n",
       "      <td>0.292518</td>\n",
       "      <td>1.000000</td>\n",
       "      <td>0.283060</td>\n",
       "      <td>0.372637</td>\n",
       "      <td>0.452704</td>\n",
       "      <td>0.136549</td>\n",
       "      <td>0.742284</td>\n",
       "    </tr>\n",
       "    <tr>\n",
       "      <th>Hips</th>\n",
       "      <td>-0.281576</td>\n",
       "      <td>0.283060</td>\n",
       "      <td>1.000000</td>\n",
       "      <td>0.228054</td>\n",
       "      <td>0.541836</td>\n",
       "      <td>0.211395</td>\n",
       "      <td>-0.422412</td>\n",
       "    </tr>\n",
       "    <tr>\n",
       "      <th>Height</th>\n",
       "      <td>0.284482</td>\n",
       "      <td>0.372637</td>\n",
       "      <td>0.228054</td>\n",
       "      <td>1.000000</td>\n",
       "      <td>0.706569</td>\n",
       "      <td>-0.037934</td>\n",
       "      <td>0.198754</td>\n",
       "    </tr>\n",
       "    <tr>\n",
       "      <th>Weight</th>\n",
       "      <td>-0.010753</td>\n",
       "      <td>0.452704</td>\n",
       "      <td>0.541836</td>\n",
       "      <td>0.706569</td>\n",
       "      <td>1.000000</td>\n",
       "      <td>0.212701</td>\n",
       "      <td>0.067543</td>\n",
       "    </tr>\n",
       "    <tr>\n",
       "      <th>BMI</th>\n",
       "      <td>0.025309</td>\n",
       "      <td>0.136549</td>\n",
       "      <td>0.211395</td>\n",
       "      <td>-0.037934</td>\n",
       "      <td>0.212701</td>\n",
       "      <td>1.000000</td>\n",
       "      <td>-0.010173</td>\n",
       "    </tr>\n",
       "    <tr>\n",
       "      <th>Waist/Hip</th>\n",
       "      <td>0.458945</td>\n",
       "      <td>0.742284</td>\n",
       "      <td>-0.422412</td>\n",
       "      <td>0.198754</td>\n",
       "      <td>0.067543</td>\n",
       "      <td>-0.010173</td>\n",
       "      <td>1.000000</td>\n",
       "    </tr>\n",
       "  </tbody>\n",
       "</table>\n",
       "</div>"
      ],
      "text/plain": [
       "               Year     Waist      Hips    Height    Weight       BMI  \\\n",
       "Year       1.000000  0.292518 -0.281576  0.284482 -0.010753  0.025309   \n",
       "Waist      0.292518  1.000000  0.283060  0.372637  0.452704  0.136549   \n",
       "Hips      -0.281576  0.283060  1.000000  0.228054  0.541836  0.211395   \n",
       "Height     0.284482  0.372637  0.228054  1.000000  0.706569 -0.037934   \n",
       "Weight    -0.010753  0.452704  0.541836  0.706569  1.000000  0.212701   \n",
       "BMI        0.025309  0.136549  0.211395 -0.037934  0.212701  1.000000   \n",
       "Waist/Hip  0.458945  0.742284 -0.422412  0.198754  0.067543 -0.010173   \n",
       "\n",
       "           Waist/Hip  \n",
       "Year        0.458945  \n",
       "Waist       0.742284  \n",
       "Hips       -0.422412  \n",
       "Height      0.198754  \n",
       "Weight      0.067543  \n",
       "BMI        -0.010173  \n",
       "Waist/Hip   1.000000  "
      ]
     },
     "execution_count": 25,
     "metadata": {},
     "output_type": "execute_result"
    }
   ],
   "source": [
    "model_data_corr = model_data[['Year', 'Waist', 'Hips', 'Height', 'Weight', 'BMI', 'Waist/Hip']].corr()\n",
    "model_data_corr"
   ]
  },
  {
   "cell_type": "markdown",
   "metadata": {},
   "source": [
    "Матрица получилась большой и потребовалось достаточно много времени, чтобы проанализировать все коэффициенты в этой матрице. А если признаков будет больше? Найти что-то в ней будет практически невозможно.\n",
    "\n",
    "Поэтому специалисты по данным отдают предпочтение методам визуализации. Один из таких — тепловая матрица корреляций.\n",
    "\n"
   ]
  },
  {
   "cell_type": "markdown",
   "metadata": {},
   "source": [
    "## ТЕПЛОВАЯ МАТРИЦА КОРРЕЛЯЦИЙ"
   ]
  },
  {
   "cell_type": "markdown",
   "metadata": {},
   "source": [
    "Для построения такой матрицы нам будет необходима знакомая нам из модуля по визуализации библиотека seaborn.\n",
    "\n",
    "Импортируем библиотеку для дальнейшего использования:"
   ]
  },
  {
   "cell_type": "code",
   "execution_count": 26,
   "metadata": {},
   "outputs": [],
   "source": [
    "import seaborn as sns"
   ]
  },
  {
   "cell_type": "markdown",
   "metadata": {},
   "source": [
    "Для построения тепловой матрицы корреляций мы воспользуемся методом sns.heatmap() библиотеки seaborn. \n",
    "\n",
    "Метод принимает на вход двумерный массив данных под аргументом data. Это может быть матрица корреляций, полученная методом df.corr(), матрица пропущенных значений, полученная методом df.isnull(), набор данных и многое другое. \n",
    "\n",
    "Передадим в метод heatmap() нашу матрицу корреляций corr():"
   ]
  },
  {
   "cell_type": "code",
   "execution_count": 27,
   "metadata": {},
   "outputs": [
    {
     "data": {
      "text/plain": [
       "<Axes: >"
      ]
     },
     "execution_count": 27,
     "metadata": {},
     "output_type": "execute_result"
    },
    {
     "data": {
      "image/png": "[encoded data removed]",
      "text/plain": [
       "<Figure size 640x480 with 2 Axes>"
      ]
     },
     "metadata": {},
     "output_type": "display_data"
    }
   ],
   "source": [
    "sns.heatmap(model_data_corr.corr())"
   ]
  },
  {
   "cell_type": "markdown",
   "metadata": {},
   "source": [
    "Чтобы было удобнее её интерпретировать, передадим параметр annot = True, чтобы отобразить коэффициент корреляции на пересечении признаков."
   ]
  },
  {
   "cell_type": "code",
   "execution_count": 28,
   "metadata": {},
   "outputs": [
    {
     "data": {
      "text/plain": [
       "<Axes: >"
      ]
     },
     "execution_count": 28,
     "metadata": {},
     "output_type": "execute_result"
    },
    {
     "data": {
      "image/png": "[encoded data removed]",
      "text/plain": [
       "<Figure size 640x480 with 2 Axes>"
      ]
     },
     "metadata": {},
     "output_type": "display_data"
    }
   ],
   "source": [
    "sns.heatmap(model_data_corr.corr(), annot = True)"
   ]
  }
 ],
 "metadata": {
  "kernelspec": {
   "display_name": "Python 3",
   "language": "python",
   "name": "python3"
  },
  "language_info": {
   "codemirror_mode": {
    "name": "ipython",
    "version": 3
   },
   "file_extension": ".py",
   "mimetype": "text/x-python",
   "name": "python",
   "nbconvert_exporter": "python",
   "pygments_lexer": "ipython3",
   "version": "3.9.6"
  }
 },
 "nbformat": 4,
 "nbformat_minor": 2
}

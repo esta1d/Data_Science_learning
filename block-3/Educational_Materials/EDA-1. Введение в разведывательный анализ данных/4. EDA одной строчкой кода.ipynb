{
 "cells": [
  {
   "cell_type": "markdown",
   "metadata": {},
   "source": [
    "В реальной жизни большую часть работы над моделью занимает разведывательный анализ данных. С целью решения подобной проблемы появились инструменты автоматической визуализации и представления датасета.\n",
    "\n",
    "К таким инструментам можно отнести следующие библиотеки Python, которые могут выполнять EDA всего одной строкой кода:\n",
    "\n",
    "* ``d-tale``\n",
    "* ``ydata-profiling``\n",
    "* ``sweetviz``\n"
   ]
  },
  {
   "cell_type": "markdown",
   "metadata": {},
   "source": [
    "### YDATA-PROFILING"
   ]
  },
  {
   "cell_type": "markdown",
   "metadata": {},
   "source": [
    "***``Ydata-profiling``***— это библиотека с открытым исходным кодом, которая создаёт подробный отчёт по данным. Ydata-profiling можно легко использовать для больших наборов данных: отчёты создаются всего за несколько секунд.\n",
    "\n",
    "Примечание. Ранее библиотека ydata-profiling называлась pandas-profiling и работала только с pandas.DataFrame. Однако, начиная с версии 4.0.0, в библиотеке появилась возможность работать с форматами данных библиотеки Spark (библиотека для работы с распределёнными вычислениями на больших объёмах данных). В результате расширения возможностей библиотеки возникла необходимость ребрендинга, который и привёл к смене имени. Синтаксис и формат выходных данных для pandas остались теми же."
   ]
  },
  {
   "cell_type": "markdown",
   "metadata": {},
   "source": [
    "#### РАБОТА С YDATA-PROFILING НА ПРИМЕРЕ ВИННЫХ ОБЗОРОВ\n",
    "\n",
    "Начните свою работу с загрузки датасета винных обзоров."
   ]
  },
  {
   "cell_type": "code",
   "execution_count": 1,
   "metadata": {},
   "outputs": [
    {
     "ename": "ModuleNotFoundError",
     "evalue": "No module named 'ydata_profiling'",
     "output_type": "error",
     "traceback": [
      "\u001b[0;31m---------------------------------------------------------------------------\u001b[0m",
      "\u001b[0;31mModuleNotFoundError\u001b[0m                       Traceback (most recent call last)",
      "Cell \u001b[0;32mIn[1], line 2\u001b[0m\n\u001b[1;32m      1\u001b[0m \u001b[38;5;28;01mimport\u001b[39;00m \u001b[38;5;21;01mpandas\u001b[39;00m \u001b[38;5;28;01mas\u001b[39;00m \u001b[38;5;21;01mpd\u001b[39;00m\n\u001b[0;32m----> 2\u001b[0m \u001b[38;5;28;01mfrom\u001b[39;00m \u001b[38;5;21;01mydata_profiling\u001b[39;00m \u001b[38;5;28;01mimport\u001b[39;00m ProfileReport\n",
      "\u001b[0;31mModuleNotFoundError\u001b[0m: No module named 'ydata_profiling'"
     ]
    }
   ],
   "source": [
    "import pandas as pd\n",
    "from ydata_profiling import ProfileReport"
   ]
  }
 ],
 "metadata": {
  "kernelspec": {
   "display_name": "Python 3",
   "language": "python",
   "name": "python3"
  },
  "language_info": {
   "codemirror_mode": {
    "name": "ipython",
    "version": 3
   },
   "file_extension": ".py",
   "mimetype": "text/x-python",
   "name": "python",
   "nbconvert_exporter": "python",
   "pygments_lexer": "ipython3",
   "version": "3.12.1"
  }
 },
 "nbformat": 4,
 "nbformat_minor": 2
}

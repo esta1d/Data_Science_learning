{
 "cells": [
  {
   "cell_type": "markdown",
   "metadata": {},
   "source": [
    "# Использование различных методов оптимизации поиска гиперпараметров модели"
   ]
  },
  {
   "cell_type": "markdown",
   "metadata": {},
   "source": [
    "## Предсказание биологического ответа молекул"
   ]
  },
  {
   "cell_type": "markdown",
   "metadata": {},
   "source": [
    "### Знакомство с данными"
   ]
  },
  {
   "cell_type": "code",
   "execution_count": 3,
   "metadata": {},
   "outputs": [],
   "source": [
    "import pandas as pd\n",
    "import numpy as np\n",
    "import plotly.io as pio\n",
    "import optuna\n",
    "\n",
    "from sklearn.model_selection import train_test_split, cross_validate, cross_val_score, KFold, GridSearchCV, RandomizedSearchCV\n",
    "from sklearn.linear_model import LogisticRegression\n",
    "from sklearn.ensemble import RandomForestClassifier\n",
    "from sklearn import metrics\n",
    "from hyperopt import hp, fmin, tpe, Trials, space_eval\n",
    "\n",
    "pio.renderers.default = 'png'"
   ]
  },
  {
   "cell_type": "code",
   "execution_count": 5,
   "metadata": {},
   "outputs": [
    {
     "data": {
      "text/html": [
       "<div>\n",
       "<style scoped>\n",
       "    .dataframe tbody tr th:only-of-type {\n",
       "        vertical-align: middle;\n",
       "    }\n",
       "\n",
       "    .dataframe tbody tr th {\n",
       "        vertical-align: top;\n",
       "    }\n",
       "\n",
       "    .dataframe thead th {\n",
       "        text-align: right;\n",
       "    }\n",
       "</style>\n",
       "<table border=\"1\" class=\"dataframe\">\n",
       "  <thead>\n",
       "    <tr style=\"text-align: right;\">\n",
       "      <th></th>\n",
       "      <th>Activity</th>\n",
       "      <th>D1</th>\n",
       "      <th>D2</th>\n",
       "      <th>D3</th>\n",
       "      <th>D4</th>\n",
       "      <th>D5</th>\n",
       "      <th>D6</th>\n",
       "      <th>D7</th>\n",
       "      <th>D8</th>\n",
       "      <th>D9</th>\n",
       "      <th>...</th>\n",
       "      <th>D1767</th>\n",
       "      <th>D1768</th>\n",
       "      <th>D1769</th>\n",
       "      <th>D1770</th>\n",
       "      <th>D1771</th>\n",
       "      <th>D1772</th>\n",
       "      <th>D1773</th>\n",
       "      <th>D1774</th>\n",
       "      <th>D1775</th>\n",
       "      <th>D1776</th>\n",
       "    </tr>\n",
       "  </thead>\n",
       "  <tbody>\n",
       "    <tr>\n",
       "      <th>0</th>\n",
       "      <td>1</td>\n",
       "      <td>0.000000</td>\n",
       "      <td>0.497009</td>\n",
       "      <td>0.10</td>\n",
       "      <td>0.0</td>\n",
       "      <td>0.132956</td>\n",
       "      <td>0.678031</td>\n",
       "      <td>0.273166</td>\n",
       "      <td>0.585445</td>\n",
       "      <td>0.743663</td>\n",
       "      <td>...</td>\n",
       "      <td>0</td>\n",
       "      <td>0</td>\n",
       "      <td>0</td>\n",
       "      <td>0</td>\n",
       "      <td>0</td>\n",
       "      <td>0</td>\n",
       "      <td>0</td>\n",
       "      <td>0</td>\n",
       "      <td>0</td>\n",
       "      <td>0</td>\n",
       "    </tr>\n",
       "    <tr>\n",
       "      <th>1</th>\n",
       "      <td>1</td>\n",
       "      <td>0.366667</td>\n",
       "      <td>0.606291</td>\n",
       "      <td>0.05</td>\n",
       "      <td>0.0</td>\n",
       "      <td>0.111209</td>\n",
       "      <td>0.803455</td>\n",
       "      <td>0.106105</td>\n",
       "      <td>0.411754</td>\n",
       "      <td>0.836582</td>\n",
       "      <td>...</td>\n",
       "      <td>1</td>\n",
       "      <td>1</td>\n",
       "      <td>1</td>\n",
       "      <td>1</td>\n",
       "      <td>0</td>\n",
       "      <td>1</td>\n",
       "      <td>0</td>\n",
       "      <td>0</td>\n",
       "      <td>1</td>\n",
       "      <td>0</td>\n",
       "    </tr>\n",
       "    <tr>\n",
       "      <th>2</th>\n",
       "      <td>1</td>\n",
       "      <td>0.033300</td>\n",
       "      <td>0.480124</td>\n",
       "      <td>0.00</td>\n",
       "      <td>0.0</td>\n",
       "      <td>0.209791</td>\n",
       "      <td>0.610350</td>\n",
       "      <td>0.356453</td>\n",
       "      <td>0.517720</td>\n",
       "      <td>0.679051</td>\n",
       "      <td>...</td>\n",
       "      <td>0</td>\n",
       "      <td>0</td>\n",
       "      <td>0</td>\n",
       "      <td>0</td>\n",
       "      <td>0</td>\n",
       "      <td>0</td>\n",
       "      <td>0</td>\n",
       "      <td>0</td>\n",
       "      <td>0</td>\n",
       "      <td>0</td>\n",
       "    </tr>\n",
       "    <tr>\n",
       "      <th>3</th>\n",
       "      <td>1</td>\n",
       "      <td>0.000000</td>\n",
       "      <td>0.538825</td>\n",
       "      <td>0.00</td>\n",
       "      <td>0.5</td>\n",
       "      <td>0.196344</td>\n",
       "      <td>0.724230</td>\n",
       "      <td>0.235606</td>\n",
       "      <td>0.288764</td>\n",
       "      <td>0.805110</td>\n",
       "      <td>...</td>\n",
       "      <td>0</td>\n",
       "      <td>0</td>\n",
       "      <td>0</td>\n",
       "      <td>0</td>\n",
       "      <td>0</td>\n",
       "      <td>0</td>\n",
       "      <td>0</td>\n",
       "      <td>0</td>\n",
       "      <td>0</td>\n",
       "      <td>0</td>\n",
       "    </tr>\n",
       "    <tr>\n",
       "      <th>4</th>\n",
       "      <td>0</td>\n",
       "      <td>0.100000</td>\n",
       "      <td>0.517794</td>\n",
       "      <td>0.00</td>\n",
       "      <td>0.0</td>\n",
       "      <td>0.494734</td>\n",
       "      <td>0.781422</td>\n",
       "      <td>0.154361</td>\n",
       "      <td>0.303809</td>\n",
       "      <td>0.812646</td>\n",
       "      <td>...</td>\n",
       "      <td>0</td>\n",
       "      <td>0</td>\n",
       "      <td>0</td>\n",
       "      <td>0</td>\n",
       "      <td>0</td>\n",
       "      <td>0</td>\n",
       "      <td>0</td>\n",
       "      <td>0</td>\n",
       "      <td>0</td>\n",
       "      <td>0</td>\n",
       "    </tr>\n",
       "  </tbody>\n",
       "</table>\n",
       "<p>5 rows × 1777 columns</p>\n",
       "</div>"
      ],
      "text/plain": [
       "   Activity        D1        D2    D3   D4        D5        D6        D7  \\\n",
       "0         1  0.000000  0.497009  0.10  0.0  0.132956  0.678031  0.273166   \n",
       "1         1  0.366667  0.606291  0.05  0.0  0.111209  0.803455  0.106105   \n",
       "2         1  0.033300  0.480124  0.00  0.0  0.209791  0.610350  0.356453   \n",
       "3         1  0.000000  0.538825  0.00  0.5  0.196344  0.724230  0.235606   \n",
       "4         0  0.100000  0.517794  0.00  0.0  0.494734  0.781422  0.154361   \n",
       "\n",
       "         D8        D9  ...  D1767  D1768  D1769  D1770  D1771  D1772  D1773  \\\n",
       "0  0.585445  0.743663  ...      0      0      0      0      0      0      0   \n",
       "1  0.411754  0.836582  ...      1      1      1      1      0      1      0   \n",
       "2  0.517720  0.679051  ...      0      0      0      0      0      0      0   \n",
       "3  0.288764  0.805110  ...      0      0      0      0      0      0      0   \n",
       "4  0.303809  0.812646  ...      0      0      0      0      0      0      0   \n",
       "\n",
       "   D1774  D1775  D1776  \n",
       "0      0      0      0  \n",
       "1      0      1      0  \n",
       "2      0      0      0  \n",
       "3      0      0      0  \n",
       "4      0      0      0  \n",
       "\n",
       "[5 rows x 1777 columns]"
      ]
     },
     "execution_count": 5,
     "metadata": {},
     "output_type": "execute_result"
    }
   ],
   "source": [
    "data = pd.read_csv('data/train_sem09.csv')\n",
    "data.head()"
   ]
  },
  {
   "cell_type": "markdown",
   "metadata": {},
   "source": [
    "* Первый столбец ``Activity`` содержит экспериментальные данные, описывающие фактический биологический ответ [0, 1];\n",
    "* Остальные столбцы ``D1-D1776`` представляют собой молекулярные дескрипторы — это вычисляемые свойства, которые могут фиксировать некоторые характеристики молекулы, например размер, форму или состав элементов."
   ]
  },
  {
   "cell_type": "code",
   "execution_count": 6,
   "metadata": {},
   "outputs": [
    {
     "data": {
      "text/plain": [
       "Activity    0\n",
       "D1          0\n",
       "D2          0\n",
       "D3          0\n",
       "D4          0\n",
       "dtype: int64"
      ]
     },
     "execution_count": 6,
     "metadata": {},
     "output_type": "execute_result"
    }
   ],
   "source": [
    "# Проверим пропуски в данных\n",
    "data.isna().sum().nlargest(5)"
   ]
  },
  {
   "cell_type": "code",
   "execution_count": 7,
   "metadata": {},
   "outputs": [
    {
     "data": {
      "text/plain": [
       "Activity\n",
       "1    0.542255\n",
       "0    0.457745\n",
       "Name: proportion, dtype: float64"
      ]
     },
     "execution_count": 7,
     "metadata": {},
     "output_type": "execute_result"
    }
   ],
   "source": [
    "# Проверим сбалансированность классов\n",
    "data['Activity'].value_counts(normalize=True)"
   ]
  },
  {
   "cell_type": "markdown",
   "metadata": {},
   "source": [
    "Классы сбалансированы, стратификация не понадобится. Т.к. данные предварительно обработаны, сразу же перейдём к этапу построения моделей."
   ]
  },
  {
   "cell_type": "markdown",
   "metadata": {},
   "source": [
    "### Logistic regression"
   ]
  },
  {
   "cell_type": "markdown",
   "metadata": {},
   "source": [
    "Базовый случай"
   ]
  },
  {
   "cell_type": "code",
   "execution_count": 8,
   "metadata": {},
   "outputs": [
    {
     "name": "stdout",
     "output_type": "stream",
     "text": [
      "CPU times: total: 0 ns\n",
      "Wall time: 0 ns\n",
      "Train F1-score CV: 0.89\n",
      "Validation F1-score CV: 0.78\n",
      "Test F1-score: 0.79\n"
     ]
    }
   ],
   "source": [
    "# Определяем константы для всего проекта\n",
    "RANDOM_STATE = 42\n",
    "TARGET_METRIC = 'f1'\n",
    "N_JOBS = -1\n",
    "# Разделяем выборки\n",
    "X, y = data.drop(columns='Activity'), data['Activity']\n",
    "X_train, X_test, y_train, y_test = train_test_split(X, y, random_state=RANDOM_STATE, test_size=0.2)\n",
    "# Создаем объект кросс валидации\n",
    "kfold = KFold(n_splits=10)\n",
    "# Создаем базовую модель логистической регрессии\n",
    "logreg_model = LogisticRegression(random_state=RANDOM_STATE, n_jobs=N_JOBS)\n",
    "# Считаем метрики кросс-валидации\n",
    "%time\n",
    "cv_metrics = cross_validate(\n",
    "    estimator=logreg_model,\n",
    "    X=X_train,\n",
    "    y=y_train,\n",
    "    cv=kfold,\n",
    "    return_train_score=True,\n",
    "    n_jobs=N_JOBS,\n",
    "    scoring=TARGET_METRIC\n",
    ")\n",
    "# Делаем предсказание для тестовой выборки\n",
    "logreg_model.fit(X_train, y_train)\n",
    "y_test_pred = logreg_model.predict(X_test)\n",
    "\n",
    "print('Train F1-score CV:', cv_metrics['train_score'].mean().round(2))\n",
    "print('Validation F1-score CV:', cv_metrics['test_score'].mean().round(2))\n",
    "print('Test F1-score:', metrics.f1_score(y_test, y_test_pred).round(2))"
   ]
  },
  {
   "cell_type": "markdown",
   "metadata": {},
   "source": [
    "### GridSearchCV"
   ]
  },
  {
   "cell_type": "code",
   "execution_count": 9,
   "metadata": {},
   "outputs": [
    {
     "name": "stderr",
     "output_type": "stream",
     "text": [
      "c:\\Users\\Admin\\AppData\\Local\\Programs\\Python\\Python310\\lib\\site-packages\\sklearn\\model_selection\\_validation.py:547: FitFailedWarning:\n",
      "\n",
      "\n",
      "225 fits failed out of a total of 450.\n",
      "The score on these train-test partitions for these parameters will be set to nan.\n",
      "If these failures are not expected, you can try to debug them by setting error_score='raise'.\n",
      "\n",
      "Below are more details about the failures:\n",
      "--------------------------------------------------------------------------------\n",
      "60 fits failed with the following error:\n",
      "Traceback (most recent call last):\n",
      "  File \"c:\\Users\\Admin\\AppData\\Local\\Programs\\Python\\Python310\\lib\\site-packages\\sklearn\\model_selection\\_validation.py\", line 895, in _fit_and_score\n",
      "    estimator.fit(X_train, y_train, **fit_params)\n",
      "  File \"c:\\Users\\Admin\\AppData\\Local\\Programs\\Python\\Python310\\lib\\site-packages\\sklearn\\base.py\", line 1467, in wrapper\n",
      "    estimator._validate_params()\n",
      "  File \"c:\\Users\\Admin\\AppData\\Local\\Programs\\Python\\Python310\\lib\\site-packages\\sklearn\\base.py\", line 666, in _validate_params\n",
      "    validate_parameter_constraints(\n",
      "  File \"c:\\Users\\Admin\\AppData\\Local\\Programs\\Python\\Python310\\lib\\site-packages\\sklearn\\utils\\_param_validation.py\", line 95, in validate_parameter_constraints\n",
      "    raise InvalidParameterError(\n",
      "sklearn.utils._param_validation.InvalidParameterError: The 'penalty' parameter of LogisticRegression must be a str among {'l1', 'l2', 'elasticnet'} or None. Got 'none' instead.\n",
      "\n",
      "--------------------------------------------------------------------------------\n",
      "58 fits failed with the following error:\n",
      "Traceback (most recent call last):\n",
      "  File \"c:\\Users\\Admin\\AppData\\Local\\Programs\\Python\\Python310\\lib\\site-packages\\sklearn\\model_selection\\_validation.py\", line 895, in _fit_and_score\n",
      "    estimator.fit(X_train, y_train, **fit_params)\n",
      "  File \"c:\\Users\\Admin\\AppData\\Local\\Programs\\Python\\Python310\\lib\\site-packages\\sklearn\\base.py\", line 1467, in wrapper\n",
      "    estimator._validate_params()\n",
      "  File \"c:\\Users\\Admin\\AppData\\Local\\Programs\\Python\\Python310\\lib\\site-packages\\sklearn\\base.py\", line 666, in _validate_params\n",
      "    validate_parameter_constraints(\n",
      "  File \"c:\\Users\\Admin\\AppData\\Local\\Programs\\Python\\Python310\\lib\\site-packages\\sklearn\\utils\\_param_validation.py\", line 95, in validate_parameter_constraints\n",
      "    raise InvalidParameterError(\n",
      "sklearn.utils._param_validation.InvalidParameterError: The 'penalty' parameter of LogisticRegression must be a str among {'l2', 'elasticnet', 'l1'} or None. Got 'none' instead.\n",
      "\n",
      "--------------------------------------------------------------------------------\n",
      "31 fits failed with the following error:\n",
      "Traceback (most recent call last):\n",
      "  File \"c:\\Users\\Admin\\AppData\\Local\\Programs\\Python\\Python310\\lib\\site-packages\\sklearn\\model_selection\\_validation.py\", line 895, in _fit_and_score\n",
      "    estimator.fit(X_train, y_train, **fit_params)\n",
      "  File \"c:\\Users\\Admin\\AppData\\Local\\Programs\\Python\\Python310\\lib\\site-packages\\sklearn\\base.py\", line 1467, in wrapper\n",
      "    estimator._validate_params()\n",
      "  File \"c:\\Users\\Admin\\AppData\\Local\\Programs\\Python\\Python310\\lib\\site-packages\\sklearn\\base.py\", line 666, in _validate_params\n",
      "    validate_parameter_constraints(\n",
      "  File \"c:\\Users\\Admin\\AppData\\Local\\Programs\\Python\\Python310\\lib\\site-packages\\sklearn\\utils\\_param_validation.py\", line 95, in validate_parameter_constraints\n",
      "    raise InvalidParameterError(\n",
      "sklearn.utils._param_validation.InvalidParameterError: The 'penalty' parameter of LogisticRegression must be a str among {'l1', 'elasticnet', 'l2'} or None. Got 'none' instead.\n",
      "\n",
      "--------------------------------------------------------------------------------\n",
      "20 fits failed with the following error:\n",
      "Traceback (most recent call last):\n",
      "  File \"c:\\Users\\Admin\\AppData\\Local\\Programs\\Python\\Python310\\lib\\site-packages\\sklearn\\model_selection\\_validation.py\", line 895, in _fit_and_score\n",
      "    estimator.fit(X_train, y_train, **fit_params)\n",
      "  File \"c:\\Users\\Admin\\AppData\\Local\\Programs\\Python\\Python310\\lib\\site-packages\\sklearn\\base.py\", line 1467, in wrapper\n",
      "    estimator._validate_params()\n",
      "  File \"c:\\Users\\Admin\\AppData\\Local\\Programs\\Python\\Python310\\lib\\site-packages\\sklearn\\base.py\", line 666, in _validate_params\n",
      "    validate_parameter_constraints(\n",
      "  File \"c:\\Users\\Admin\\AppData\\Local\\Programs\\Python\\Python310\\lib\\site-packages\\sklearn\\utils\\_param_validation.py\", line 95, in validate_parameter_constraints\n",
      "    raise InvalidParameterError(\n",
      "sklearn.utils._param_validation.InvalidParameterError: The 'penalty' parameter of LogisticRegression must be a str among {'elasticnet', 'l1', 'l2'} or None. Got 'none' instead.\n",
      "\n",
      "--------------------------------------------------------------------------------\n",
      "26 fits failed with the following error:\n",
      "Traceback (most recent call last):\n",
      "  File \"c:\\Users\\Admin\\AppData\\Local\\Programs\\Python\\Python310\\lib\\site-packages\\sklearn\\model_selection\\_validation.py\", line 895, in _fit_and_score\n",
      "    estimator.fit(X_train, y_train, **fit_params)\n",
      "  File \"c:\\Users\\Admin\\AppData\\Local\\Programs\\Python\\Python310\\lib\\site-packages\\sklearn\\base.py\", line 1467, in wrapper\n",
      "    estimator._validate_params()\n",
      "  File \"c:\\Users\\Admin\\AppData\\Local\\Programs\\Python\\Python310\\lib\\site-packages\\sklearn\\base.py\", line 666, in _validate_params\n",
      "    validate_parameter_constraints(\n",
      "  File \"c:\\Users\\Admin\\AppData\\Local\\Programs\\Python\\Python310\\lib\\site-packages\\sklearn\\utils\\_param_validation.py\", line 95, in validate_parameter_constraints\n",
      "    raise InvalidParameterError(\n",
      "sklearn.utils._param_validation.InvalidParameterError: The 'penalty' parameter of LogisticRegression must be a str among {'elasticnet', 'l2', 'l1'} or None. Got 'none' instead.\n",
      "\n",
      "--------------------------------------------------------------------------------\n",
      "30 fits failed with the following error:\n",
      "Traceback (most recent call last):\n",
      "  File \"c:\\Users\\Admin\\AppData\\Local\\Programs\\Python\\Python310\\lib\\site-packages\\sklearn\\model_selection\\_validation.py\", line 895, in _fit_and_score\n",
      "    estimator.fit(X_train, y_train, **fit_params)\n",
      "  File \"c:\\Users\\Admin\\AppData\\Local\\Programs\\Python\\Python310\\lib\\site-packages\\sklearn\\base.py\", line 1467, in wrapper\n",
      "    estimator._validate_params()\n",
      "  File \"c:\\Users\\Admin\\AppData\\Local\\Programs\\Python\\Python310\\lib\\site-packages\\sklearn\\base.py\", line 666, in _validate_params\n",
      "    validate_parameter_constraints(\n",
      "  File \"c:\\Users\\Admin\\AppData\\Local\\Programs\\Python\\Python310\\lib\\site-packages\\sklearn\\utils\\_param_validation.py\", line 95, in validate_parameter_constraints\n",
      "    raise InvalidParameterError(\n",
      "sklearn.utils._param_validation.InvalidParameterError: The 'penalty' parameter of LogisticRegression must be a str among {'l2', 'l1', 'elasticnet'} or None. Got 'none' instead.\n",
      "\n",
      "\n",
      "c:\\Users\\Admin\\AppData\\Local\\Programs\\Python\\Python310\\lib\\site-packages\\sklearn\\model_selection\\_search.py:1051: UserWarning:\n",
      "\n",
      "One or more of the test scores are non-finite: [0.75566667 0.75566667 0.75566667        nan        nan        nan\n",
      " 0.75533333 0.75533333 0.75566667        nan        nan        nan\n",
      " 0.754      0.755      0.75433333        nan        nan        nan\n",
      " 0.75033333 0.75       0.74933333        nan        nan        nan\n",
      " 0.75       0.74966667 0.74933333        nan        nan        nan\n",
      " 0.74466667 0.745      0.745             nan        nan        nan\n",
      " 0.74866667 0.74866667 0.74733333        nan        nan        nan\n",
      " 0.749      0.74833333 0.74866667        nan        nan        nan\n",
      " 0.75166667 0.75033333 0.75033333        nan        nan        nan\n",
      " 0.751      0.74966667 0.75033333        nan        nan        nan\n",
      " 0.749      0.74833333 0.751             nan        nan        nan\n",
      " 0.74766667 0.74833333 0.75133333        nan        nan        nan\n",
      " 0.74766667 0.74833333 0.751             nan        nan        nan\n",
      " 0.74833333 0.74833333 0.75              nan        nan        nan\n",
      " 0.74833333 0.748      0.74933333        nan        nan        nan]\n",
      "\n"
     ]
    },
    {
     "name": "stdout",
     "output_type": "stream",
     "text": [
      "CPU times: total: 750 ms\n",
      "Wall time: 1min 57s\n",
      "Best test F1-score on GridSearchCV: 0.8\n",
      "Best params on GridSearchCV: {'C': 0.01, 'penalty': 'l2', 'solver': 'lbfgs'}\n"
     ]
    }
   ],
   "source": [
    "param_grid = [\n",
    "    {\n",
    "        'penalty': np.array(['l2', 'none']),\n",
    "        'solver': np.array(['lbfgs', 'newton-cg', 'sag']),\n",
    "        'C': np.linspace(0.01, 5, 15)\n",
    "    }\n",
    "]\n",
    "# Зададим поменьше фолдов для валидации, чтобы уменьшить время обучения\n",
    "kfold = KFold(n_splits=5)\n",
    "gridsearch = GridSearchCV(\n",
    "    estimator=LogisticRegression(\n",
    "        random_state=RANDOM_STATE,\n",
    "        n_jobs=N_JOBS,\n",
    "        max_iter=500\n",
    "    ),\n",
    "    cv=kfold,\n",
    "    param_grid=param_grid,\n",
    "    n_jobs=N_JOBS\n",
    ")\n",
    "# Обучаем модель на сетке параметров\n",
    "%time gridsearch.fit(X_train, y_train)\n",
    "y_test_pred = gridsearch.predict(X_test)\n",
    "print('Best test F1-score on GridSearchCV:', metrics.f1_score(y_test, y_test_pred).round(2))\n",
    "print('Best params on GridSearchCV:', gridsearch.best_params_)"
   ]
  },
  {
   "cell_type": "markdown",
   "metadata": {},
   "source": [
    "### RandomizedSearchCV"
   ]
  },
  {
   "cell_type": "code",
   "execution_count": 10,
   "metadata": {},
   "outputs": [
    {
     "name": "stderr",
     "output_type": "stream",
     "text": [
      "c:\\Users\\Admin\\AppData\\Local\\Programs\\Python\\Python310\\lib\\site-packages\\sklearn\\model_selection\\_validation.py:547: FitFailedWarning:\n",
      "\n",
      "\n",
      "40 fits failed out of a total of 100.\n",
      "The score on these train-test partitions for these parameters will be set to nan.\n",
      "If these failures are not expected, you can try to debug them by setting error_score='raise'.\n",
      "\n",
      "Below are more details about the failures:\n",
      "--------------------------------------------------------------------------------\n",
      "12 fits failed with the following error:\n",
      "Traceback (most recent call last):\n",
      "  File \"c:\\Users\\Admin\\AppData\\Local\\Programs\\Python\\Python310\\lib\\site-packages\\sklearn\\model_selection\\_validation.py\", line 895, in _fit_and_score\n",
      "    estimator.fit(X_train, y_train, **fit_params)\n",
      "  File \"c:\\Users\\Admin\\AppData\\Local\\Programs\\Python\\Python310\\lib\\site-packages\\sklearn\\base.py\", line 1467, in wrapper\n",
      "    estimator._validate_params()\n",
      "  File \"c:\\Users\\Admin\\AppData\\Local\\Programs\\Python\\Python310\\lib\\site-packages\\sklearn\\base.py\", line 666, in _validate_params\n",
      "    validate_parameter_constraints(\n",
      "  File \"c:\\Users\\Admin\\AppData\\Local\\Programs\\Python\\Python310\\lib\\site-packages\\sklearn\\utils\\_param_validation.py\", line 95, in validate_parameter_constraints\n",
      "    raise InvalidParameterError(\n",
      "sklearn.utils._param_validation.InvalidParameterError: The 'penalty' parameter of LogisticRegression must be a str among {'l1', 'elasticnet', 'l2'} or None. Got 'none' instead.\n",
      "\n",
      "--------------------------------------------------------------------------------\n",
      "3 fits failed with the following error:\n",
      "Traceback (most recent call last):\n",
      "  File \"c:\\Users\\Admin\\AppData\\Local\\Programs\\Python\\Python310\\lib\\site-packages\\sklearn\\model_selection\\_validation.py\", line 895, in _fit_and_score\n",
      "    estimator.fit(X_train, y_train, **fit_params)\n",
      "  File \"c:\\Users\\Admin\\AppData\\Local\\Programs\\Python\\Python310\\lib\\site-packages\\sklearn\\base.py\", line 1467, in wrapper\n",
      "    estimator._validate_params()\n",
      "  File \"c:\\Users\\Admin\\AppData\\Local\\Programs\\Python\\Python310\\lib\\site-packages\\sklearn\\base.py\", line 666, in _validate_params\n",
      "    validate_parameter_constraints(\n",
      "  File \"c:\\Users\\Admin\\AppData\\Local\\Programs\\Python\\Python310\\lib\\site-packages\\sklearn\\utils\\_param_validation.py\", line 95, in validate_parameter_constraints\n",
      "    raise InvalidParameterError(\n",
      "sklearn.utils._param_validation.InvalidParameterError: The 'penalty' parameter of LogisticRegression must be a str among {'l2', 'l1', 'elasticnet'} or None. Got 'none' instead.\n",
      "\n",
      "--------------------------------------------------------------------------------\n",
      "6 fits failed with the following error:\n",
      "Traceback (most recent call last):\n",
      "  File \"c:\\Users\\Admin\\AppData\\Local\\Programs\\Python\\Python310\\lib\\site-packages\\sklearn\\model_selection\\_validation.py\", line 895, in _fit_and_score\n",
      "    estimator.fit(X_train, y_train, **fit_params)\n",
      "  File \"c:\\Users\\Admin\\AppData\\Local\\Programs\\Python\\Python310\\lib\\site-packages\\sklearn\\base.py\", line 1467, in wrapper\n",
      "    estimator._validate_params()\n",
      "  File \"c:\\Users\\Admin\\AppData\\Local\\Programs\\Python\\Python310\\lib\\site-packages\\sklearn\\base.py\", line 666, in _validate_params\n",
      "    validate_parameter_constraints(\n",
      "  File \"c:\\Users\\Admin\\AppData\\Local\\Programs\\Python\\Python310\\lib\\site-packages\\sklearn\\utils\\_param_validation.py\", line 95, in validate_parameter_constraints\n",
      "    raise InvalidParameterError(\n",
      "sklearn.utils._param_validation.InvalidParameterError: The 'penalty' parameter of LogisticRegression must be a str among {'elasticnet', 'l1', 'l2'} or None. Got 'none' instead.\n",
      "\n",
      "--------------------------------------------------------------------------------\n",
      "10 fits failed with the following error:\n",
      "Traceback (most recent call last):\n",
      "  File \"c:\\Users\\Admin\\AppData\\Local\\Programs\\Python\\Python310\\lib\\site-packages\\sklearn\\model_selection\\_validation.py\", line 895, in _fit_and_score\n",
      "    estimator.fit(X_train, y_train, **fit_params)\n",
      "  File \"c:\\Users\\Admin\\AppData\\Local\\Programs\\Python\\Python310\\lib\\site-packages\\sklearn\\base.py\", line 1467, in wrapper\n",
      "    estimator._validate_params()\n",
      "  File \"c:\\Users\\Admin\\AppData\\Local\\Programs\\Python\\Python310\\lib\\site-packages\\sklearn\\base.py\", line 666, in _validate_params\n",
      "    validate_parameter_constraints(\n",
      "  File \"c:\\Users\\Admin\\AppData\\Local\\Programs\\Python\\Python310\\lib\\site-packages\\sklearn\\utils\\_param_validation.py\", line 95, in validate_parameter_constraints\n",
      "    raise InvalidParameterError(\n",
      "sklearn.utils._param_validation.InvalidParameterError: The 'penalty' parameter of LogisticRegression must be a str among {'l2', 'elasticnet', 'l1'} or None. Got 'none' instead.\n",
      "\n",
      "--------------------------------------------------------------------------------\n",
      "5 fits failed with the following error:\n",
      "Traceback (most recent call last):\n",
      "  File \"c:\\Users\\Admin\\AppData\\Local\\Programs\\Python\\Python310\\lib\\site-packages\\sklearn\\model_selection\\_validation.py\", line 895, in _fit_and_score\n",
      "    estimator.fit(X_train, y_train, **fit_params)\n",
      "  File \"c:\\Users\\Admin\\AppData\\Local\\Programs\\Python\\Python310\\lib\\site-packages\\sklearn\\base.py\", line 1467, in wrapper\n",
      "    estimator._validate_params()\n",
      "  File \"c:\\Users\\Admin\\AppData\\Local\\Programs\\Python\\Python310\\lib\\site-packages\\sklearn\\base.py\", line 666, in _validate_params\n",
      "    validate_parameter_constraints(\n",
      "  File \"c:\\Users\\Admin\\AppData\\Local\\Programs\\Python\\Python310\\lib\\site-packages\\sklearn\\utils\\_param_validation.py\", line 95, in validate_parameter_constraints\n",
      "    raise InvalidParameterError(\n",
      "sklearn.utils._param_validation.InvalidParameterError: The 'penalty' parameter of LogisticRegression must be a str among {'l1', 'l2', 'elasticnet'} or None. Got 'none' instead.\n",
      "\n",
      "--------------------------------------------------------------------------------\n",
      "4 fits failed with the following error:\n",
      "Traceback (most recent call last):\n",
      "  File \"c:\\Users\\Admin\\AppData\\Local\\Programs\\Python\\Python310\\lib\\site-packages\\sklearn\\model_selection\\_validation.py\", line 895, in _fit_and_score\n",
      "    estimator.fit(X_train, y_train, **fit_params)\n",
      "  File \"c:\\Users\\Admin\\AppData\\Local\\Programs\\Python\\Python310\\lib\\site-packages\\sklearn\\base.py\", line 1467, in wrapper\n",
      "    estimator._validate_params()\n",
      "  File \"c:\\Users\\Admin\\AppData\\Local\\Programs\\Python\\Python310\\lib\\site-packages\\sklearn\\base.py\", line 666, in _validate_params\n",
      "    validate_parameter_constraints(\n",
      "  File \"c:\\Users\\Admin\\AppData\\Local\\Programs\\Python\\Python310\\lib\\site-packages\\sklearn\\utils\\_param_validation.py\", line 95, in validate_parameter_constraints\n",
      "    raise InvalidParameterError(\n",
      "sklearn.utils._param_validation.InvalidParameterError: The 'penalty' parameter of LogisticRegression must be a str among {'elasticnet', 'l2', 'l1'} or None. Got 'none' instead.\n",
      "\n",
      "\n",
      "c:\\Users\\Admin\\AppData\\Local\\Programs\\Python\\Python310\\lib\\site-packages\\sklearn\\model_selection\\_search.py:1051: UserWarning:\n",
      "\n",
      "One or more of the test scores are non-finite: [0.74833333        nan 0.74833333        nan 0.74466667        nan\n",
      "        nan 0.754      0.75033333        nan 0.75566667 0.751\n",
      " 0.74833333 0.75              nan        nan 0.74933333 0.75166667\n",
      "        nan 0.74866667]\n",
      "\n"
     ]
    },
    {
     "name": "stdout",
     "output_type": "stream",
     "text": [
      "CPU times: total: 11.9 s\n",
      "Wall time: 50.1 s\n",
      "Best test F1-score on RandomizedSearchCV: 0.78\n",
      "Best params on RandomizedSearchCV: {'solver': 'sag', 'penalty': 'l2', 'C': 0.36642857142857144}\n"
     ]
    },
    {
     "name": "stderr",
     "output_type": "stream",
     "text": [
      "c:\\Users\\Admin\\AppData\\Local\\Programs\\Python\\Python310\\lib\\site-packages\\sklearn\\linear_model\\_sag.py:350: ConvergenceWarning:\n",
      "\n",
      "The max_iter was reached which means the coef_ did not converge\n",
      "\n"
     ]
    }
   ],
   "source": [
    "rand_gridsearch = RandomizedSearchCV(\n",
    "    estimator=LogisticRegression(\n",
    "        random_state=RANDOM_STATE,\n",
    "        n_jobs=N_JOBS,\n",
    "        max_iter=500\n",
    "    ),\n",
    "    cv=kfold,\n",
    "    param_distributions=param_grid,\n",
    "    n_jobs=N_JOBS,\n",
    "    n_iter=20\n",
    ")\n",
    "# Обучаем модель на сетке параметров\n",
    "%time rand_gridsearch.fit(X_train, y_train)\n",
    "y_test_pred = rand_gridsearch.predict(X_test)\n",
    "print('Best test F1-score on RandomizedSearchCV:', metrics.f1_score(y_test, y_test_pred).round(2))\n",
    "print('Best params on RandomizedSearchCV:', rand_gridsearch.best_params_)"
   ]
  },
  {
   "cell_type": "markdown",
   "metadata": {},
   "source": [
    "Промежуточный вывод\n",
    "\n",
    "* ``GridSearchCV`` на тестовой выборке показал результат $F1 = 0.8$ и потратил 2 мин на прогон всех параметров.\n",
    "* ``RandomizedSearchCV`` на тестовой выборке показал результат $F1 = 0.78$ и потратил 50s на 20 итераций.\n",
    "\n",
    "Благодаря ``GridSearchCV`` можно заметить, что коэффициент регуляризации ``C`` в данном случае лучше брать $<1$\n",
    ", это улучшает метрику. Будем отталкиваться от этого, подбирая параметры с помощью следующих способов."
   ]
  },
  {
   "cell_type": "markdown",
   "metadata": {},
   "source": [
    "### Hyperopt"
   ]
  },
  {
   "cell_type": "code",
   "execution_count": 14,
   "metadata": {},
   "outputs": [
    {
     "name": "stdout",
     "output_type": "stream",
     "text": [
      "100%|██████████| 40/40 [00:49<00:00,  1.24s/trial, best loss: -0.7850008812445849]\n",
      "Best params Hyperopt: {'C': 0.042219097013541804, 'penalty': 'l2', 'solver': 'lbfgs'}\n"
     ]
    }
   ],
   "source": [
    "def hyperopt_logreg(params, cv=kfold, X=X_train, y=y_train):\n",
    "    model = LogisticRegression(**params, random_state=RANDOM_STATE, n_jobs=N_JOBS)\n",
    "    # кросс-валидация\n",
    "    score = cross_val_score(model, X, y, cv=cv, scoring=TARGET_METRIC, n_jobs=N_JOBS).mean()\n",
    "    # метрику необходимо минимизировать, поэтому ставим знак минус\n",
    "    return -score\n",
    "\n",
    "params = {\n",
    "    'penalty': hp.choice('penalty', ['l2', None]),\n",
    "    'solver': hp.choice('solver', ['lbfgs', 'newton-cg', 'sag']),\n",
    "    'C': hp.uniform('C', 0.001, 1)\n",
    "}\n",
    "trials = Trials()\n",
    "\n",
    "best_hp = fmin(\n",
    "    hyperopt_logreg, \n",
    "    space=params,\n",
    "    algo=tpe.suggest,\n",
    "    max_evals=40,\n",
    "    trials=trials, \n",
    "    rstate=np.random.default_rng(RANDOM_STATE)\n",
    ")\n",
    "best_params_hp = space_eval(params, best_hp)\n",
    "print('Best params Hyperopt:', best_params_hp)"
   ]
  },
  {
   "cell_type": "code",
   "execution_count": 15,
   "metadata": {},
   "outputs": [
    {
     "name": "stdout",
     "output_type": "stream",
     "text": [
      "Best test F1-score on Hyperopt: 0.8\n"
     ]
    }
   ],
   "source": [
    "# Подставим лучшие параметры Hyperopt в модель и посчитаем F1-score для тестовой выборки\n",
    "logreg_model = LogisticRegression(\n",
    "    **best_params_hp,\n",
    "    random_state=RANDOM_STATE,\n",
    "    n_jobs=N_JOBS\n",
    ")\n",
    "\n",
    "logreg_model.fit(X_train, y_train)\n",
    "y_test_pred = logreg_model.predict(X_test)\n",
    "print('Best test F1-score on Hyperopt:', metrics.f1_score(y_test, y_test_pred).round(2))"
   ]
  },
  {
   "cell_type": "markdown",
   "metadata": {},
   "source": [
    "### Optuna"
   ]
  },
  {
   "cell_type": "code",
   "execution_count": 17,
   "metadata": {},
   "outputs": [
    {
     "name": "stderr",
     "output_type": "stream",
     "text": [
      "[I 2024-12-06 07:35:03,513] A new study created in memory with name: LogisticRegression\n",
      "[I 2024-12-06 07:35:05,909] Trial 0 finished with value: 0.7818876661372667 and parameters: {'penalty': 'l2', 'solver': 'sag', 'C': 0.14853323637957053}. Best is trial 0 with value: 0.7818876661372667.\n",
      "[I 2024-12-06 07:35:07,044] Trial 1 finished with value: 0.7731227157569494 and parameters: {'penalty': 'l2', 'solver': 'newton-cg', 'C': 0.6527394504944836}. Best is trial 0 with value: 0.7818876661372667.\n",
      "[I 2024-12-06 07:35:07,878] Trial 2 finished with value: 0.7580612710100813 and parameters: {'penalty': None, 'solver': 'lbfgs', 'C': 0.3625605085238783}. Best is trial 0 with value: 0.7818876661372667.\n",
      "[I 2024-12-06 07:35:18,765] Trial 3 finished with value: 0.7208718393949456 and parameters: {'penalty': None, 'solver': 'newton-cg', 'C': 0.7545067222713945}. Best is trial 0 with value: 0.7818876661372667.\n",
      "[I 2024-12-06 07:35:21,518] Trial 4 finished with value: 0.7698427175392598 and parameters: {'penalty': None, 'solver': 'sag', 'C': 0.411085264629565}. Best is trial 0 with value: 0.7818876661372667.\n",
      "[I 2024-12-06 07:35:32,427] Trial 5 finished with value: 0.7208718393949456 and parameters: {'penalty': None, 'solver': 'newton-cg', 'C': 0.9932290804352158}. Best is trial 0 with value: 0.7818876661372667.\n",
      "[I 2024-12-06 07:35:43,380] Trial 6 finished with value: 0.7208718393949456 and parameters: {'penalty': None, 'solver': 'newton-cg', 'C': 0.9977487440370185}. Best is trial 0 with value: 0.7818876661372667.\n",
      "[I 2024-12-06 07:35:45,596] Trial 7 finished with value: 0.7817847736257455 and parameters: {'penalty': 'l2', 'solver': 'sag', 'C': 0.13769024750707623}. Best is trial 0 with value: 0.7818876661372667.\n",
      "[I 2024-12-06 07:35:46,671] Trial 8 finished with value: 0.7721048202548386 and parameters: {'penalty': 'l2', 'solver': 'newton-cg', 'C': 0.5045964878242108}. Best is trial 0 with value: 0.7818876661372667.\n",
      "[I 2024-12-06 07:35:48,886] Trial 9 finished with value: 0.7698427175392598 and parameters: {'penalty': None, 'solver': 'sag', 'C': 0.08611349696471338}. Best is trial 0 with value: 0.7818876661372667.\n",
      "[I 2024-12-06 07:35:49,293] Trial 10 finished with value: 0.7570688805144689 and parameters: {'penalty': 'l2', 'solver': 'lbfgs', 'C': 0.0021975268665350434}. Best is trial 0 with value: 0.7818876661372667.\n",
      "[I 2024-12-06 07:35:51,741] Trial 11 finished with value: 0.7796927473656147 and parameters: {'penalty': 'l2', 'solver': 'sag', 'C': 0.19691759846168616}. Best is trial 0 with value: 0.7818876661372667.\n",
      "[I 2024-12-06 07:35:53,925] Trial 12 finished with value: 0.7796927473656147 and parameters: {'penalty': 'l2', 'solver': 'sag', 'C': 0.20329475305471464}. Best is trial 0 with value: 0.7818876661372667.\n",
      "[I 2024-12-06 07:35:56,214] Trial 13 finished with value: 0.7789623995088468 and parameters: {'penalty': 'l2', 'solver': 'sag', 'C': 0.22936077243996428}. Best is trial 0 with value: 0.7818876661372667.\n",
      "[I 2024-12-06 07:35:58,554] Trial 14 finished with value: 0.7757155038487761 and parameters: {'penalty': 'l2', 'solver': 'sag', 'C': 0.32251732976894765}. Best is trial 0 with value: 0.7818876661372667.\n",
      "[I 2024-12-06 07:35:59,578] Trial 15 finished with value: 0.763353191340255 and parameters: {'penalty': 'l2', 'solver': 'sag', 'C': 0.0032514121126358264}. Best is trial 0 with value: 0.7818876661372667.\n",
      "[I 2024-12-06 07:36:01,835] Trial 16 finished with value: 0.7817847736257455 and parameters: {'penalty': 'l2', 'solver': 'sag', 'C': 0.137841632169586}. Best is trial 0 with value: 0.7818876661372667.\n",
      "[I 2024-12-06 07:36:02,656] Trial 17 finished with value: 0.7725999961566055 and parameters: {'penalty': 'l2', 'solver': 'lbfgs', 'C': 0.5196613856647636}. Best is trial 0 with value: 0.7818876661372667.\n",
      "[I 2024-12-06 07:36:04,855] Trial 18 finished with value: 0.7763173386345306 and parameters: {'penalty': 'l2', 'solver': 'sag', 'C': 0.2972861722665734}. Best is trial 0 with value: 0.7818876661372667.\n",
      "[I 2024-12-06 07:36:07,276] Trial 19 finished with value: 0.7715889142034342 and parameters: {'penalty': 'l2', 'solver': 'sag', 'C': 0.638889281087441}. Best is trial 0 with value: 0.7818876661372667.\n",
      "[I 2024-12-06 07:36:08,101] Trial 20 finished with value: 0.7811358306706159 and parameters: {'penalty': 'l2', 'solver': 'lbfgs', 'C': 0.10003909368664227}. Best is trial 0 with value: 0.7818876661372667.\n",
      "[I 2024-12-06 07:36:10,279] Trial 21 finished with value: 0.7818762541721761 and parameters: {'penalty': 'l2', 'solver': 'sag', 'C': 0.11793859220782546}. Best is trial 0 with value: 0.7818876661372667.\n",
      "[I 2024-12-06 07:36:12,476] Trial 22 finished with value: 0.7777224099584271 and parameters: {'penalty': 'l2', 'solver': 'sag', 'C': 0.251055124526821}. Best is trial 0 with value: 0.7818876661372667.\n",
      "[I 2024-12-06 07:36:14,731] Trial 23 finished with value: 0.7817392340050237 and parameters: {'penalty': 'l2', 'solver': 'sag', 'C': 0.11597837391256421}. Best is trial 0 with value: 0.7818876661372667.\n",
      "[I 2024-12-06 07:36:17,036] Trial 24 finished with value: 0.7723416667070152 and parameters: {'penalty': 'l2', 'solver': 'sag', 'C': 0.4151120425770557}. Best is trial 0 with value: 0.7818876661372667.\n",
      "[I 2024-12-06 07:36:19,610] Trial 25 finished with value: 0.7827218829832233 and parameters: {'penalty': 'l2', 'solver': 'sag', 'C': 0.06325970950804449}. Best is trial 25 with value: 0.7827218829832233.\n",
      "[I 2024-12-06 07:36:22,137] Trial 26 finished with value: 0.7851442373420757 and parameters: {'penalty': 'l2', 'solver': 'sag', 'C': 0.04836913022172315}. Best is trial 26 with value: 0.7851442373420757.\n",
      "[I 2024-12-06 07:36:24,742] Trial 27 finished with value: 0.7828362090972261 and parameters: {'penalty': 'l2', 'solver': 'sag', 'C': 0.06590832223832604}. Best is trial 26 with value: 0.7851442373420757.\n",
      "[I 2024-12-06 07:36:27,597] Trial 28 finished with value: 0.784161996935639 and parameters: {'penalty': 'l2', 'solver': 'sag', 'C': 0.0553281777754269}. Best is trial 26 with value: 0.7851442373420757.\n",
      "[I 2024-12-06 07:36:28,291] Trial 29 finished with value: 0.7857107596140276 and parameters: {'penalty': 'l2', 'solver': 'lbfgs', 'C': 0.03880531710847696}. Best is trial 29 with value: 0.7857107596140276.\n",
      "[I 2024-12-06 07:36:29,122] Trial 30 finished with value: 0.7801827975610395 and parameters: {'penalty': 'l2', 'solver': 'lbfgs', 'C': 0.20077710691124984}. Best is trial 29 with value: 0.7857107596140276.\n",
      "[I 2024-12-06 07:36:29,851] Trial 31 finished with value: 0.7848750989046457 and parameters: {'penalty': 'l2', 'solver': 'lbfgs', 'C': 0.03671456335919194}. Best is trial 29 with value: 0.7857107596140276.\n",
      "[I 2024-12-06 07:36:30,353] Trial 32 finished with value: 0.7700238330991458 and parameters: {'penalty': 'l2', 'solver': 'lbfgs', 'C': 0.006865421410541174}. Best is trial 29 with value: 0.7857107596140276.\n",
      "[I 2024-12-06 07:36:31,128] Trial 33 finished with value: 0.7840625998093116 and parameters: {'penalty': 'l2', 'solver': 'lbfgs', 'C': 0.04898442545216162}. Best is trial 29 with value: 0.7857107596140276.\n",
      "[I 2024-12-06 07:36:31,984] Trial 34 finished with value: 0.7808051275605812 and parameters: {'penalty': 'l2', 'solver': 'lbfgs', 'C': 0.16962465433558813}. Best is trial 29 with value: 0.7857107596140276.\n",
      "[I 2024-12-06 07:36:32,815] Trial 35 finished with value: 0.7580612710100813 and parameters: {'penalty': None, 'solver': 'lbfgs', 'C': 0.27896231410124467}. Best is trial 29 with value: 0.7857107596140276.\n",
      "[I 2024-12-06 07:36:33,666] Trial 36 finished with value: 0.7716844385338751 and parameters: {'penalty': 'l2', 'solver': 'lbfgs', 'C': 0.843166251728579}. Best is trial 29 with value: 0.7857107596140276.\n",
      "[I 2024-12-06 07:36:34,514] Trial 37 finished with value: 0.7580612710100813 and parameters: {'penalty': None, 'solver': 'lbfgs', 'C': 0.35344301890664953}. Best is trial 29 with value: 0.7857107596140276.\n",
      "[I 2024-12-06 07:36:35,304] Trial 38 finished with value: 0.7843067823066591 and parameters: {'penalty': 'l2', 'solver': 'newton-cg', 'C': 0.04479915430180198}. Best is trial 29 with value: 0.7857107596140276.\n",
      "[I 2024-12-06 07:36:46,337] Trial 39 finished with value: 0.7208718393949456 and parameters: {'penalty': None, 'solver': 'newton-cg', 'C': 0.15865588969175615}. Best is trial 29 with value: 0.7857107596140276.\n"
     ]
    },
    {
     "name": "stdout",
     "output_type": "stream",
     "text": [
      "Best params Optuna: {'penalty': 'l2', 'solver': 'lbfgs', 'C': 0.03880531710847696}\n",
      "Best test F1-score on Optuna: 0.8\n"
     ]
    }
   ],
   "source": [
    "def optuna_logreg(trial, cv=kfold, X=X_train, y=y_train):\n",
    "    # задаем пространства поиска гиперпараметров\n",
    "    params = {\n",
    "        'penalty': trial.suggest_categorical('penalty', ['l2', None]),\n",
    "        'solver': trial.suggest_categorical('solver', ['lbfgs', 'newton-cg', 'sag']),\n",
    "        'C': trial.suggest_float('C', 0.001, 1)\n",
    "    }\n",
    "    # создаем модель\n",
    "    model = LogisticRegression(\n",
    "        **params,\n",
    "        random_state=RANDOM_STATE,\n",
    "        n_jobs=N_JOBS\n",
    "    )\n",
    "    # кросс-валидация\n",
    "    score = cross_val_score(model, X, y, cv=cv, scoring=TARGET_METRIC, n_jobs=N_JOBS).mean()\n",
    "\n",
    "    return score\n",
    "\n",
    "study = optuna.create_study(study_name='LogisticRegression', direction='maximize')\n",
    "study.optimize(optuna_logreg, n_trials=40)\n",
    "# Обучаем модель на лучших параметрах от Optuna\n",
    "logreg_model = LogisticRegression(\n",
    "    **study.best_params,\n",
    "    random_state=RANDOM_STATE,\n",
    "    n_jobs=N_JOBS\n",
    ")\n",
    "logreg_model.fit(X_train, y_train)\n",
    "y_test_pred = logreg_model.predict(X_test)\n",
    "\n",
    "print('Best params Optuna:', study.best_params)\n",
    "print('Best test F1-score on Optuna:', metrics.f1_score(y_test, y_test_pred).round(2))"
   ]
  },
  {
   "cell_type": "code",
   "execution_count": 18,
   "metadata": {},
   "outputs": [
    {
     "data": {
      "image/png": "[encoded data removed]"
     },
     "metadata": {},
     "output_type": "display_data"
    },
    {
     "data": {
      "image/png": "[encoded data removed]"
     },
     "metadata": {},
     "output_type": "display_data"
    }
   ],
   "source": [
    "fig_opt_hist = optuna.visualization.plot_optimization_history(study, target_name=\"f1_score\")\n",
    "fig_param_imp = optuna.visualization.plot_param_importances(study, target_name=\"f1_score\")\n",
    "fig_opt_hist.update_layout(width=900, height=400)\n",
    "fig_param_imp.update_layout(width=900, height=400)\n",
    "fig_opt_hist.show()\n",
    "fig_param_imp.show()"
   ]
  },
  {
   "cell_type": "markdown",
   "metadata": {},
   "source": [
    "Промежуточный вывод:\n",
    "\n",
    "По целевой метрике на тестовой выборке ``Optuna`` и ``Hyperopt`` не отличаются от ``GridSearchCV``, однако занимают гораздо меньше времени. RandomSearchCV показал результат $F1$ хуже на $0.02$.\n",
    "\n",
    "От параметра ``solver`` практически ничего не зависит в данном случае. Что ``sag``, что ``lbfgs`` показывают одинаковый результат, а newton-cg не был выбран ни одним методом в словарь лучших гиперпараметров.\n",
    "Наилучшим типом регуляризации ``penalty`` был выбран ``l2`` во всех методах оптимизации."
   ]
  },
  {
   "cell_type": "markdown",
   "metadata": {},
   "source": [
    "### Random forest"
   ]
  },
  {
   "cell_type": "markdown",
   "metadata": {},
   "source": [
    "Базовый случай"
   ]
  },
  {
   "cell_type": "code",
   "execution_count": 19,
   "metadata": {},
   "outputs": [
    {
     "name": "stdout",
     "output_type": "stream",
     "text": [
      "Train F1-score CV RandomForest: 1.0\n",
      "Validation F1-score CV RandomForest: 0.81\n",
      "Test F1-score RandomForest: 0.83\n"
     ]
    }
   ],
   "source": [
    "rf_model = RandomForestClassifier(\n",
    "    random_state=RANDOM_STATE,\n",
    "    n_jobs=N_JOBS\n",
    ")\n",
    "# Кросс-валидация\n",
    "cv_metrics = cross_validate(\n",
    "    rf_model,\n",
    "    X=X_train,\n",
    "    y=y_train,\n",
    "    scoring=TARGET_METRIC,\n",
    "    cv=kfold,\n",
    "    return_train_score=True,\n",
    "    n_jobs=N_JOBS\n",
    ")\n",
    "rf_model.fit(X_train, y_train)\n",
    "y_test_pred = rf_model.predict(X_test)\n",
    "\n",
    "print('Train F1-score CV RandomForest:', cv_metrics['train_score'].mean().round(2))\n",
    "print('Validation F1-score CV RandomForest:', cv_metrics['test_score'].mean().round(2))\n",
    "print('Test F1-score RandomForest:', metrics.f1_score(y_test, y_test_pred).round(2))"
   ]
  },
  {
   "cell_type": "markdown",
   "metadata": {},
   "source": [
    "### GridSearchCV"
   ]
  },
  {
   "cell_type": "code",
   "execution_count": 20,
   "metadata": {},
   "outputs": [
    {
     "name": "stdout",
     "output_type": "stream",
     "text": [
      "CPU times: total: 641 ms\n",
      "Wall time: 23.6 s\n",
      "Best params for RandomForest on GridSearchCV: {'criterion': 'entropy', 'max_depth': 15, 'min_samples_leaf': 1}\n",
      "Best CV F1-score for RandomForest on GridSearchCV: 0.81\n",
      "Best test F1-score for RandomForest on GridSearchCV: 0.84\n"
     ]
    }
   ],
   "source": [
    "param_grid = {\n",
    "    'criterion': np.array(['gini', 'entropy']),\n",
    "    'max_depth': np.arange(5, 16),\n",
    "    'min_samples_leaf': np.array([1, 5, 20])\n",
    "}\n",
    "\n",
    "gridsearch_rf = GridSearchCV(\n",
    "    estimator=RandomForestClassifier(\n",
    "        random_state=RANDOM_STATE,\n",
    "        n_jobs=N_JOBS\n",
    "    ),\n",
    "    param_grid=param_grid,\n",
    "    scoring=TARGET_METRIC,\n",
    "    cv=kfold,\n",
    "    n_jobs=N_JOBS\n",
    ")\n",
    "\n",
    "%time gridsearch_rf.fit(X_train, y_train)\n",
    "y_test_pred = gridsearch_rf.predict(X_test)\n",
    "\n",
    "print('Best params for RandomForest on GridSearchCV:', gridsearch_rf.best_params_)\n",
    "print('Best CV F1-score for RandomForest on GridSearchCV:', gridsearch_rf.best_score_.round(2))\n",
    "print('Best test F1-score for RandomForest on GridSearchCV:', metrics.f1_score(y_test, y_test_pred).round(2))"
   ]
  },
  {
   "cell_type": "markdown",
   "metadata": {},
   "source": [
    "### RandomizedSearchCV"
   ]
  },
  {
   "cell_type": "code",
   "execution_count": 21,
   "metadata": {},
   "outputs": [
    {
     "name": "stdout",
     "output_type": "stream",
     "text": [
      "CPU times: total: 406 ms\n",
      "Wall time: 18.3 s\n",
      "Best params for RandomForest on RandomizedSearchCV: {'min_samples_leaf': 1, 'max_depth': 15, 'criterion': 'gini'}\n",
      "Best CV F1-score for RandomForest on RandomizedSearchCV: 0.81\n",
      "Best test F1-score for RandomForest on RandomizedSearchCV: 0.84\n"
     ]
    }
   ],
   "source": [
    "randsearch_rf = RandomizedSearchCV(\n",
    "    estimator=RandomForestClassifier(\n",
    "        random_state=RANDOM_STATE,\n",
    "        n_jobs=N_JOBS\n",
    "    ),\n",
    "    param_distributions=param_grid,\n",
    "    scoring=TARGET_METRIC,\n",
    "    cv=kfold,\n",
    "    n_jobs=N_JOBS,\n",
    "    n_iter=50\n",
    ")\n",
    "\n",
    "%time randsearch_rf.fit(X_train, y_train)\n",
    "y_test_pred = randsearch_rf.predict(X_test)\n",
    "\n",
    "print('Best params for RandomForest on RandomizedSearchCV:', randsearch_rf.best_params_)\n",
    "print('Best CV F1-score for RandomForest on RandomizedSearchCV:', randsearch_rf.best_score_.round(2))\n",
    "print('Best test F1-score for RandomForest on RandomizedSearchCV:', metrics.f1_score(y_test, y_test_pred).round(2))"
   ]
  },
  {
   "cell_type": "markdown",
   "metadata": {},
   "source": [
    "Промежуточный вывод\n",
    "\n",
    "``RandomizedSearchCV`` показал себя лучше, чем ``GridSearchCV``, т.к. выдал аналогичный результат, потратив меньше времени."
   ]
  },
  {
   "cell_type": "markdown",
   "metadata": {},
   "source": [
    "### Hyperopt"
   ]
  },
  {
   "cell_type": "code",
   "execution_count": 22,
   "metadata": {},
   "outputs": [
    {
     "name": "stdout",
     "output_type": "stream",
     "text": [
      "100%|██████████| 50/50 [00:35<00:00,  1.41trial/s, best loss: -0.81014356583591]  \n",
      "Best params Hyperopt: {'criterion': 'gini', 'max_depth': 13, 'min_samples_leaf': 2, 'n_estimators': 150}\n",
      "Best test F1-score on Hyperopt: 0.83\n"
     ]
    }
   ],
   "source": [
    "def hyperopt_rf(params, cv=kfold, X=X_train, y=y_train):  \n",
    "    model = RandomForestClassifier(**params, random_state=RANDOM_STATE, n_jobs=N_JOBS)\n",
    "    # кросс-валидация\n",
    "    score = cross_val_score(model, X, y, cv=cv, scoring=TARGET_METRIC, n_jobs=N_JOBS).mean()\n",
    "    # метрику необходимо минимизировать, поэтому ставим знак минус\n",
    "    return -score\n",
    "\n",
    "params = {\n",
    "    'criterion': hp.choice('criterion', ['gini', 'entropy']),\n",
    "    'max_depth': hp.choice('max_depth', np.arange(5, 16)),\n",
    "    'min_samples_leaf': hp.choice('min_samples_leaf', np.arange(1, 21)),\n",
    "    'n_estimators': hp.choice('n_estimators', np.arange(50, 251, 50))\n",
    "}\n",
    "trials = Trials()\n",
    "\n",
    "best_hp = fmin(\n",
    "    hyperopt_rf, \n",
    "    space=params,\n",
    "    algo=tpe.suggest,\n",
    "    max_evals=50,\n",
    "    trials=trials, \n",
    "    rstate=np.random.default_rng(RANDOM_STATE)\n",
    ")\n",
    "best_params_hp = space_eval(params, best_hp)\n",
    "# Создаем модель с лучшими параметрами от Hyperopt и обучаем\n",
    "rf_model = RandomForestClassifier(\n",
    "    **best_params_hp,\n",
    "    random_state=RANDOM_STATE,\n",
    "    n_jobs=N_JOBS\n",
    ")\n",
    "\n",
    "rf_model.fit(X_train, y_train)\n",
    "y_test_pred = rf_model.predict(X_test)\n",
    "\n",
    "print('Best params Hyperopt:', best_params_hp)\n",
    "print('Best test F1-score on Hyperopt:', metrics.f1_score(y_test, y_test_pred).round(2))"
   ]
  },
  {
   "cell_type": "markdown",
   "metadata": {},
   "source": [
    "### Optuna"
   ]
  },
  {
   "cell_type": "code",
   "execution_count": 23,
   "metadata": {},
   "outputs": [
    {
     "name": "stderr",
     "output_type": "stream",
     "text": [
      "[I 2024-12-06 07:48:19,704] A new study created in memory with name: RandomForestClassifier\n",
      "c:\\Users\\Admin\\AppData\\Local\\Programs\\Python\\Python310\\lib\\site-packages\\optuna\\distributions.py:708: UserWarning:\n",
      "\n",
      "The distribution is specified by [50, 251] and step=50, but the range is not divisible by `step`. It will be replaced by [50, 250].\n",
      "\n",
      "[I 2024-12-06 07:48:20,470] Trial 0 finished with value: 0.7947229448340185 and parameters: {'criterion': 'gini', 'max_depth': 9, 'min_samples_leaf': 1, 'n_estimators': 150}. Best is trial 0 with value: 0.7947229448340185.\n",
      "[I 2024-12-06 07:48:21,254] Trial 1 finished with value: 0.7485309829743668 and parameters: {'criterion': 'entropy', 'max_depth': 5, 'min_samples_leaf': 5, 'n_estimators': 250}. Best is trial 0 with value: 0.7947229448340185.\n",
      "[I 2024-12-06 07:48:21,929] Trial 2 finished with value: 0.8062194810458287 and parameters: {'criterion': 'gini', 'max_depth': 14, 'min_samples_leaf': 3, 'n_estimators': 100}. Best is trial 2 with value: 0.8062194810458287.\n",
      "[I 2024-12-06 07:48:22,690] Trial 3 finished with value: 0.7601895091201392 and parameters: {'criterion': 'entropy', 'max_depth': 6, 'min_samples_leaf': 3, 'n_estimators': 200}. Best is trial 2 with value: 0.8062194810458287.\n",
      "[I 2024-12-06 07:48:23,252] Trial 4 finished with value: 0.7774296796271132 and parameters: {'criterion': 'entropy', 'max_depth': 10, 'min_samples_leaf': 15, 'n_estimators': 100}. Best is trial 2 with value: 0.8062194810458287.\n",
      "[I 2024-12-06 07:48:24,105] Trial 5 finished with value: 0.7797471525398671 and parameters: {'criterion': 'entropy', 'max_depth': 14, 'min_samples_leaf': 20, 'n_estimators': 200}. Best is trial 2 with value: 0.8062194810458287.\n",
      "[I 2024-12-06 07:48:24,697] Trial 6 finished with value: 0.7539535155038644 and parameters: {'criterion': 'gini', 'max_depth': 6, 'min_samples_leaf': 16, 'n_estimators': 150}. Best is trial 2 with value: 0.8062194810458287.\n",
      "[I 2024-12-06 07:48:25,389] Trial 7 finished with value: 0.7988795076467112 and parameters: {'criterion': 'entropy', 'max_depth': 11, 'min_samples_leaf': 2, 'n_estimators': 100}. Best is trial 2 with value: 0.8062194810458287.\n",
      "[I 2024-12-06 07:48:25,983] Trial 8 finished with value: 0.7929921245856303 and parameters: {'criterion': 'entropy', 'max_depth': 9, 'min_samples_leaf': 5, 'n_estimators': 100}. Best is trial 2 with value: 0.8062194810458287.\n",
      "[I 2024-12-06 07:48:26,904] Trial 9 finished with value: 0.8009764887723387 and parameters: {'criterion': 'entropy', 'max_depth': 15, 'min_samples_leaf': 6, 'n_estimators': 150}. Best is trial 2 with value: 0.8062194810458287.\n",
      "[I 2024-12-06 07:48:27,327] Trial 10 finished with value: 0.7883838389826388 and parameters: {'criterion': 'gini', 'max_depth': 13, 'min_samples_leaf': 10, 'n_estimators': 50}. Best is trial 2 with value: 0.8062194810458287.\n",
      "[I 2024-12-06 07:48:27,750] Trial 11 finished with value: 0.7910539954201189 and parameters: {'criterion': 'gini', 'max_depth': 16, 'min_samples_leaf': 9, 'n_estimators': 50}. Best is trial 2 with value: 0.8062194810458287.\n",
      "[I 2024-12-06 07:48:28,559] Trial 12 finished with value: 0.7996902631640799 and parameters: {'criterion': 'gini', 'max_depth': 16, 'min_samples_leaf': 7, 'n_estimators': 150}. Best is trial 2 with value: 0.8062194810458287.\n",
      "[I 2024-12-06 07:48:29,419] Trial 13 finished with value: 0.7921472773801126 and parameters: {'criterion': 'gini', 'max_depth': 14, 'min_samples_leaf': 13, 'n_estimators': 200}. Best is trial 2 with value: 0.8062194810458287.\n",
      "[I 2024-12-06 07:48:30,077] Trial 14 finished with value: 0.7909777121186361 and parameters: {'criterion': 'entropy', 'max_depth': 12, 'min_samples_leaf': 7, 'n_estimators': 100}. Best is trial 2 with value: 0.8062194810458287.\n",
      "[I 2024-12-06 07:48:30,517] Trial 15 finished with value: 0.7996303025960506 and parameters: {'criterion': 'gini', 'max_depth': 15, 'min_samples_leaf': 5, 'n_estimators': 50}. Best is trial 2 with value: 0.8062194810458287.\n",
      "[I 2024-12-06 07:48:31,721] Trial 16 finished with value: 0.7952169420904155 and parameters: {'criterion': 'entropy', 'max_depth': 13, 'min_samples_leaf': 8, 'n_estimators': 250}. Best is trial 2 with value: 0.8062194810458287.\n",
      "[I 2024-12-06 07:48:32,394] Trial 17 finished with value: 0.8018490440562939 and parameters: {'criterion': 'gini', 'max_depth': 15, 'min_samples_leaf': 4, 'n_estimators': 100}. Best is trial 2 with value: 0.8062194810458287.\n",
      "[I 2024-12-06 07:48:33,085] Trial 18 finished with value: 0.8060006615291648 and parameters: {'criterion': 'gini', 'max_depth': 12, 'min_samples_leaf': 3, 'n_estimators': 100}. Best is trial 2 with value: 0.8062194810458287.\n",
      "[I 2024-12-06 07:48:33,490] Trial 19 finished with value: 0.7883678390730795 and parameters: {'criterion': 'gini', 'max_depth': 11, 'min_samples_leaf': 11, 'n_estimators': 50}. Best is trial 2 with value: 0.8062194810458287.\n",
      "[I 2024-12-06 07:48:34,099] Trial 20 finished with value: 0.7877363700510255 and parameters: {'criterion': 'gini', 'max_depth': 8, 'min_samples_leaf': 1, 'n_estimators': 100}. Best is trial 2 with value: 0.8062194810458287.\n",
      "[I 2024-12-06 07:48:34,744] Trial 21 finished with value: 0.7993545414613189 and parameters: {'criterion': 'gini', 'max_depth': 13, 'min_samples_leaf': 3, 'n_estimators': 100}. Best is trial 2 with value: 0.8062194810458287.\n",
      "[I 2024-12-06 07:48:35,418] Trial 22 finished with value: 0.7973269892951117 and parameters: {'criterion': 'gini', 'max_depth': 12, 'min_samples_leaf': 4, 'n_estimators': 100}. Best is trial 2 with value: 0.8062194810458287.\n",
      "[I 2024-12-06 07:48:35,919] Trial 23 finished with value: 0.808528728843721 and parameters: {'criterion': 'gini', 'max_depth': 15, 'min_samples_leaf': 3, 'n_estimators': 50}. Best is trial 23 with value: 0.808528728843721.\n",
      "[I 2024-12-06 07:48:36,405] Trial 24 finished with value: 0.8111879757758278 and parameters: {'criterion': 'gini', 'max_depth': 14, 'min_samples_leaf': 1, 'n_estimators': 50}. Best is trial 24 with value: 0.8111879757758278.\n",
      "[I 2024-12-06 07:48:36,879] Trial 25 finished with value: 0.8111879757758278 and parameters: {'criterion': 'gini', 'max_depth': 14, 'min_samples_leaf': 1, 'n_estimators': 50}. Best is trial 24 with value: 0.8111879757758278.\n",
      "[I 2024-12-06 07:48:37,374] Trial 26 finished with value: 0.8054844090069073 and parameters: {'criterion': 'gini', 'max_depth': 15, 'min_samples_leaf': 1, 'n_estimators': 50}. Best is trial 24 with value: 0.8111879757758278.\n",
      "[I 2024-12-06 07:48:37,879] Trial 27 finished with value: 0.8038978058330934 and parameters: {'criterion': 'gini', 'max_depth': 16, 'min_samples_leaf': 1, 'n_estimators': 50}. Best is trial 24 with value: 0.8111879757758278.\n",
      "[I 2024-12-06 07:48:38,266] Trial 28 finished with value: 0.7772854095473892 and parameters: {'criterion': 'gini', 'max_depth': 14, 'min_samples_leaf': 21, 'n_estimators': 50}. Best is trial 24 with value: 0.8111879757758278.\n",
      "[I 2024-12-06 07:48:38,736] Trial 29 finished with value: 0.7992771018249946 and parameters: {'criterion': 'gini', 'max_depth': 13, 'min_samples_leaf': 1, 'n_estimators': 50}. Best is trial 24 with value: 0.8111879757758278.\n",
      "[I 2024-12-06 07:48:39,138] Trial 30 finished with value: 0.783169163558631 and parameters: {'criterion': 'gini', 'max_depth': 10, 'min_samples_leaf': 12, 'n_estimators': 50}. Best is trial 24 with value: 0.8111879757758278.\n",
      "[I 2024-12-06 07:48:39,608] Trial 31 finished with value: 0.8058946915718863 and parameters: {'criterion': 'gini', 'max_depth': 14, 'min_samples_leaf': 3, 'n_estimators': 50}. Best is trial 24 with value: 0.8111879757758278.\n",
      "[I 2024-12-06 07:48:40,077] Trial 32 finished with value: 0.8088816343501957 and parameters: {'criterion': 'gini', 'max_depth': 15, 'min_samples_leaf': 2, 'n_estimators': 50}. Best is trial 24 with value: 0.8111879757758278.\n",
      "[I 2024-12-06 07:48:40,547] Trial 33 finished with value: 0.8022538083150573 and parameters: {'criterion': 'gini', 'max_depth': 16, 'min_samples_leaf': 2, 'n_estimators': 50}. Best is trial 24 with value: 0.8111879757758278.\n",
      "[I 2024-12-06 07:48:40,986] Trial 34 finished with value: 0.8000566129205767 and parameters: {'criterion': 'gini', 'max_depth': 15, 'min_samples_leaf': 4, 'n_estimators': 50}. Best is trial 24 with value: 0.8111879757758278.\n",
      "[I 2024-12-06 07:48:41,467] Trial 35 finished with value: 0.8075727360697404 and parameters: {'criterion': 'gini', 'max_depth': 14, 'min_samples_leaf': 2, 'n_estimators': 50}. Best is trial 24 with value: 0.8111879757758278.\n",
      "[I 2024-12-06 07:48:41,920] Trial 36 finished with value: 0.7925701086111117 and parameters: {'criterion': 'gini', 'max_depth': 15, 'min_samples_leaf': 6, 'n_estimators': 50}. Best is trial 24 with value: 0.8111879757758278.\n",
      "[I 2024-12-06 07:48:43,130] Trial 37 finished with value: 0.8089313623838388 and parameters: {'criterion': 'gini', 'max_depth': 13, 'min_samples_leaf': 2, 'n_estimators': 200}. Best is trial 24 with value: 0.8111879757758278.\n",
      "[I 2024-12-06 07:48:43,942] Trial 38 finished with value: 0.7830401249058616 and parameters: {'criterion': 'gini', 'max_depth': 12, 'min_samples_leaf': 18, 'n_estimators': 200}. Best is trial 24 with value: 0.8111879757758278.\n",
      "[I 2024-12-06 07:48:45,271] Trial 39 finished with value: 0.8110311765395991 and parameters: {'criterion': 'gini', 'max_depth': 13, 'min_samples_leaf': 2, 'n_estimators': 250}. Best is trial 24 with value: 0.8111879757758278.\n",
      "[I 2024-12-06 07:48:46,506] Trial 40 finished with value: 0.7986519000518382 and parameters: {'criterion': 'entropy', 'max_depth': 13, 'min_samples_leaf': 6, 'n_estimators': 250}. Best is trial 24 with value: 0.8111879757758278.\n",
      "[I 2024-12-06 07:48:47,586] Trial 41 finished with value: 0.8089313623838388 and parameters: {'criterion': 'gini', 'max_depth': 13, 'min_samples_leaf': 2, 'n_estimators': 200}. Best is trial 24 with value: 0.8111879757758278.\n",
      "[I 2024-12-06 07:48:48,726] Trial 42 finished with value: 0.8083400137345139 and parameters: {'criterion': 'gini', 'max_depth': 13, 'min_samples_leaf': 1, 'n_estimators': 200}. Best is trial 24 with value: 0.8111879757758278.\n",
      "[I 2024-12-06 07:48:49,894] Trial 43 finished with value: 0.7984875149502301 and parameters: {'criterion': 'gini', 'max_depth': 11, 'min_samples_leaf': 4, 'n_estimators': 250}. Best is trial 24 with value: 0.8111879757758278.\n",
      "[I 2024-12-06 07:48:51,112] Trial 44 finished with value: 0.8132052149804073 and parameters: {'criterion': 'gini', 'max_depth': 14, 'min_samples_leaf': 2, 'n_estimators': 200}. Best is trial 44 with value: 0.8132052149804073.\n",
      "[I 2024-12-06 07:48:52,351] Trial 45 finished with value: 0.8015341032447572 and parameters: {'criterion': 'gini', 'max_depth': 14, 'min_samples_leaf': 5, 'n_estimators': 250}. Best is trial 44 with value: 0.8132052149804073.\n",
      "[I 2024-12-06 07:48:53,022] Trial 46 finished with value: 0.7463747554781042 and parameters: {'criterion': 'gini', 'max_depth': 5, 'min_samples_leaf': 14, 'n_estimators': 200}. Best is trial 44 with value: 0.8132052149804073.\n",
      "[I 2024-12-06 07:48:53,985] Trial 47 finished with value: 0.8074971444749537 and parameters: {'criterion': 'entropy', 'max_depth': 12, 'min_samples_leaf': 2, 'n_estimators': 150}. Best is trial 44 with value: 0.8132052149804073.\n",
      "[I 2024-12-06 07:48:54,784] Trial 48 finished with value: 0.8019418708281337 and parameters: {'criterion': 'gini', 'max_depth': 14, 'min_samples_leaf': 5, 'n_estimators': 150}. Best is trial 44 with value: 0.8132052149804073.\n",
      "[I 2024-12-06 07:48:55,505] Trial 49 finished with value: 0.7859536003815462 and parameters: {'criterion': 'gini', 'max_depth': 8, 'min_samples_leaf': 3, 'n_estimators': 150}. Best is trial 44 with value: 0.8132052149804073.\n"
     ]
    },
    {
     "name": "stdout",
     "output_type": "stream",
     "text": [
      "Best params Optuna: {'criterion': 'gini', 'max_depth': 14, 'min_samples_leaf': 2, 'n_estimators': 200}\n",
      "Best test F1-score on Optuna: 0.84\n"
     ]
    }
   ],
   "source": [
    "def optuna_rf(trial, cv=kfold, X=X_train, y=y_train):\n",
    "    # задаем пространства поиска гиперпараметров\n",
    "    params = {\n",
    "        'criterion': trial.suggest_categorical('criterion', ['gini', 'entropy']),\n",
    "        'max_depth': trial.suggest_int('max_depth', 5, 16),\n",
    "        'min_samples_leaf': trial.suggest_int('min_samples_leaf', 1, 21),\n",
    "        'n_estimators': trial.suggest_int('n_estimators', 50, 251, step=50)\n",
    "    }\n",
    "    # создаем модель\n",
    "    model = RandomForestClassifier(\n",
    "        **params,\n",
    "        random_state=RANDOM_STATE,\n",
    "        n_jobs=N_JOBS\n",
    "    )\n",
    "    # кросс-валидация\n",
    "    score = cross_val_score(model, X, y, cv=cv, scoring=TARGET_METRIC, n_jobs=N_JOBS).mean()\n",
    "\n",
    "    return score\n",
    "\n",
    "study = optuna.create_study(study_name='RandomForestClassifier', direction='maximize')\n",
    "study.optimize(optuna_rf, n_trials=50)\n",
    "# Обучаем модель на лучших параметрах от Optuna\n",
    "rf_model = RandomForestClassifier(\n",
    "    **study.best_params,\n",
    "    random_state=RANDOM_STATE,\n",
    "    n_jobs=N_JOBS\n",
    ")\n",
    "rf_model.fit(X_train, y_train)\n",
    "y_test_pred = rf_model.predict(X_test)\n",
    "\n",
    "print('Best params Optuna:', study.best_params)\n",
    "print('Best test F1-score on Optuna:', metrics.f1_score(y_test, y_test_pred).round(2))"
   ]
  },
  {
   "cell_type": "code",
   "execution_count": 24,
   "metadata": {},
   "outputs": [
    {
     "data": {
      "image/png": "[encoded data removed]"
     },
     "metadata": {},
     "output_type": "display_data"
    },
    {
     "data": {
      "image/png": "[encoded data removed]"
     },
     "metadata": {},
     "output_type": "display_data"
    }
   ],
   "source": [
    "fig_opt_hist = optuna.visualization.plot_optimization_history(study, target_name=\"f1_score\")\n",
    "fig_param_imp = optuna.visualization.plot_param_importances(study, target_name=\"f1_score\")\n",
    "fig_opt_hist.update_layout(width=900, height=400)\n",
    "fig_param_imp.update_layout(width=900, height=400)\n",
    "fig_opt_hist.show()\n",
    "fig_param_imp.show()"
   ]
  },
  {
   "cell_type": "markdown",
   "metadata": {},
   "source": [
    "#### Выводы по проделанной работе\n",
    "\n",
    "* ``GridSearchCV`` очень полезен, если нужно перебрать все возможные варианты, и у нас есть достаточно времени на это;\n",
    "* ``RandomSearchCV`` позволяет выбрать приблизительные значения для гиперпараметров, которые дадут наиболее высокую метрику из всех случайных итераций, после чего отталкиваться на основе этих значений, например, с помощью более продвинутых методов;\n",
    "* ``Hyperopt`` и ``Optuna`` очень похожи между собой как по скорости, так и по алгоритму работы, но Optuna имеет более ``user-friendly`` документацию и менее сложен в реализации, чем ``Hyperopt``, вдобавок к этому имеет встроенную визуализацию;\n",
    "* ``RandomForestClassifier`` показал более высокий показатель метрики на тестовой выборке, в отличии от ``LogisticRegression``, что вполне ожидаемо, т.к. реализует в себе *бэггинг*."
   ]
  }
 ],
 "metadata": {
  "kernelspec": {
   "display_name": "Python 3",
   "language": "python",
   "name": "python3"
  },
  "language_info": {
   "codemirror_mode": {
    "name": "ipython",
    "version": 3
   },
   "file_extension": ".py",
   "mimetype": "text/x-python",
   "name": "python",
   "nbconvert_exporter": "python",
   "pygments_lexer": "ipython3",
   "version": "3.10.11"
  }
 },
 "nbformat": 4,
 "nbformat_minor": 2
}

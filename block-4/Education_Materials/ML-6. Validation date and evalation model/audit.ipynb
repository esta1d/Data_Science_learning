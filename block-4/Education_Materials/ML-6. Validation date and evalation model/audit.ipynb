{
 "cells": [
  {
   "cell_type": "code",
   "execution_count": 16,
   "metadata": {},
   "outputs": [],
   "source": [
    "import pandas as pd\n",
    "from sklearn.model_selection import train_test_split\n",
    "from sklearn.feature_selection import RFE, SelectKBest, f_regression\n",
    "from sklearn.linear_model import LinearRegression\n",
    "from sklearn.metrics import mean_absolute_error, r2_score"
   ]
  },
  {
   "cell_type": "code",
   "execution_count": 17,
   "metadata": {},
   "outputs": [
    {
     "name": "stdout",
     "output_type": "stream",
     "text": [
      "RFE selected features: ['year', 'cylinders', 'lat']\n",
      "KBest selected features: ['year', 'cylinders', 'odometer']\n"
     ]
    }
   ],
   "source": [
    "data = pd.read_excel('data/data_ford_price.xlsx')[['price','year', 'cylinders', 'odometer', 'lat', 'long', 'weather']]\n",
    "data.dropna(inplace=True)\n",
    "\n",
    "X = data.drop(columns='price')\n",
    "y = data['price']\n",
    "\n",
    "X_train, X_test, y_train, y_test = train_test_split(X, y, test_size=0.3, random_state=30)\n",
    "\n",
    "lr_model = LinearRegression()\n",
    "# RFE selector\n",
    "rfe_selector = RFE(lr_model, n_features_to_select=3, step=1)\n",
    "rfe_selector.fit(X_train, y_train)\n",
    "rfe_selected_cols = rfe_selector.get_feature_names_out()\n",
    "# KBest selector\n",
    "kbest_selector = SelectKBest(f_regression, k=3)\n",
    "kbest_selector.fit(X_train, y_train)\n",
    "kbest_selected_cols = kbest_selector.get_feature_names_out()\n",
    "\n",
    "print('RFE selected features:', list(rfe_selected_cols))\n",
    "print('KBest selected features:', list(kbest_selected_cols))"
   ]
  },
  {
   "cell_type": "code",
   "execution_count": 18,
   "metadata": {},
   "outputs": [
    {
     "name": "stdout",
     "output_type": "stream",
     "text": [
      "RFE\n"
     ]
    },
    {
     "data": {
      "text/html": [
       "<div>\n",
       "<style scoped>\n",
       "    .dataframe tbody tr th:only-of-type {\n",
       "        vertical-align: middle;\n",
       "    }\n",
       "\n",
       "    .dataframe tbody tr th {\n",
       "        vertical-align: top;\n",
       "    }\n",
       "\n",
       "    .dataframe thead th {\n",
       "        text-align: right;\n",
       "    }\n",
       "</style>\n",
       "<table border=\"1\" class=\"dataframe\">\n",
       "  <thead>\n",
       "    <tr style=\"text-align: right;\">\n",
       "      <th></th>\n",
       "      <th>Train</th>\n",
       "      <th>Test</th>\n",
       "    </tr>\n",
       "  </thead>\n",
       "  <tbody>\n",
       "    <tr>\n",
       "      <th>R2</th>\n",
       "      <td>0.565</td>\n",
       "      <td>0.400</td>\n",
       "    </tr>\n",
       "    <tr>\n",
       "      <th>MAE</th>\n",
       "      <td>5179.883</td>\n",
       "      <td>5252.681</td>\n",
       "    </tr>\n",
       "  </tbody>\n",
       "</table>\n",
       "</div>"
      ],
      "text/plain": [
       "        Train      Test\n",
       "R2      0.565     0.400\n",
       "MAE  5179.883  5252.681"
      ]
     },
     "metadata": {},
     "output_type": "display_data"
    },
    {
     "name": "stdout",
     "output_type": "stream",
     "text": [
      "------------------------\n",
      "KBest\n"
     ]
    },
    {
     "data": {
      "text/html": [
       "<div>\n",
       "<style scoped>\n",
       "    .dataframe tbody tr th:only-of-type {\n",
       "        vertical-align: middle;\n",
       "    }\n",
       "\n",
       "    .dataframe tbody tr th {\n",
       "        vertical-align: top;\n",
       "    }\n",
       "\n",
       "    .dataframe thead th {\n",
       "        text-align: right;\n",
       "    }\n",
       "</style>\n",
       "<table border=\"1\" class=\"dataframe\">\n",
       "  <thead>\n",
       "    <tr style=\"text-align: right;\">\n",
       "      <th></th>\n",
       "      <th>Train</th>\n",
       "      <th>Test</th>\n",
       "    </tr>\n",
       "  </thead>\n",
       "  <tbody>\n",
       "    <tr>\n",
       "      <th>R2</th>\n",
       "      <td>0.606</td>\n",
       "      <td>0.405</td>\n",
       "    </tr>\n",
       "    <tr>\n",
       "      <th>MAE</th>\n",
       "      <td>4704.710</td>\n",
       "      <td>4910.266</td>\n",
       "    </tr>\n",
       "  </tbody>\n",
       "</table>\n",
       "</div>"
      ],
      "text/plain": [
       "        Train      Test\n",
       "R2      0.606     0.405\n",
       "MAE  4704.710  4910.266"
      ]
     },
     "metadata": {},
     "output_type": "display_data"
    }
   ],
   "source": [
    "# Функция, чтобы вывести метрики для регрессии в виде таблицы\n",
    "def print_metrics(y_train_pred:list, y_test_pred:list, y_test=y_test):\n",
    "    \n",
    "    \"\"\"Prints metrics for regression as DataFrame\n",
    "\n",
    "    Args:\n",
    "        y_train_pred (list): Train predicted samples\n",
    "        y_test_pred (list): Test predicted samples\n",
    "        y_test (list, optional): True samples. Defaults to y_test.\n",
    "    \"\"\"\n",
    "    \n",
    "    r2_train = r2_score(y_train, y_train_pred).round(3)\n",
    "    mae_train = mean_absolute_error(y_train, y_train_pred).round(3)\n",
    "    \n",
    "    r2_test = r2_score(y_test, y_test_pred).round(3)\n",
    "    mae_test = mean_absolute_error(y_test, y_test_pred).round(3)\n",
    "    \n",
    "    metrics_df = pd.DataFrame({\n",
    "        'Train': [r2_train, mae_train],\n",
    "        'Test': [r2_test, mae_test]\n",
    "    }, index=['R2', 'MAE'])\n",
    "    \n",
    "    display(metrics_df)\n",
    "\n",
    "# Разделяем выборки на RFE и KBest\n",
    "X_train_rfe = X_train[rfe_selected_cols]\n",
    "X_test_rfe = X_test[rfe_selected_cols]\n",
    "X_train_kbest = X_train[kbest_selected_cols]\n",
    "X_test_kbest = X_test[kbest_selected_cols]\n",
    "# Обучаем модель на признаках от RFE\n",
    "lr_model.fit(X_train_rfe, y_train)\n",
    "# Делаем предсказания для RFE\n",
    "y_train_pred_rfe = lr_model.predict(X_train_rfe)\n",
    "y_test_pred_rfe = lr_model.predict(X_test_rfe)\n",
    "# Обучаем на признаках от KBest\n",
    "lr_model.fit(X_train_kbest, y_train)\n",
    "# Делаем предсказания для KBest\n",
    "y_train_pred_kbest = lr_model.predict(X_train_kbest)\n",
    "y_test_pred_kbest = lr_model.predict(X_test_kbest)\n",
    "\n",
    "print('RFE')\n",
    "print_metrics(y_train_pred_rfe, y_test_pred_rfe)\n",
    "print('---' * 8)\n",
    "print('KBest')\n",
    "print_metrics(y_train_pred_kbest, y_test_pred_kbest)"
   ]
  },
  {
   "cell_type": "markdown",
   "metadata": {},
   "source": [
    "### Вывод\n",
    "\n",
    "На тестовой выборке метод ```KBest``` показал результат лучше, чем ```RFE```.\n",
    "\n",
    "$R^{2}$ больше на $0.005$, а $MAE$ меньше на $342.4$."
   ]
  }
 ],
 "metadata": {
  "kernelspec": {
   "display_name": "Python 3",
   "language": "python",
   "name": "python3"
  },
  "language_info": {
   "codemirror_mode": {
    "name": "ipython",
    "version": 3
   },
   "file_extension": ".py",
   "mimetype": "text/x-python",
   "name": "python",
   "nbconvert_exporter": "python",
   "pygments_lexer": "ipython3",
   "version": "3.10.11"
  }
 },
 "nbformat": 4,
 "nbformat_minor": 2
}

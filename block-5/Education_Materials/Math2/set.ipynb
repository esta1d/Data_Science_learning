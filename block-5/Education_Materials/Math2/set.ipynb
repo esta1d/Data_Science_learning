{
 "cells": [
  {
   "cell_type": "code",
   "execution_count": 6,
   "metadata": {},
   "outputs": [],
   "source": [
    "from sympy import FiniteSet, Union, ConditionSet, Eq, Symbol, Interval"
   ]
  },
  {
   "cell_type": "code",
   "execution_count": 12,
   "metadata": {},
   "outputs": [
    {
     "name": "stdout",
     "output_type": "stream",
     "text": [
      "Пересечение множест: {'marimari@xyz.com', 'darcy@abc.com', '0071235@gmail.ru'}\n",
      "Объеденение множест: {'abc@xyz.com', 'katrin@ya.com', 'darcy@abc.com', 'marimari@xyz.com', 'petr44@xyz.com', 'pa@hhh.com', 'margaret@xyz.com', 'mallika@yahoo.com', '0071235@gmail.ru', 'bennet@xyz.com'}\n",
      "Разхность множест: {'abc@xyz.com', 'katrin@ya.com', 'petr44@xyz.com', 'pa@hhh.com', 'margaret@xyz.com', 'mallika@yahoo.com', 'bennet@xyz.com'}\n"
     ]
    }
   ],
   "source": [
    "A = {\n",
    "    'bennet@xyz.com',\n",
    "    'darcy@abc.com',\n",
    "    'margaret@xyz.com',\n",
    "    'pa@hhh.com',\n",
    "    'marimari@xyz.com',\n",
    "    'mallika@yahoo.com',\n",
    "    'abc@xyz.com',\n",
    "    '0071235@gmail.ru'\n",
    "}\n",
    "\n",
    "B = {\n",
    "    'marimari@xyz.com',\n",
    "    'darcy@abc.com',\n",
    "    '0071235@gmail.ru',\n",
    "    'darcy@abc.com',\n",
    "    'petr44@xyz.com',\n",
    "    'katrin@ya.com'\n",
    "}\n",
    "\n",
    "AB_I = A.intersection(B)\n",
    "AB_U = A.union(B)\n",
    "AB_R = AB_U - AB_I \n",
    "\n",
    "print('Пересечение множест:', AB_I)\n",
    "print('Объеденение множест:', AB_U)\n",
    "print('Разхность множест:', AB_R)"
   ]
  }
 ],
 "metadata": {
  "kernelspec": {
   "display_name": "Python 3",
   "language": "python",
   "name": "python3"
  },
  "language_info": {
   "codemirror_mode": {
    "name": "ipython",
    "version": 3
   },
   "file_extension": ".py",
   "mimetype": "text/x-python",
   "name": "python",
   "nbconvert_exporter": "python",
   "pygments_lexer": "ipython3",
   "version": "3.10.11"
  }
 },
 "nbformat": 4,
 "nbformat_minor": 2
}

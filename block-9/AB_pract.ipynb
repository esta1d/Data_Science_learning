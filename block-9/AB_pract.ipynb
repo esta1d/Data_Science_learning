{
 "cells": [
  {
   "cell_type": "markdown",
   "id": "28bd7935",
   "metadata": {},
   "source": [
    "# homework"
   ]
  },
  {
   "cell_type": "code",
   "execution_count": 680,
   "id": "57b8e713",
   "metadata": {},
   "outputs": [],
   "source": [
    "import pandas as pd\n",
    "import matplotlib.pyplot as plt\n",
    "import seaborn as sns\n",
    "from scipy.stats import norm\n",
    "from scipy.stats import t\n",
    "from scipy.stats import ttest_ind, shapiro, f_oneway, mannwhitneyu\n",
    "from statsmodels.stats.proportion import proportions_ztest"
   ]
  },
  {
   "cell_type": "code",
   "execution_count": 681,
   "id": "a8c500a8",
   "metadata": {},
   "outputs": [
    {
     "data": {
      "text/html": [
       "<div>\n",
       "<style scoped>\n",
       "    .dataframe tbody tr th:only-of-type {\n",
       "        vertical-align: middle;\n",
       "    }\n",
       "\n",
       "    .dataframe tbody tr th {\n",
       "        vertical-align: top;\n",
       "    }\n",
       "\n",
       "    .dataframe thead th {\n",
       "        text-align: right;\n",
       "    }\n",
       "</style>\n",
       "<table border=\"1\" class=\"dataframe\">\n",
       "  <thead>\n",
       "    <tr style=\"text-align: right;\">\n",
       "      <th></th>\n",
       "      <th>user_id</th>\n",
       "      <th>date</th>\n",
       "      <th>group</th>\n",
       "      <th>purchase</th>\n",
       "      <th>price</th>\n",
       "    </tr>\n",
       "  </thead>\n",
       "  <tbody>\n",
       "    <tr>\n",
       "      <th>0</th>\n",
       "      <td>851104</td>\n",
       "      <td>2021-01-21</td>\n",
       "      <td>A</td>\n",
       "      <td>0</td>\n",
       "      <td>0</td>\n",
       "    </tr>\n",
       "    <tr>\n",
       "      <th>1</th>\n",
       "      <td>804228</td>\n",
       "      <td>2021-01-12</td>\n",
       "      <td>A</td>\n",
       "      <td>0</td>\n",
       "      <td>0</td>\n",
       "    </tr>\n",
       "    <tr>\n",
       "      <th>2</th>\n",
       "      <td>661590</td>\n",
       "      <td>2021-01-11</td>\n",
       "      <td>B</td>\n",
       "      <td>0</td>\n",
       "      <td>0</td>\n",
       "    </tr>\n",
       "    <tr>\n",
       "      <th>3</th>\n",
       "      <td>853541</td>\n",
       "      <td>2021-01-08</td>\n",
       "      <td>B</td>\n",
       "      <td>0</td>\n",
       "      <td>0</td>\n",
       "    </tr>\n",
       "    <tr>\n",
       "      <th>4</th>\n",
       "      <td>864975</td>\n",
       "      <td>2021-01-21</td>\n",
       "      <td>A</td>\n",
       "      <td>1</td>\n",
       "      <td>150000</td>\n",
       "    </tr>\n",
       "    <tr>\n",
       "      <th>...</th>\n",
       "      <td>...</td>\n",
       "      <td>...</td>\n",
       "      <td>...</td>\n",
       "      <td>...</td>\n",
       "      <td>...</td>\n",
       "    </tr>\n",
       "    <tr>\n",
       "      <th>294473</th>\n",
       "      <td>751197</td>\n",
       "      <td>2021-01-03</td>\n",
       "      <td>A</td>\n",
       "      <td>0</td>\n",
       "      <td>0</td>\n",
       "    </tr>\n",
       "    <tr>\n",
       "      <th>294474</th>\n",
       "      <td>945152</td>\n",
       "      <td>2021-01-12</td>\n",
       "      <td>A</td>\n",
       "      <td>0</td>\n",
       "      <td>0</td>\n",
       "    </tr>\n",
       "    <tr>\n",
       "      <th>294475</th>\n",
       "      <td>734608</td>\n",
       "      <td>2021-01-22</td>\n",
       "      <td>A</td>\n",
       "      <td>0</td>\n",
       "      <td>0</td>\n",
       "    </tr>\n",
       "    <tr>\n",
       "      <th>294476</th>\n",
       "      <td>697314</td>\n",
       "      <td>2021-01-15</td>\n",
       "      <td>A</td>\n",
       "      <td>0</td>\n",
       "      <td>0</td>\n",
       "    </tr>\n",
       "    <tr>\n",
       "      <th>294477</th>\n",
       "      <td>715931</td>\n",
       "      <td>2021-01-16</td>\n",
       "      <td>B</td>\n",
       "      <td>0</td>\n",
       "      <td>0</td>\n",
       "    </tr>\n",
       "  </tbody>\n",
       "</table>\n",
       "<p>294478 rows × 5 columns</p>\n",
       "</div>"
      ],
      "text/plain": [
       "        user_id        date group  purchase   price\n",
       "0        851104  2021-01-21     A         0       0\n",
       "1        804228  2021-01-12     A         0       0\n",
       "2        661590  2021-01-11     B         0       0\n",
       "3        853541  2021-01-08     B         0       0\n",
       "4        864975  2021-01-21     A         1  150000\n",
       "...         ...         ...   ...       ...     ...\n",
       "294473   751197  2021-01-03     A         0       0\n",
       "294474   945152  2021-01-12     A         0       0\n",
       "294475   734608  2021-01-22     A         0       0\n",
       "294476   697314  2021-01-15     A         0       0\n",
       "294477   715931  2021-01-16     B         0       0\n",
       "\n",
       "[294478 rows x 5 columns]"
      ]
     },
     "execution_count": 681,
     "metadata": {},
     "output_type": "execute_result"
    }
   ],
   "source": [
    "data = pd.read_csv('data/ab_data_tourist.csv')\n",
    "data"
   ]
  },
  {
   "cell_type": "markdown",
   "id": "f3350a8a",
   "metadata": {},
   "source": [
    "* `user_id` — идентификатор пользователя, зашедшего на сайт;\n",
    "* `data` — дата посещения сайта;\n",
    "* `group` — группа теста (контрольная — А или тестовая — B);\n",
    "* `purchase` — признак покупки: совершил ли пользователь покупку тура (1 — да, 0 — нет);\n",
    "* `price` — цена купленного тура (если покупка не состоялась, цена равна 0)."
   ]
  },
  {
   "cell_type": "markdown",
   "id": "2a95d15d",
   "metadata": {},
   "source": [
    "### Задание 1. Проанализируйте структуру данных и проведите их предобработку\n",
    "\n",
    "* исследуйте структуру данных;\n",
    "* преобразуйте столбцы к необходимым типам данных.\n",
    "* Убедитесь в одинаковой длительности проведения A/B-тестирования в каждой из групп. Если длительность разная, унифицируйте данные, удалив лишние данные для соответствующей группы.\n",
    "* Проверьте данные на наличие пропусков и избавьтесь от них, если нужно.\n",
    "* Проверьте, есть ли пользователи, которые в процессе A/B-теста попали в обе группы. Если да, исключите пользователей, оказавшихся в обеих группах."
   ]
  },
  {
   "cell_type": "code",
   "execution_count": 682,
   "id": "c791e966",
   "metadata": {},
   "outputs": [
    {
     "name": "stdout",
     "output_type": "stream",
     "text": [
      "<class 'pandas.core.frame.DataFrame'>\n",
      "RangeIndex: 294478 entries, 0 to 294477\n",
      "Data columns (total 5 columns):\n",
      " #   Column    Non-Null Count   Dtype \n",
      "---  ------    --------------   ----- \n",
      " 0   user_id   294478 non-null  int64 \n",
      " 1   date      294478 non-null  object\n",
      " 2   group     294478 non-null  object\n",
      " 3   purchase  294478 non-null  int64 \n",
      " 4   price     294478 non-null  int64 \n",
      "dtypes: int64(3), object(2)\n",
      "memory usage: 11.2+ MB\n"
     ]
    }
   ],
   "source": [
    "# посмотрим типы данных/наличие пропусков и проведем нужное преобразование\n",
    "data.info()"
   ]
  },
  {
   "cell_type": "code",
   "execution_count": 683,
   "id": "6e4a7d04",
   "metadata": {},
   "outputs": [],
   "source": [
    "# преобразуем в формат дататайм\n",
    "data['date'] = pd.to_datetime(data['date'], format='%Y-%m-%d')"
   ]
  },
  {
   "cell_type": "markdown",
   "id": "38afb766",
   "metadata": {},
   "source": [
    "Проверьте, есть ли пользователи, которые в процессе A/B-теста попали в обе тестовые группы? Если да, то сколько таких уникальных пользователей, если нет - введите в поле для ответа 0?"
   ]
  },
  {
   "cell_type": "code",
   "execution_count": 684,
   "id": "73d9e4b1",
   "metadata": {},
   "outputs": [
    {
     "name": "stdout",
     "output_type": "stream",
     "text": [
      "Количество пользователей, которые попали как в группу А, так и в группу В: 1895\n"
     ]
    }
   ],
   "source": [
    "user_a = set(data[data['group']=='A']['user_id'])\n",
    "user_b = set(data[data['group']=='B']['user_id'])\n",
    "\n",
    "user_intersection = user_b.intersection(user_a)\n",
    "print(f'Количество пользователей, которые попали как в группу А, так и в группу В: {len(list(user_intersection))}')\n",
    "data = data[data['user_id'].apply(lambda x: x not in user_intersection)]"
   ]
  },
  {
   "cell_type": "code",
   "execution_count": 685,
   "id": "ad01aad1",
   "metadata": {},
   "outputs": [
    {
     "name": "stdout",
     "output_type": "stream",
     "text": [
      "Количество посещение в группе А 145307\n",
      "Количество посещение в группе B 145381\n",
      "Количество покупок в группе А 17487\n",
      "Количество покупок в группе B 17290\n",
      "Сумма покупок в группе А 1417.78\n",
      "Сумма покупок в группе B 1533.01\n"
     ]
    }
   ],
   "source": [
    "count_a = data[data['group']=='A']['user_id'].count()\n",
    "count_b = data[data['group']=='B']['user_id'].count()\n",
    "count_sum_a = data[data['group']=='A']['purchase'].sum()\n",
    "count_sum_b = data[data['group']=='B']['purchase'].sum()\n",
    "total_sum_a = data[data['group']=='A']['price'].sum()/1000000\n",
    "total_sum_b = data[data['group']=='B']['price'].sum()/1000000\n",
    "print(f'Количество посещение в группе А {count_a}')\n",
    "print(f'Количество посещение в группе B {count_b}')\n",
    "print(f'Количество покупок в группе А {count_sum_a}')\n",
    "print(f'Количество покупок в группе B {count_sum_b}')\n",
    "print(f'Сумма покупок в группе А {total_sum_a}')\n",
    "print(f'Сумма покупок в группе B {total_sum_b}')"
   ]
  },
  {
   "cell_type": "markdown",
   "id": "65a2e4bd",
   "metadata": {},
   "source": [
    "Проверяем диапазон дат для проведения теста"
   ]
  },
  {
   "cell_type": "code",
   "execution_count": 686,
   "id": "bf9015a0",
   "metadata": {},
   "outputs": [],
   "source": [
    "# Определяем минимальное и максимальное значения даты для каждой группы\n",
    "min_date_a = data[data['group'] == 'A']['date'].min()\n",
    "max_date_a = data[data['group'] == 'A']['date'].max()\n",
    "min_date_b = data[data['group'] == 'B']['date'].min()\n",
    "max_date_b = data[data['group'] == 'B']['date'].max()\n",
    "\n",
    "# Определяем общий диапазон дат\n",
    "min_date = max(min_date_a, min_date_b)\n",
    "max_date = min(max_date_a, max_date_b)\n",
    "\n",
    "# Фильтруем данные, оставляя только строки в общем диапазоне дат\n",
    "data = data[(data['date'] >= min_date) & (data['date'] <= max_date)]"
   ]
  },
  {
   "cell_type": "code",
   "execution_count": 687,
   "id": "dc9a2444",
   "metadata": {},
   "outputs": [
    {
     "data": {
      "text/html": [
       "<div>\n",
       "<style scoped>\n",
       "    .dataframe tbody tr th:only-of-type {\n",
       "        vertical-align: middle;\n",
       "    }\n",
       "\n",
       "    .dataframe tbody tr th {\n",
       "        vertical-align: top;\n",
       "    }\n",
       "\n",
       "    .dataframe thead th {\n",
       "        text-align: right;\n",
       "    }\n",
       "</style>\n",
       "<table border=\"1\" class=\"dataframe\">\n",
       "  <thead>\n",
       "    <tr style=\"text-align: right;\">\n",
       "      <th></th>\n",
       "      <th>user_id</th>\n",
       "      <th>date</th>\n",
       "      <th>group</th>\n",
       "      <th>purchase</th>\n",
       "      <th>price</th>\n",
       "    </tr>\n",
       "  </thead>\n",
       "  <tbody>\n",
       "    <tr>\n",
       "      <th>0</th>\n",
       "      <td>851104</td>\n",
       "      <td>2021-01-21</td>\n",
       "      <td>A</td>\n",
       "      <td>0</td>\n",
       "      <td>0</td>\n",
       "    </tr>\n",
       "    <tr>\n",
       "      <th>1</th>\n",
       "      <td>804228</td>\n",
       "      <td>2021-01-12</td>\n",
       "      <td>A</td>\n",
       "      <td>0</td>\n",
       "      <td>0</td>\n",
       "    </tr>\n",
       "    <tr>\n",
       "      <th>2</th>\n",
       "      <td>661590</td>\n",
       "      <td>2021-01-11</td>\n",
       "      <td>B</td>\n",
       "      <td>0</td>\n",
       "      <td>0</td>\n",
       "    </tr>\n",
       "    <tr>\n",
       "      <th>3</th>\n",
       "      <td>853541</td>\n",
       "      <td>2021-01-08</td>\n",
       "      <td>B</td>\n",
       "      <td>0</td>\n",
       "      <td>0</td>\n",
       "    </tr>\n",
       "    <tr>\n",
       "      <th>4</th>\n",
       "      <td>864975</td>\n",
       "      <td>2021-01-21</td>\n",
       "      <td>A</td>\n",
       "      <td>1</td>\n",
       "      <td>150000</td>\n",
       "    </tr>\n",
       "    <tr>\n",
       "      <th>...</th>\n",
       "      <td>...</td>\n",
       "      <td>...</td>\n",
       "      <td>...</td>\n",
       "      <td>...</td>\n",
       "      <td>...</td>\n",
       "    </tr>\n",
       "    <tr>\n",
       "      <th>294473</th>\n",
       "      <td>751197</td>\n",
       "      <td>2021-01-03</td>\n",
       "      <td>A</td>\n",
       "      <td>0</td>\n",
       "      <td>0</td>\n",
       "    </tr>\n",
       "    <tr>\n",
       "      <th>294474</th>\n",
       "      <td>945152</td>\n",
       "      <td>2021-01-12</td>\n",
       "      <td>A</td>\n",
       "      <td>0</td>\n",
       "      <td>0</td>\n",
       "    </tr>\n",
       "    <tr>\n",
       "      <th>294475</th>\n",
       "      <td>734608</td>\n",
       "      <td>2021-01-22</td>\n",
       "      <td>A</td>\n",
       "      <td>0</td>\n",
       "      <td>0</td>\n",
       "    </tr>\n",
       "    <tr>\n",
       "      <th>294476</th>\n",
       "      <td>697314</td>\n",
       "      <td>2021-01-15</td>\n",
       "      <td>A</td>\n",
       "      <td>0</td>\n",
       "      <td>0</td>\n",
       "    </tr>\n",
       "    <tr>\n",
       "      <th>294477</th>\n",
       "      <td>715931</td>\n",
       "      <td>2021-01-16</td>\n",
       "      <td>B</td>\n",
       "      <td>0</td>\n",
       "      <td>0</td>\n",
       "    </tr>\n",
       "  </tbody>\n",
       "</table>\n",
       "<p>290688 rows × 5 columns</p>\n",
       "</div>"
      ],
      "text/plain": [
       "        user_id       date group  purchase   price\n",
       "0        851104 2021-01-21     A         0       0\n",
       "1        804228 2021-01-12     A         0       0\n",
       "2        661590 2021-01-11     B         0       0\n",
       "3        853541 2021-01-08     B         0       0\n",
       "4        864975 2021-01-21     A         1  150000\n",
       "...         ...        ...   ...       ...     ...\n",
       "294473   751197 2021-01-03     A         0       0\n",
       "294474   945152 2021-01-12     A         0       0\n",
       "294475   734608 2021-01-22     A         0       0\n",
       "294476   697314 2021-01-15     A         0       0\n",
       "294477   715931 2021-01-16     B         0       0\n",
       "\n",
       "[290688 rows x 5 columns]"
      ]
     },
     "execution_count": 687,
     "metadata": {},
     "output_type": "execute_result"
    }
   ],
   "source": [
    "data"
   ]
  },
  {
   "cell_type": "markdown",
   "id": "9bde9848",
   "metadata": {},
   "source": [
    "Таким образом мы выполнили первое задание, гда проанализирровали структуру данных и провели их предобработку, а именно:\n",
    "\n",
    "* проверили данные на нилчие пропусков\n",
    "* проверили данные на наличии дубликатов и участия одного пользователя в двух тестах\n",
    "* задали нужный диапазон для для честного тестирования\n",
    "\n",
    "`Отклонение количества наблюдений в группе А от группы В составляет 0,05%. Таким образом, можно сделать вывод, что выборка сбалансирована.`"
   ]
  },
  {
   "cell_type": "markdown",
   "id": "48badd1a",
   "metadata": {},
   "source": [
    "### Задание 2. Сделайте первичный анализ результатов A/B-тестирования\n",
    "\n",
    "Рассчитайте вспомогательные показатели для контрольной и тестовой групп:\n",
    "* количество посещений сайта;\n",
    "* суммарное количество совершённых покупок;\n",
    "* сумма всех покупок.\n",
    "\n",
    "Сделайте промежуточные выводы по построенной таблице. Сопоставимо ли количество посещений обоих вариантов посадочной страницы? Можно ли говорить о сбалансированности выборок?\n",
    "\n",
    "В каждой из групп рассчитайте ключевые показатели:\n",
    "* конверсия;\n",
    "* средний чек.\n",
    "\n",
    "Сделайте первичные выводы о результатах A/B-тестирования на основе показателей конверсии и среднего чека в каждой из групп. По какому(-им) показателю(-ям), на первый взгляд, вариант А эффективнее варианта B и наоборот?\n",
    "\n",
    "Сравните варианты A/B по покупательской способности каждого из туров. Для этого постройте сводную таблицу, которая покажет зависимость количества продаж от группы и цены тура. Визуализируйте полученную сводную таблицу.\n",
    "\n",
    "Сделайте выводы по построенной таблице. По каким турам покупательская способность участников группы А выше, чем покупательская способность участников группы B, и наоборот?"
   ]
  },
  {
   "attachments": {
    "image.png": {
     "image/png": "[encoded data removed]"
    }
   },
   "cell_type": "markdown",
   "id": "3ec21c36",
   "metadata": {},
   "source": [
    "Для первичного анализа результатов A/B-тестирования нам понадобится таблица следующего вида:\n",
    "\n",
    "![image.png](attachment:image.png)"
   ]
  },
  {
   "cell_type": "markdown",
   "id": "2f5f94dd",
   "metadata": {},
   "source": [
    "Для того, чтобы получить такую таблицу, сгруппируйте данные по признаку группы. В каждой группе рассчитайте следующие показатели:\n",
    "\n",
    "* количество посещений (количество пользователей)\n",
    "* количество совершенных покупок\n",
    "* сумма всех покупок в группе\n",
    "\n",
    "В полученной сгруппированной таблице переименуйте столбцы на count_visits, count_purchases и sum_price."
   ]
  },
  {
   "cell_type": "code",
   "execution_count": 688,
   "id": "5ab8dbfc",
   "metadata": {},
   "outputs": [
    {
     "data": {
      "text/html": [
       "<div>\n",
       "<style scoped>\n",
       "    .dataframe tbody tr th:only-of-type {\n",
       "        vertical-align: middle;\n",
       "    }\n",
       "\n",
       "    .dataframe tbody tr th {\n",
       "        vertical-align: top;\n",
       "    }\n",
       "\n",
       "    .dataframe thead th {\n",
       "        text-align: right;\n",
       "    }\n",
       "</style>\n",
       "<table border=\"1\" class=\"dataframe\">\n",
       "  <thead>\n",
       "    <tr style=\"text-align: right;\">\n",
       "      <th></th>\n",
       "      <th>group</th>\n",
       "      <th>count_visits</th>\n",
       "      <th>count_purchases</th>\n",
       "      <th>sum_price</th>\n",
       "    </tr>\n",
       "  </thead>\n",
       "  <tbody>\n",
       "    <tr>\n",
       "      <th>0</th>\n",
       "      <td>A</td>\n",
       "      <td>145307</td>\n",
       "      <td>17487</td>\n",
       "      <td>1417780000</td>\n",
       "    </tr>\n",
       "    <tr>\n",
       "      <th>1</th>\n",
       "      <td>B</td>\n",
       "      <td>145381</td>\n",
       "      <td>17290</td>\n",
       "      <td>1533010000</td>\n",
       "    </tr>\n",
       "  </tbody>\n",
       "</table>\n",
       "</div>"
      ],
      "text/plain": [
       "  group  count_visits  count_purchases   sum_price\n",
       "0     A        145307            17487  1417780000\n",
       "1     B        145381            17290  1533010000"
      ]
     },
     "execution_count": 688,
     "metadata": {},
     "output_type": "execute_result"
    }
   ],
   "source": [
    "group_data = data.groupby('group').agg({\n",
    "    'user_id':'count',\n",
    "    'purchase':'sum',\n",
    "    'price':'sum'\n",
    "}).reset_index()\n",
    "rename_group_data = group_data.rename(columns={\n",
    "    'user_id':'count_visits',\n",
    "    'purchase':'count_purchases',\n",
    "    'price':'sum_price'\n",
    "})\n",
    "rename_group_data "
   ]
  },
  {
   "cell_type": "markdown",
   "id": "248960b5",
   "metadata": {},
   "source": [
    "Приведите промежуточные выводы по построенной таблице. Сопоставимо ли количество посещений обоих вариантов посадочной странице, можно ли говорить о сбалансированности выборок?\n",
    "\n",
    "Отклонение количества наблюдений в группе А от группы В составляет 0,05%. Таким образом, можно сделать вывод, что выборка сбалансирована."
   ]
  },
  {
   "cell_type": "markdown",
   "id": "4f405d6b",
   "metadata": {},
   "source": [
    "Добавьте в сгруппированную таблицу столбцы conversion - конверсия покупки (отношение количества покупок к количеству посещений сайта в каждой группе, выраженное в процентах) и mean_check - средний чек (отношение суммы покупок к количеству покупок в каждой группе).\n",
    "\n",
    "* Чему равна конверсия в группах? Ответ приведите в процентах и округлите до сотых. Например, 75.12 %\n",
    "* Чему равен средний чек в группах? Ответ приведите в рублях и округлите до целых. Например, 120519 рублей."
   ]
  },
  {
   "cell_type": "code",
   "execution_count": 689,
   "id": "3ff63f97",
   "metadata": {},
   "outputs": [
    {
     "data": {
      "text/html": [
       "<div>\n",
       "<style scoped>\n",
       "    .dataframe tbody tr th:only-of-type {\n",
       "        vertical-align: middle;\n",
       "    }\n",
       "\n",
       "    .dataframe tbody tr th {\n",
       "        vertical-align: top;\n",
       "    }\n",
       "\n",
       "    .dataframe thead th {\n",
       "        text-align: right;\n",
       "    }\n",
       "</style>\n",
       "<table border=\"1\" class=\"dataframe\">\n",
       "  <thead>\n",
       "    <tr style=\"text-align: right;\">\n",
       "      <th></th>\n",
       "      <th>group</th>\n",
       "      <th>count_visits</th>\n",
       "      <th>count_purchases</th>\n",
       "      <th>sum_price</th>\n",
       "      <th>conversion</th>\n",
       "      <th>mean_check</th>\n",
       "    </tr>\n",
       "  </thead>\n",
       "  <tbody>\n",
       "    <tr>\n",
       "      <th>0</th>\n",
       "      <td>A</td>\n",
       "      <td>145307</td>\n",
       "      <td>17487</td>\n",
       "      <td>1417780000</td>\n",
       "      <td>12.03</td>\n",
       "      <td>81076.0</td>\n",
       "    </tr>\n",
       "    <tr>\n",
       "      <th>1</th>\n",
       "      <td>B</td>\n",
       "      <td>145381</td>\n",
       "      <td>17290</td>\n",
       "      <td>1533010000</td>\n",
       "      <td>11.89</td>\n",
       "      <td>88665.0</td>\n",
       "    </tr>\n",
       "  </tbody>\n",
       "</table>\n",
       "</div>"
      ],
      "text/plain": [
       "  group  count_visits  count_purchases   sum_price  conversion  mean_check\n",
       "0     A        145307            17487  1417780000       12.03     81076.0\n",
       "1     B        145381            17290  1533010000       11.89     88665.0"
      ]
     },
     "execution_count": 689,
     "metadata": {},
     "output_type": "execute_result"
    }
   ],
   "source": [
    "rename_group_data['conversion'] = round(rename_group_data['count_purchases']/rename_group_data['count_visits']*100,2)\n",
    "rename_group_data['mean_check'] = round(rename_group_data['sum_price']/rename_group_data['count_purchases'],0)\n",
    "rename_group_data.head()"
   ]
  },
  {
   "cell_type": "markdown",
   "id": "0ec8ce3d",
   "metadata": {},
   "source": [
    "Приведите промежуточные выводы по таблице. По какому(им) показателю(ям) вариант А эффективнее варианта B и наоборот?\n",
    "\n",
    "На данном этапе вариант А эффективнее по показателю конверсии, но у варианта В выше средний чек."
   ]
  },
  {
   "cell_type": "markdown",
   "id": "cc917ada",
   "metadata": {},
   "source": [
    "Теперь давайте сравним варианты по покупательской способности туров. Для этого постройте сводную таблицу, которая покажет зависимость количества продаж от группы и цены тура."
   ]
  },
  {
   "cell_type": "code",
   "execution_count": 691,
   "id": "085b4678",
   "metadata": {},
   "outputs": [
    {
     "data": {
      "text/html": [
       "<div>\n",
       "<style scoped>\n",
       "    .dataframe tbody tr th:only-of-type {\n",
       "        vertical-align: middle;\n",
       "    }\n",
       "\n",
       "    .dataframe tbody tr th {\n",
       "        vertical-align: top;\n",
       "    }\n",
       "\n",
       "    .dataframe thead th {\n",
       "        text-align: right;\n",
       "    }\n",
       "</style>\n",
       "<table border=\"1\" class=\"dataframe\">\n",
       "  <thead>\n",
       "    <tr style=\"text-align: right;\">\n",
       "      <th>price</th>\n",
       "      <th>0</th>\n",
       "      <th>10000</th>\n",
       "      <th>60000</th>\n",
       "      <th>100000</th>\n",
       "      <th>150000</th>\n",
       "      <th>200000</th>\n",
       "    </tr>\n",
       "    <tr>\n",
       "      <th>group</th>\n",
       "      <th></th>\n",
       "      <th></th>\n",
       "      <th></th>\n",
       "      <th></th>\n",
       "      <th></th>\n",
       "      <th></th>\n",
       "    </tr>\n",
       "  </thead>\n",
       "  <tbody>\n",
       "    <tr>\n",
       "      <th>A</th>\n",
       "      <td>0</td>\n",
       "      <td>5182</td>\n",
       "      <td>5271</td>\n",
       "      <td>1832</td>\n",
       "      <td>3478</td>\n",
       "      <td>1724</td>\n",
       "    </tr>\n",
       "    <tr>\n",
       "      <th>B</th>\n",
       "      <td>0</td>\n",
       "      <td>5201</td>\n",
       "      <td>1730</td>\n",
       "      <td>5227</td>\n",
       "      <td>3438</td>\n",
       "      <td>1694</td>\n",
       "    </tr>\n",
       "  </tbody>\n",
       "</table>\n",
       "</div>"
      ],
      "text/plain": [
       "price  0       10000   60000   100000  150000  200000\n",
       "group                                                \n",
       "A           0    5182    5271    1832    3478    1724\n",
       "B           0    5201    1730    5227    3438    1694"
      ]
     },
     "execution_count": 691,
     "metadata": {},
     "output_type": "execute_result"
    }
   ],
   "source": [
    "group_updated_data = data.groupby(['group','price'])['purchase'].sum().unstack()\n",
    "group_updated_data\n"
   ]
  },
  {
   "cell_type": "markdown",
   "id": "50102d43",
   "metadata": {},
   "source": [
    "Визуализируйте полученную сводную таблицу с помощью тепловой карты с аннотацией. Чему равно количество проданных туров за 60000 рублей в группах?"
   ]
  },
  {
   "cell_type": "code",
   "execution_count": 692,
   "id": "f070c69e",
   "metadata": {},
   "outputs": [
    {
     "data": {
      "text/plain": [
       "Text(0.5, 1.0, 'Зависимость количества продаж от группы и цены тура')"
      ]
     },
     "execution_count": 692,
     "metadata": {},
     "output_type": "execute_result"
    },
    {
     "data": {
      "image/png": "[encoded data removed]",
      "text/plain": [
       "<Figure size 1000x300 with 2 Axes>"
      ]
     },
     "metadata": {},
     "output_type": "display_data"
    }
   ],
   "source": [
    "plt.figure(figsize = (10,3))\n",
    "sp = sns.heatmap(group_updated_data, annot=True, fmt=\".0f\")\n",
    "sp.set_title(\"Зависимость количества продаж от группы и цены тура\")"
   ]
  },
  {
   "cell_type": "markdown",
   "id": "9cedf2d2",
   "metadata": {},
   "source": [
    "Сделайте выводы по построенной таблице. По каким турам покупательская способность участников группы А выше, чем участников группы B и наоборот?\n",
    "\n",
    "По тепловой карте можно сделать вывод, что клиенты в группе А чаще покупают туры стоимостью 10 и 60 тыс.руб, клиенты в группе В чаще покупают туры стоимостью 10000 и 100000. В остальных категориях значения сопоставимы. Таким образом, при одинаковых количествах проданых туров, выручка в группе В будет выше."
   ]
  },
  {
   "cell_type": "markdown",
   "id": "c4a49ece",
   "metadata": {},
   "source": [
    "Настало время поговорить о стабилизации кумулятивных метрик во времени. Но прежде, чем перейти к кумулятивным метрикам, нам необходимо построить таблицу с ежедневными данными результатов проведения A/B-тестирования.\n",
    "\n",
    "Сгруппируйте данные по дате и группе тестирования. В каждой группе вычислите количество посещений страницы, количество покупок и сумму покупок.\n",
    "\n",
    "Добавьте в таблицу информацию о ежедневной конверсии (ежедневное количество покупок / ежедневное количество посещений) в группе и ежедневном среднем чеке (ежедневная сумма покупок / ежедневное количество покупок)\n",
    "\n",
    "Чему равна конверсия 3 января 2021 года? Ответ приведите в процентах и округлите до сотых.\n",
    "\n",
    "Чему равен средний чек 3 января 2021 года? Ответ приведите в рублях и округлите до целого."
   ]
  },
  {
   "cell_type": "code",
   "execution_count": 694,
   "id": "c17e381c",
   "metadata": {},
   "outputs": [
    {
     "data": {
      "text/html": [
       "<div>\n",
       "<style scoped>\n",
       "    .dataframe tbody tr th:only-of-type {\n",
       "        vertical-align: middle;\n",
       "    }\n",
       "\n",
       "    .dataframe tbody tr th {\n",
       "        vertical-align: top;\n",
       "    }\n",
       "\n",
       "    .dataframe thead th {\n",
       "        text-align: right;\n",
       "    }\n",
       "</style>\n",
       "<table border=\"1\" class=\"dataframe\">\n",
       "  <thead>\n",
       "    <tr style=\"text-align: right;\">\n",
       "      <th></th>\n",
       "      <th>date</th>\n",
       "      <th>group</th>\n",
       "      <th>count_visits</th>\n",
       "      <th>count_purchases</th>\n",
       "      <th>sum_price</th>\n",
       "      <th>conversion</th>\n",
       "      <th>mean_check</th>\n",
       "    </tr>\n",
       "  </thead>\n",
       "  <tbody>\n",
       "    <tr>\n",
       "      <th>2</th>\n",
       "      <td>2021-01-03</td>\n",
       "      <td>A</td>\n",
       "      <td>6596</td>\n",
       "      <td>748</td>\n",
       "      <td>62000000</td>\n",
       "      <td>11.34</td>\n",
       "      <td>82888.0</td>\n",
       "    </tr>\n",
       "    <tr>\n",
       "      <th>3</th>\n",
       "      <td>2021-01-03</td>\n",
       "      <td>B</td>\n",
       "      <td>6619</td>\n",
       "      <td>754</td>\n",
       "      <td>65960000</td>\n",
       "      <td>11.39</td>\n",
       "      <td>87480.0</td>\n",
       "    </tr>\n",
       "  </tbody>\n",
       "</table>\n",
       "</div>"
      ],
      "text/plain": [
       "        date group  count_visits  count_purchases  sum_price  conversion  \\\n",
       "2 2021-01-03     A          6596              748   62000000       11.34   \n",
       "3 2021-01-03     B          6619              754   65960000       11.39   \n",
       "\n",
       "   mean_check  \n",
       "2     82888.0  \n",
       "3     87480.0  "
      ]
     },
     "execution_count": 694,
     "metadata": {},
     "output_type": "execute_result"
    }
   ],
   "source": [
    "group_by_date_data = data.groupby(['date','group']).agg({\n",
    "    'user_id':'count',\n",
    "    'purchase':'sum',\n",
    "    'price':'sum'\n",
    "}).reset_index()\n",
    "\n",
    "rename_group_by_date_data = group_by_date_data.rename(columns={\n",
    "    'user_id':'count_visits',\n",
    "    'purchase':'count_purchases',\n",
    "    'price':'sum_price'\n",
    "})\n",
    "\n",
    "rename_group_by_date_data['conversion'] = round(rename_group_by_date_data['count_purchases']/rename_group_by_date_data['count_visits']*100,2)\n",
    "rename_group_by_date_data['mean_check'] = round(rename_group_by_date_data['sum_price']/rename_group_by_date_data['count_purchases'])\n",
    "rename_group_by_date_data.head()\n",
    "\n",
    "rename_group_by_date_data[rename_group_by_date_data['date'] == '2021-01-03']"
   ]
  },
  {
   "cell_type": "markdown",
   "id": "2158ad8b",
   "metadata": {},
   "source": [
    "Добавьте в таблицу с ежедневными показателями кумулятивные признаки:\n",
    "* кумулятивное количество посещений страницы\n",
    "* кумулятивное количество покупок\n",
    "* кумулятивную сумму покупок\n",
    "\n",
    "Не забудьте при расчете кумулятивной суммы сгруппировать данные по группам.\n",
    "\n",
    "Вычислите кумулятивную конверсию и кумулятивный средний чек на основе полученных кумулятивных показателей.\n",
    "* Какая кумулятивная конверсия была в группе B на 20 января? Ответ приведите в процентах, округлив до сотых.\n",
    "* Какой кумулятивный средний чек был в группе А на 12 января 2021 года? Ответ приведите в рублях, округлив до целых."
   ]
  },
  {
   "cell_type": "code",
   "execution_count": 695,
   "id": "c5d2bba5",
   "metadata": {},
   "outputs": [
    {
     "name": "stdout",
     "output_type": "stream",
     "text": [
      "Кумулятивная конверсия на 20 января:\n"
     ]
    },
    {
     "data": {
      "text/html": [
       "<div>\n",
       "<style scoped>\n",
       "    .dataframe tbody tr th:only-of-type {\n",
       "        vertical-align: middle;\n",
       "    }\n",
       "\n",
       "    .dataframe tbody tr th {\n",
       "        vertical-align: top;\n",
       "    }\n",
       "\n",
       "    .dataframe thead th {\n",
       "        text-align: right;\n",
       "    }\n",
       "</style>\n",
       "<table border=\"1\" class=\"dataframe\">\n",
       "  <thead>\n",
       "    <tr style=\"text-align: right;\">\n",
       "      <th></th>\n",
       "      <th>group</th>\n",
       "      <th>cum_conversion</th>\n",
       "    </tr>\n",
       "  </thead>\n",
       "  <tbody>\n",
       "    <tr>\n",
       "      <th>36</th>\n",
       "      <td>A</td>\n",
       "      <td>11.98</td>\n",
       "    </tr>\n",
       "    <tr>\n",
       "      <th>37</th>\n",
       "      <td>B</td>\n",
       "      <td>11.90</td>\n",
       "    </tr>\n",
       "  </tbody>\n",
       "</table>\n",
       "</div>"
      ],
      "text/plain": [
       "   group  cum_conversion\n",
       "36     A           11.98\n",
       "37     B           11.90"
      ]
     },
     "metadata": {},
     "output_type": "display_data"
    },
    {
     "name": "stdout",
     "output_type": "stream",
     "text": [
      "Средний чек на 12 января:\n"
     ]
    },
    {
     "data": {
      "text/html": [
       "<div>\n",
       "<style scoped>\n",
       "    .dataframe tbody tr th:only-of-type {\n",
       "        vertical-align: middle;\n",
       "    }\n",
       "\n",
       "    .dataframe tbody tr th {\n",
       "        vertical-align: top;\n",
       "    }\n",
       "\n",
       "    .dataframe thead th {\n",
       "        text-align: right;\n",
       "    }\n",
       "</style>\n",
       "<table border=\"1\" class=\"dataframe\">\n",
       "  <thead>\n",
       "    <tr style=\"text-align: right;\">\n",
       "      <th></th>\n",
       "      <th>group</th>\n",
       "      <th>cum_mean_check</th>\n",
       "    </tr>\n",
       "  </thead>\n",
       "  <tbody>\n",
       "    <tr>\n",
       "      <th>20</th>\n",
       "      <td>A</td>\n",
       "      <td>81492.0</td>\n",
       "    </tr>\n",
       "    <tr>\n",
       "      <th>21</th>\n",
       "      <td>B</td>\n",
       "      <td>88352.0</td>\n",
       "    </tr>\n",
       "  </tbody>\n",
       "</table>\n",
       "</div>"
      ],
      "text/plain": [
       "   group  cum_mean_check\n",
       "20     A         81492.0\n",
       "21     B         88352.0"
      ]
     },
     "metadata": {},
     "output_type": "display_data"
    }
   ],
   "source": [
    "#Добавим столбцы с кумулятивными значениями: количество посещений страницы, количество покупок, сумма покупок\n",
    "rename_group_by_date_data['cum_users_count'] = rename_group_by_date_data.groupby('group')['count_visits'].cumsum()\n",
    "rename_group_by_date_data['cum_count_purchases'] = rename_group_by_date_data.groupby('group')['count_purchases'].cumsum()\n",
    "rename_group_by_date_data['cum_sum_price'] = rename_group_by_date_data.groupby('group')['sum_price'].cumsum()\n",
    "\n",
    "#Вычислим кумулятивную конверсию и кумулятивный средний чек на основе полученных кумулятивных показателей\n",
    "rename_group_by_date_data['cum_conversion'] = round(rename_group_by_date_data['cum_count_purchases']/rename_group_by_date_data['cum_users_count']*100, 2)\n",
    "rename_group_by_date_data['cum_mean_check'] = round(rename_group_by_date_data['cum_sum_price']/rename_group_by_date_data['cum_count_purchases'])\n",
    "\n",
    "print('Кумулятивная конверсия на 20 января:')\n",
    "display(rename_group_by_date_data[rename_group_by_date_data['date'] == '2021-01-20'][['group','cum_conversion']])\n",
    "print('Средний чек на 12 января:')\n",
    "display(rename_group_by_date_data[rename_group_by_date_data['date'] == '2021-01-12'][['group','cum_mean_check']])"
   ]
  },
  {
   "cell_type": "markdown",
   "id": "d92d396d",
   "metadata": {},
   "source": [
    "Постройте кумулятивные графики конверсии и среднего чека в каждой группе по дням. Сделайте выводы. Можно ли назвать A/B-тест завершенным - стабилизировались ли значения метрик во времени? Как соотносятся кумулятивные показатели в каждой группе?"
   ]
  },
  {
   "cell_type": "code",
   "execution_count": 696,
   "id": "651e809c",
   "metadata": {},
   "outputs": [
    {
     "data": {
      "image/png": "[encoded data removed]",
      "text/plain": [
       "<Figure size 1500x600 with 2 Axes>"
      ]
     },
     "metadata": {},
     "output_type": "display_data"
    }
   ],
   "source": [
    "#А теперь построим графики кумулятивной конверсии по дням в каждой группе:\n",
    "# создаём фигуру размером 8x4\n",
    "fig, ax = plt.subplots(1, 2, figsize=(15, 6))\n",
    "\n",
    "# строим lineplot для кумулятивной конверсии во времени в каждой группе\n",
    "sns.lineplot(x='date', y='cum_conversion', data=rename_group_by_date_data, hue='group', ax=ax[0])\n",
    "sns.lineplot(x='date', y='cum_mean_check', data=rename_group_by_date_data, hue='group', ax=ax[1])\n",
    "# задаём подпись к графику\n",
    "ax[0].set_title('График кумулятивной конверсии по дням')\n",
    "ax[1].set_title('График кумулятивного среднего чека по дням')\n",
    "# задаём поворот меток на оси абсцисс\n",
    "ax[0].xaxis.set_tick_params(rotation=45)\n",
    "ax[1].xaxis.set_tick_params(rotation=45)\n",
    "# задаём отображение сетки\n",
    "ax[0].grid(True)\n",
    "ax[1].grid(True);"
   ]
  },
  {
   "cell_type": "markdown",
   "id": "c23a5e11",
   "metadata": {},
   "source": [
    "Кумулятивная конверсия в группе А выше чем в группе В за весь период наблюдения кроме 10.01.2021г. Пиковое значение в обоих группах приходится на 2 января (начало наблюдений), далее спад 3 января. Значения стабилизировались после 15.01.2021г. Средний чек в группе В выше, чем в группе А за весь период наблюдений, кроме того значение среднего чека в группе B растет в течение времени, а в группе А снижается."
   ]
  },
  {
   "cell_type": "markdown",
   "id": "153667b9",
   "metadata": {},
   "source": [
    "Настало время переходить к проверке статистической значимости разницы между метриками в группах. Начнем с конверсии.\n",
    "\n",
    "Какой тест вы примените для проверки гипотезы о равенстве конверсий в группах?\n",
    "\n",
    "Проведите тестирование при следующих нулевой и альтернативной гипотезе:\n",
    "* $H_0$: Конверсии в группах А и B равны;\n",
    "* $H_1$: Конверсия в группе А больше чем конверсия в группе B;\n",
    "\n",
    "Вычислите p-value вашего теста для конверсий в группах А и B. Сравните полученное значение p-value с уровнем значимости $a$\n",
    "=0.05."
   ]
  },
  {
   "cell_type": "code",
   "execution_count": 698,
   "id": "442de35d",
   "metadata": {},
   "outputs": [
    {
     "data": {
      "text/html": [
       "<div>\n",
       "<style scoped>\n",
       "    .dataframe tbody tr th:only-of-type {\n",
       "        vertical-align: middle;\n",
       "    }\n",
       "\n",
       "    .dataframe tbody tr th {\n",
       "        vertical-align: top;\n",
       "    }\n",
       "\n",
       "    .dataframe thead th {\n",
       "        text-align: right;\n",
       "    }\n",
       "</style>\n",
       "<table border=\"1\" class=\"dataframe\">\n",
       "  <thead>\n",
       "    <tr style=\"text-align: right;\">\n",
       "      <th></th>\n",
       "      <th>sum</th>\n",
       "      <th>count</th>\n",
       "    </tr>\n",
       "    <tr>\n",
       "      <th>group</th>\n",
       "      <th></th>\n",
       "      <th></th>\n",
       "    </tr>\n",
       "  </thead>\n",
       "  <tbody>\n",
       "    <tr>\n",
       "      <th>A</th>\n",
       "      <td>17487</td>\n",
       "      <td>145307</td>\n",
       "    </tr>\n",
       "    <tr>\n",
       "      <th>B</th>\n",
       "      <td>17290</td>\n",
       "      <td>145381</td>\n",
       "    </tr>\n",
       "  </tbody>\n",
       "</table>\n",
       "</div>"
      ],
      "text/plain": [
       "         sum   count\n",
       "group               \n",
       "A      17487  145307\n",
       "B      17290  145381"
      ]
     },
     "metadata": {},
     "output_type": "display_data"
    },
    {
     "name": "stdout",
     "output_type": "stream",
     "text": [
      "p-value:  0.12\n",
      "Принимаем нулевую гипотезу. Конверсии в группах А и B равны\n"
     ]
    }
   ],
   "source": [
    "converted_piv = data.groupby('group')['purchase'].agg(['sum','count'])\n",
    "display(converted_piv)\n",
    "#нулевая и альтернативная гипотезы\n",
    "H0 = 'Конверсии в группах А и B равны'\n",
    "H1 = 'Конверсия в группе А больше, чем конверсия в группе B'\n",
    "alpha = 0.05 # уровень значимости\n",
    "# вычисляем значение p-value для z-теста для пропорций\n",
    "_, p_value = proportions_ztest(\n",
    "    count=converted_piv['sum'], #число \"успехов\"\n",
    "    nobs=converted_piv['count'], #общее число наблюдений\n",
    "    alternative='larger',\n",
    ")\n",
    "# выводим результат на экран\n",
    "print('p-value: ', round(p_value, 2))\n",
    "# сравниваем полученное p-value с уровнем значимости\n",
    "if (p_value < alpha): \n",
    "    print(\"Отвергаем нулевую гипотезу. {}\".format(H0))\n",
    "    print(\"Альтернативная гипотеза. H1: {}\".format(H1))\n",
    "else:\n",
    "    print(\"Принимаем нулевую гипотезу. {}\".format(H0))"
   ]
  },
  {
   "cell_type": "markdown",
   "id": "3ead4530",
   "metadata": {},
   "source": [
    "Приведите свои выводы по результатам проведенного статистического теста. Есть ли статистическая разница между конверсиями в группах А и B?\n",
    "\n",
    "При уровне значимости 0,05 статистическая разница между конверсиями в группах А и В отсутствует. Решение о выборе между вариантами не может быть принято на основании показателя конверсии."
   ]
  },
  {
   "cell_type": "markdown",
   "id": "49cd0906",
   "metadata": {},
   "source": [
    "Убедитесь в своих рассуждениях, построив 95%-ый доверительный интервал для конверсий и разницы между ними.\n",
    "\n",
    "Укажите нижнюю и верхнюю границы доверительных интервалов. Границы приведите в процентах и округлите до 2 знака после запятой. Например: нижняя граница 89.24%, верхняя граница 91.25%."
   ]
  },
  {
   "cell_type": "code",
   "execution_count": 700,
   "id": "60a0a702",
   "metadata": {},
   "outputs": [
    {
     "name": "stdout",
     "output_type": "stream",
     "text": [
      "Доверительный интервал для конверсии группы А: (11.87, 12.2)\n",
      "Доверительный интервал для конверсии группы B: (11.73, 12.06)\n",
      "Доверительный интервал для разности конверсий: (-0.38, 0.09)\n"
     ]
    }
   ],
   "source": [
    "#Построим доверительные интервалы для конверсии по группам\n",
    "def proportions_conf_interval(n, x_p, gamma=0.95):   \n",
    "    alpha = 1 - gamma # уровень значимости\n",
    "    z_crit = -norm.ppf(alpha/2) # z критическое\n",
    "    eps = z_crit * (x_p * (1 - x_p) / n) ** 0.5 #погрешность\n",
    "    lower_bound = x_p - eps # левая (нижняя) граница\n",
    "    upper_bound = x_p + eps # правая (верхняя) граница\n",
    "    # возвращаем кортеж из округлённых границ интервала\n",
    "    return round(lower_bound * 100, 2), round(upper_bound * 100, 2)\n",
    "\n",
    "#создадим дата сеты для групп А и В\n",
    "a_data = data[data['group'] == 'A']\n",
    "b_data = data[data['group'] == 'B']\n",
    "\n",
    "#Теперь применим нашу функцию к данным группы А и группы B:\n",
    "conf_interval_a = proportions_conf_interval(\n",
    "n=a_data['purchase'].count(), # размер выборки\n",
    "x_p=a_data['purchase'].mean() # выборочная пропорция\n",
    ")\n",
    "conf_interval_b = proportions_conf_interval(\n",
    "n=b_data['purchase'].count(), # размер выборки\n",
    "x_p=b_data['purchase'].mean() # выборочная пропорция\n",
    ")\n",
    "print('Доверительный интервал для конверсии группы А: {}'.format(conf_interval_a))\n",
    "print('Доверительный интервал для конверсии группы B: {}'.format(conf_interval_b))\n",
    "\n",
    "#Построим доверительные интервалы для разницы между конверсиями\n",
    "def diff_proportions_conf_interval(n, xp, gamma=0.95):\n",
    "    alpha = 1 - gamma # уровень значимости\n",
    "    diff = xp[1] - xp[0] # выборочная разница конверсий групп B и A\n",
    "    z_crit = -norm.ppf(alpha/2) # z критическое\n",
    "    eps = z_crit * (xp[0] * (1 - xp[0])/n[0] + xp[1] * (1 - xp[1])/n[1]) ** 0.5 # погрешность\n",
    "    lower_bound = diff - eps # левая (нижняя) граница\n",
    "    upper_bound = diff + eps # правая (верхняя) граница\n",
    "    # возвращаем кортеж из округлённых границ интервала\n",
    "    return round(lower_bound *100, 2), round(upper_bound * 100, 2)\n",
    "\n",
    "#Вызовем функцию и построим интересующий нас доверительный интервал:\n",
    "# размеры выборок групп А и B\n",
    "n = [a_data['user_id'].count(), b_data['user_id'].count()]\n",
    "# выборочная пропорция групп A и B\n",
    "xp = [a_data['purchase'].mean(), b_data['purchase'].mean()]\n",
    "# строим доверительный интервал для разности конверсий\n",
    "diff_inverval = diff_proportions_conf_interval(n, xp)\n",
    "print('Доверительный интервал для разности конверсий: {}'.format(diff_inverval))"
   ]
  },
  {
   "cell_type": "markdown",
   "id": "5948f829",
   "metadata": {},
   "source": [
    "Проинтерпретируйте построенные доверительные интервалы для конверсий в группах. Есть ли перекрытие между доверительными интервалами для групп? Есть ли статистическая разница между конверсиями в группах А и B?\n",
    "\n",
    "С вероятностью 95% среднее значение конверсии в группе А лежит в диапазоне от 11.87 до 12.2, в группе В в диапазоне от 11.73 до 12.06. Оба доверительных интервала имеют общие значения в диапазоне от 11.87 до 12.06. Доверительный интервал разницы конверсий лежит в диапазоне от -0.38 до 0.09. Это значит, что что варианты А и B равнозначны по метрике конверсии."
   ]
  },
  {
   "cell_type": "markdown",
   "id": "5d5423e3",
   "metadata": {},
   "source": [
    "Ранее мы построили таблицу с ежедневными показателями. Теперь она нам снова понадобится, так как нас интересует ежедневный средний чек.\n",
    "\n",
    "Проверьте гипотезу о нормальности распределения ежедневного среднего чека в каждой из групп тестирования.\n",
    "* Какой тест вы примените для проверки гипотезы о нормальности распределения ежедневного среднего чека?\n",
    "* Как будут звучать нулевая и альтернативная гипотезы?\n",
    "* Каковы результаты статистического теста с уровнем значимости $a$=0.05?"
   ]
  },
  {
   "cell_type": "code",
   "execution_count": 701,
   "id": "685376d6",
   "metadata": {},
   "outputs": [
    {
     "name": "stdout",
     "output_type": "stream",
     "text": [
      "p-value группы А 0.25\n",
      "p-value группы B 0.09\n",
      "Данные распределены нормально\n"
     ]
    }
   ],
   "source": [
    "H0 = 'Данные распределены нормально'\n",
    "Ha = 'Распределение отлично от нормального'\n",
    "\n",
    "alpha = 0.05\n",
    "\n",
    "a_data_2 = rename_group_by_date_data[rename_group_by_date_data['group'] == 'A']\n",
    "b_data_2 = rename_group_by_date_data[rename_group_by_date_data['group'] == 'B']\n",
    "\n",
    "shapiro_a = shapiro(a_data_2['mean_check'])\n",
    "shapiro_b = shapiro(b_data_2['mean_check'])\n",
    "\n",
    "print('p-value группы А', round(shapiro_a.pvalue, 2))\n",
    "print('p-value группы B', round(shapiro_b.pvalue, 2))\n",
    "\n",
    "# Интерпретация \n",
    "\n",
    "if shapiro_a.pvalue < alpha or shapiro_b.pvalue < alpha:\n",
    "\tprint(Ha)\n",
    "else:\n",
    "\tprint(H0)"
   ]
  },
  {
   "cell_type": "markdown",
   "id": "454ffaa8",
   "metadata": {},
   "source": [
    "Настало время сравнить варианты дизайна страницы по метрике среднего чека.\n",
    "\n",
    "Какой тест вы примените для проверки гипотезы о равенстве средних чеков по дням в группах?\n",
    "\n",
    "Проведите тестирование при следующих нулевой и альтернативной гипотезе:\n",
    "* $H_0$: Ежедневные средние чеки в группах А и B равны;\n",
    "* $H_1$: Ежедневный средний чек в группе А меньше чем в группе B;\n",
    "\n",
    "Вычислите p-value вашего теста для ежедневного среднего чека в группах А и B. Сравните полученное значение p-value с уровнем значимости $a$=0.05."
   ]
  },
  {
   "cell_type": "code",
   "execution_count": 702,
   "id": "c287f2d3",
   "metadata": {},
   "outputs": [
    {
     "name": "stdout",
     "output_type": "stream",
     "text": [
      "p-value: 0.0\n",
      "Отвергаем нулевую гипотезу. Ежедневные средние чеки в группах А и B равны\n",
      "Альтернативная гипотеза. H1: Ежедневный средний чек в группе А меньше чем в группе B\n"
     ]
    }
   ],
   "source": [
    "# нулевая и альтернативная гипотезы\n",
    "H0 = 'Ежедневные средние чеки в группах А и B равны'\n",
    "H1 = 'Ежедневный средний чек в группе А меньше чем в группе B'\n",
    "alpha = 0.05 #уровень значимости\n",
    "#вычисляем результат T-теста для выборок\n",
    "results = ttest_ind(\n",
    "    a=a_data_2['mean_check'],\n",
    "    b=b_data_2['mean_check'], \n",
    "    alternative='less'\n",
    ")\n",
    "print('p-value:', round(results.pvalue, 2))\n",
    " \n",
    "if results.pvalue < alpha:\n",
    "    print(\"Отвергаем нулевую гипотезу. {}\".format(H0))\n",
    "    print(\"Альтернативная гипотеза. H1: {}\".format(H1))\n",
    "else:\n",
    "    print(\"Принимаем нулевую гипотезу. {}\".format(H0))"
   ]
  },
  {
   "cell_type": "markdown",
   "id": "c85b73bd",
   "metadata": {},
   "source": [
    "Приведите свои выводы по проведенному статистическому тесту. Есть ли статистическая разница между ежедневными средними чеками в группах А и B?\n",
    "\n",
    "С вероятностью 95% средний чек в группе В окажется выше, чем средний чек в группе А. Вариант В более предпочтителен."
   ]
  },
  {
   "cell_type": "code",
   "execution_count": 704,
   "id": "749371ed",
   "metadata": {},
   "outputs": [
    {
     "name": "stdout",
     "output_type": "stream",
     "text": [
      "Доверительный интервал для конверсии группы А: (79630, 82308)\n",
      "Доверительный интервал для конверсии группы B: (87626, 89526)\n"
     ]
    }
   ],
   "source": [
    "def ttest_interval(n, x_mean, x_std, gamma=0.95):\n",
    "    k = n - 1 # число степеней свободы\n",
    "    alpha = 1 - gamma # уровень значимости\n",
    "    t_crit = -t.ppf(alpha/2, k) # t-критическое\n",
    "    eps = t_crit * x_std/(n ** 0.5) # погрешность\n",
    "    lower_bound = x_mean - eps # левая (нижняя) граница\n",
    "    upper_bound = x_mean + eps # правая (верхняя) граница\n",
    "    return round(lower_bound), round(upper_bound)\n",
    "\n",
    "a_data_2 = rename_group_by_date_data[rename_group_by_date_data['group'] == 'A']\n",
    "b_data_2 = rename_group_by_date_data[rename_group_by_date_data['group'] == 'B']\n",
    "\n",
    "#Теперь применим нашу функцию к данным группы А и группы B:\n",
    "ttest_interval_a = ttest_interval(\n",
    "n = a_data_2['count_visits'].count(), # размер выборки\n",
    "x_mean = a_data_2['mean_check'].mean(), # выборочное среднее\n",
    "x_std = a_data_2['mean_check'].std() # выборочное стандартное отклонение\n",
    ")\n",
    "ttest_interval_b = ttest_interval(\n",
    "n = b_data_2['count_visits'].count(), # размер выборки\n",
    "x_mean = b_data_2['mean_check'].mean(), # выборочное среднее\n",
    "x_std = b_data_2['mean_check'].std() # выборочное стандартное отклонение\n",
    ")\n",
    "print('Доверительный интервал для конверсии группы А: {}'.format(ttest_interval_a))\n",
    "print('Доверительный интервал для конверсии группы B: {}'.format(ttest_interval_b))\n"
   ]
  },
  {
   "cell_type": "markdown",
   "id": "a5e03621",
   "metadata": {},
   "source": [
    "Проинтерпретируйте построенные доверительные интервалы для ежедневных средних чеков в группах. Есть ли между ними пересечения?\n",
    "\n",
    "С вероятностью 95% среднее значение конверсии в группе А лежит в диапазоне от 79 630 до 82 308, в группе В в диапазоне от 87 626 до 89 526. Доверительные интервалы не имеют общих значений. Все значения доверительного интервала варианта В выше значений доверительного интервала варианта В. Таким образом вариант В более предпочтителен."
   ]
  },
  {
   "cell_type": "markdown",
   "id": "0614e3df",
   "metadata": {},
   "source": [
    "### Общий вывод по результатам A/B-теста\n",
    "По резултату А/В теста предпочтение следует отдать варианту В. Поскольку средний чек в группе В выше, чем в группе А. А результаты исследования разницы конверсий не показали статистически значимых отклонений."
   ]
  }
 ],
 "metadata": {
  "kernelspec": {
   "display_name": "Python 3",
   "language": "python",
   "name": "python3"
  },
  "language_info": {
   "codemirror_mode": {
    "name": "ipython",
    "version": 3
   },
   "file_extension": ".py",
   "mimetype": "text/x-python",
   "name": "python",
   "nbconvert_exporter": "python",
   "pygments_lexer": "ipython3",
   "version": "3.10.11"
  }
 },
 "nbformat": 4,
 "nbformat_minor": 5
}

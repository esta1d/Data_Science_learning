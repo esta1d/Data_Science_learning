{
 "cells": [
  {
   "cell_type": "code",
   "execution_count": 1,
   "metadata": {},
   "outputs": [],
   "source": [
    "import pandas as pd\n",
    "import numpy as np\n",
    "import requests"
   ]
  },
  {
   "cell_type": "code",
   "execution_count": null,
   "metadata": {},
   "outputs": [],
   "source": [
    "API_KEY = 'OLAGL2N7RBFOBNUU2TIJGBLOUHC44OFIPP1VKU2SC8HF3UBC4FR2LUOFEBJ1T5OU'\n",
    "URL = 'https://api.hh.ru/vacancies'\n",
    "\n",
    "params = {\n",
    "    'text': 'Python разработчик',  # Поиск по ключевым словам\n",
    "    'area': 1,                   # Регион поиска (Москва)\n",
    "    'per_page': 50               # Количество возвращаемых вакансий на странице\n",
    "}\n",
    "\n",
    "headers = {\n",
    "    'Authorization': f'Bearer {API_KEY}'\n",
    "}\n",
    "\n",
    "response = requests.get(URL, params=params, headers=headers)\n",
    "\n",
    "if response.status_code == 200:\n",
    "    data = response.json()\n",
    "    vacancies = data['items']  # Список вакансий\n",
    "    for vacancy in vacancies:\n",
    "        print(vacancy['name'])  # Название вакансии\n",
    "else:\n",
    "    print(f'Ошибка: {response.status_code}')"
   ]
  },
  {
   "cell_type": "code",
   "execution_count": null,
   "metadata": {},
   "outputs": [],
   "source": [
    "# grant_type=authorization_code&client_id=MP03C386KREDDG357HFDA3RQ3SBS7LNUMH05AFQ4DFBFHSS6JSDAH8OJR52G6AEL&client_secret=Q4R8J8TDQJ1HF5D6RN1H3E2NV1O645OD9GEDRETMRF2MO37RAUT1BJVN24647M1G&redirect_uri=https%3A%2F%2Fwww.example.com%2Foauth&code=OLAGL2N7RBFOBNUU2TIJGBLOUHC44OFIPP1VKU2SC8HF3UBC4FR2LUOFEBJ1T5OU"
   ]
  },
  {
   "cell_type": "code",
   "execution_count": 4,
   "metadata": {},
   "outputs": [
    {
     "ename": "SyntaxError",
     "evalue": "cannot assign to expression (614323312.py, line 1)",
     "output_type": "error",
     "traceback": [
      "\u001b[1;36m  Cell \u001b[1;32mIn[4], line 1\u001b[1;36m\u001b[0m\n\u001b[1;33m    grant_type=authorization_code&client_id=MP03C386KREDDG357HFDA3RQ3SBS7LNUMH05AFQ4DFBFHSS6JSDAH8OJR52G6AEL&client_secret=Q4R8J8TDQJ1HF5D6RN1H3E2NV1O645OD9GEDRETMRF2MO37RAUT1BJVN24647M1G&redirect_uri=https.example.com&code=OLAGL2N7RBFOBNUU2TIJGBLOUHC44OFIPP1VKU2SC8HF3UBC4FR2LUOFEBJ1T5OU\u001b[0m\n\u001b[1;37m               ^\u001b[0m\n\u001b[1;31mSyntaxError\u001b[0m\u001b[1;31m:\u001b[0m cannot assign to expression\n"
     ]
    }
   ],
   "source": [
    "grant_type=authorization_code&client_id=MP03C386KREDDG357HFDA3RQ3SBS7LNUMH05AFQ4DFBFHSS6JSDAH8OJR52G6AEL&client_secret=Q4R8J8TDQJ1HF5D6RN1H3E2NV1O645OD9GEDRETMRF2MO37RAUT1BJVN24647M1G&redirect_uri=https.example.com&code=OLAGL2N7RBFOBNUU2TIJGBLOUHC44OFIPP1VKU2SC8HF3UBC4FR2LUOFEBJ1T5OU"
   ]
  }
 ],
 "metadata": {
  "kernelspec": {
   "display_name": "Python 3",
   "language": "python",
   "name": "python3"
  },
  "language_info": {
   "codemirror_mode": {
    "name": "ipython",
    "version": 3
   },
   "file_extension": ".py",
   "mimetype": "text/x-python",
   "name": "python",
   "nbconvert_exporter": "python",
   "pygments_lexer": "ipython3",
   "version": "3.10.11"
  }
 },
 "nbformat": 4,
 "nbformat_minor": 2
}

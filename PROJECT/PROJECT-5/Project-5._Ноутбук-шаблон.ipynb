{
 "cells": [
  {
   "attachments": {},
   "cell_type": "markdown",
   "metadata": {
    "id": "F6EDfWQLkBLX",
    "tags": []
   },
   "source": [
    "## 1. Постановка задачи"
   ]
  },
  {
   "attachments": {},
   "cell_type": "markdown",
   "metadata": {
    "id": "G3NPCLzmkBLa"
   },
   "source": [
    "<center> <img src=https://storage.googleapis.com/kaggle-competitions/kaggle/3333/media/taxi_meter.png align=\"right\" width=\"300\"/> </center>\n",
    "    \n",
    "Вам предстоит решить настоящую задачу машинного обучения, направленную на автоматизацию бизнес процессов. Мы построим модель, которая будет предсказывать общую продолжительность поездки такси в Нью-Йорке. \n",
    "\n",
    "Представьте вы заказываете такси из одной точки Нью-Йорка в другую, причем не обязательно конечная точка должна находиться в пределах города. Сколько вы должны будете за нее заплатить? Известно, что стоимость такси в США  рассчитывается на основе фиксированной ставки + тарифная стоимость, величина которой зависит от времени и расстояния. Тарифы варьируются в зависимости от города.\n",
    "\n",
    "В свою очередь время поездки зависит от множества факторов таких как, откуда и куда вы едете, в какое время суток вы совершаете вашу поездку, погодных условий и так далее. \n",
    "\n",
    "Таким образом, если мы разработаем алгоритм, способный определять длительность поездки, мы сможем прогнозировать ее стоимость самым тривиальным образом, например, просто умножая стоимость на заданный тариф. \n",
    "Сервисы такси хранят огромные объёмы информации о поездках, включая такие данные как конечная, начальная точка маршрута, дата поездки и ее длительность. Эти данные можно использовать для того, чтобы прогнозировать длительность поездки в автоматическом режиме с привлечением искусственного интеллекта.\n",
    "\n",
    "**Бизнес-задача:** определить характеристики и с их помощью спрогнозировать длительность поездки такси.\n",
    "\n",
    "**Техническая задача для вас как для специалиста в Data Science:** построить модель машинного обучения, которая на основе предложенных характеристик клиента будет предсказывать числовой признак - время поездки такси. То есть решить задачу регрессии.\n",
    "\n",
    "**Основные цели проекта:**\n",
    "1. Сформировать набор данных на основе нескольких источников информации\n",
    "2. Спроектировать новые признаки с помощью Feature Engineering и выявить наиболее значимые при построении модели\n",
    "3. Исследовать предоставленные данные и выявить закономерности\n",
    "4. Построить несколько моделей и выбрать из них наилучшую по заданной метрике\n",
    "5. Спроектировать процесс предсказания времени длительности поездки для новых данных\n",
    "\n",
    "Загрузить свое решение на платформу Kaggle, тем самым поучаствовав в настоящем Data Science соревновании.\n",
    "Во время выполнения проекта вы отработаете навыки работы с несколькими источниками данных, генерации признаков, разведывательного анализа и визуализации данных, отбора признаков и, конечно же, построения моделей машинного обучения!\n"
   ]
  },
  {
   "attachments": {},
   "cell_type": "markdown",
   "metadata": {
    "id": "4Up0IUABkBLc",
    "tags": []
   },
   "source": [
    "## 2. Знакомство с данными, базовый анализ и расширение данных"
   ]
  },
  {
   "attachments": {},
   "cell_type": "markdown",
   "metadata": {
    "id": "7W9mZPhWkBLd"
   },
   "source": [
    "Начнём наше исследование со знакомства с предоставленными данными. А также подгрузим дополнительные источники данных и расширим наш исходный датасет. \n"
   ]
  },
  {
   "attachments": {},
   "cell_type": "markdown",
   "metadata": {
    "id": "UTIxJupXkBLd"
   },
   "source": [
    "Заранее импортируем модули, которые нам понадобятся для решения задачи:"
   ]
  },
  {
   "cell_type": "code",
   "execution_count": 463,
   "metadata": {
    "id": "yeC12P0hkBLe"
   },
   "outputs": [],
   "source": [
    "import numpy as np\n",
    "import pandas as pd\n",
    "import matplotlib.pyplot as plt\n",
    "import seaborn as sns\n",
    "import plotly.express as px\n",
    "import plotly.io as pio\n",
    "import plotly.graph_objects as go\n",
    "\n",
    "from scipy import stats\n",
    "from sklearn import linear_model\n",
    "from sklearn import preprocessing\n",
    "from sklearn import model_selection\n",
    "from sklearn import tree\n",
    "from sklearn import ensemble\n",
    "from sklearn import metrics\n",
    "from sklearn import cluster\n",
    "from sklearn import feature_selection\n",
    "\n",
    "from IPython.display import display, Markdown, Latex\n",
    "\n",
    "\n",
    "sns.set_style('darkgrid')\n",
    "plt.style.use('dark_background')\n",
    "pio.templates.default = 'plotly_dark'\n",
    "pio.renderers.default = 'png'"
   ]
  },
  {
   "attachments": {},
   "cell_type": "markdown",
   "metadata": {
    "id": "kk5-kjqikBLf"
   },
   "source": [
    "Прочитаем наш файл с исходными данными:"
   ]
  },
  {
   "cell_type": "code",
   "execution_count": 411,
   "metadata": {
    "_cell_guid": "79c7e3d0-c299-4dcb-8224-4455121ee9b0",
    "_uuid": "d629ff2d2480ee46fbb7e2d37f6b5fab8052498a",
    "id": "hMQnRJwdkBLg",
    "tags": []
   },
   "outputs": [
    {
     "name": "stdout",
     "output_type": "stream",
     "text": [
      "Train data shape: (1458644, 11)\n"
     ]
    },
    {
     "data": {
      "text/html": [
       "<div>\n",
       "<style scoped>\n",
       "    .dataframe tbody tr th:only-of-type {\n",
       "        vertical-align: middle;\n",
       "    }\n",
       "\n",
       "    .dataframe tbody tr th {\n",
       "        vertical-align: top;\n",
       "    }\n",
       "\n",
       "    .dataframe thead th {\n",
       "        text-align: right;\n",
       "    }\n",
       "</style>\n",
       "<table border=\"1\" class=\"dataframe\">\n",
       "  <thead>\n",
       "    <tr style=\"text-align: right;\">\n",
       "      <th></th>\n",
       "      <th>id</th>\n",
       "      <th>vendor_id</th>\n",
       "      <th>pickup_datetime</th>\n",
       "      <th>dropoff_datetime</th>\n",
       "      <th>passenger_count</th>\n",
       "      <th>pickup_longitude</th>\n",
       "      <th>pickup_latitude</th>\n",
       "      <th>dropoff_longitude</th>\n",
       "      <th>dropoff_latitude</th>\n",
       "      <th>store_and_fwd_flag</th>\n",
       "      <th>trip_duration</th>\n",
       "    </tr>\n",
       "  </thead>\n",
       "  <tbody>\n",
       "    <tr>\n",
       "      <th>0</th>\n",
       "      <td>id2875421</td>\n",
       "      <td>2</td>\n",
       "      <td>2016-03-14 17:24:55</td>\n",
       "      <td>2016-03-14 17:32:30</td>\n",
       "      <td>1</td>\n",
       "      <td>-73.982155</td>\n",
       "      <td>40.767937</td>\n",
       "      <td>-73.964630</td>\n",
       "      <td>40.765602</td>\n",
       "      <td>N</td>\n",
       "      <td>455</td>\n",
       "    </tr>\n",
       "    <tr>\n",
       "      <th>1</th>\n",
       "      <td>id2377394</td>\n",
       "      <td>1</td>\n",
       "      <td>2016-06-12 00:43:35</td>\n",
       "      <td>2016-06-12 00:54:38</td>\n",
       "      <td>1</td>\n",
       "      <td>-73.980415</td>\n",
       "      <td>40.738564</td>\n",
       "      <td>-73.999481</td>\n",
       "      <td>40.731152</td>\n",
       "      <td>N</td>\n",
       "      <td>663</td>\n",
       "    </tr>\n",
       "    <tr>\n",
       "      <th>2</th>\n",
       "      <td>id3858529</td>\n",
       "      <td>2</td>\n",
       "      <td>2016-01-19 11:35:24</td>\n",
       "      <td>2016-01-19 12:10:48</td>\n",
       "      <td>1</td>\n",
       "      <td>-73.979027</td>\n",
       "      <td>40.763939</td>\n",
       "      <td>-74.005333</td>\n",
       "      <td>40.710087</td>\n",
       "      <td>N</td>\n",
       "      <td>2124</td>\n",
       "    </tr>\n",
       "    <tr>\n",
       "      <th>3</th>\n",
       "      <td>id3504673</td>\n",
       "      <td>2</td>\n",
       "      <td>2016-04-06 19:32:31</td>\n",
       "      <td>2016-04-06 19:39:40</td>\n",
       "      <td>1</td>\n",
       "      <td>-74.010040</td>\n",
       "      <td>40.719971</td>\n",
       "      <td>-74.012268</td>\n",
       "      <td>40.706718</td>\n",
       "      <td>N</td>\n",
       "      <td>429</td>\n",
       "    </tr>\n",
       "    <tr>\n",
       "      <th>4</th>\n",
       "      <td>id2181028</td>\n",
       "      <td>2</td>\n",
       "      <td>2016-03-26 13:30:55</td>\n",
       "      <td>2016-03-26 13:38:10</td>\n",
       "      <td>1</td>\n",
       "      <td>-73.973053</td>\n",
       "      <td>40.793209</td>\n",
       "      <td>-73.972923</td>\n",
       "      <td>40.782520</td>\n",
       "      <td>N</td>\n",
       "      <td>435</td>\n",
       "    </tr>\n",
       "  </tbody>\n",
       "</table>\n",
       "</div>"
      ],
      "text/plain": [
       "          id  vendor_id      pickup_datetime     dropoff_datetime  \\\n",
       "0  id2875421          2  2016-03-14 17:24:55  2016-03-14 17:32:30   \n",
       "1  id2377394          1  2016-06-12 00:43:35  2016-06-12 00:54:38   \n",
       "2  id3858529          2  2016-01-19 11:35:24  2016-01-19 12:10:48   \n",
       "3  id3504673          2  2016-04-06 19:32:31  2016-04-06 19:39:40   \n",
       "4  id2181028          2  2016-03-26 13:30:55  2016-03-26 13:38:10   \n",
       "\n",
       "   passenger_count  pickup_longitude  pickup_latitude  dropoff_longitude  \\\n",
       "0                1        -73.982155        40.767937         -73.964630   \n",
       "1                1        -73.980415        40.738564         -73.999481   \n",
       "2                1        -73.979027        40.763939         -74.005333   \n",
       "3                1        -74.010040        40.719971         -74.012268   \n",
       "4                1        -73.973053        40.793209         -73.972923   \n",
       "\n",
       "   dropoff_latitude store_and_fwd_flag  trip_duration  \n",
       "0         40.765602                  N            455  \n",
       "1         40.731152                  N            663  \n",
       "2         40.710087                  N           2124  \n",
       "3         40.706718                  N            429  \n",
       "4         40.782520                  N            435  "
      ]
     },
     "execution_count": 411,
     "metadata": {},
     "output_type": "execute_result"
    }
   ],
   "source": [
    "taxi_data = pd.read_csv(\"data/train.csv\")\n",
    "print('Train data shape: {}'.format(taxi_data.shape))\n",
    "taxi_data.head()"
   ]
  },
  {
   "attachments": {},
   "cell_type": "markdown",
   "metadata": {
    "id": "xhaxNt0XkBLh"
   },
   "source": [
    "Итак, у нас с вами есть данные о почти 1.5 миллионах поездок и 11 характеристиках, которые описывают каждую из поездок. "
   ]
  },
  {
   "attachments": {},
   "cell_type": "markdown",
   "metadata": {
    "id": "tXufvADjkBLi"
   },
   "source": [
    "Мы условно разделили признаки нескольких групп. Каждой из групп мы в дальнейшем уделим отдельное внимание.\n",
    "\n",
    "**Данные о клиенте и таксопарке:**\n",
    "* id - уникальный идентификатор поездки\n",
    "* vendor_id - уникальный идентификатор поставщика (таксопарка), связанного с записью поездки\n",
    "\n",
    "**Временные характеристики:**\n",
    "* pickup_datetime - дата и время, когда был включен счетчик поездки\n",
    "* dropoff_datetime - дата и время, когда счетчик был отключен\n",
    "\n",
    "**Географическая информация:**\n",
    "* pickup_longitude -  долгота, на которой был включен счетчик\n",
    "* pickup_latitude - широта, на которой был включен счетчик\n",
    "* dropoff_longitude - долгота, на которой счетчик был отключен\n",
    "* dropoff_latitude - широта, на которой счетчик был отключен\n",
    "\n",
    "**Прочие признаки:**\n",
    "* passenger_count - количество пассажиров в транспортном средстве (введенное водителем значение)\n",
    "* store_and_fwd_flag - флаг, который указывает, сохранилась ли запись о поездке в памяти транспортного средства перед отправкой поставщику. Y - хранить и пересылать, N - не хранить и не пересылать поездку.\n",
    "\n",
    "**Целевой признак:**\n",
    "* trip_duration - продолжительность поездки в секундах\n"
   ]
  },
  {
   "attachments": {},
   "cell_type": "markdown",
   "metadata": {
    "id": "VvrcGynTkBLi"
   },
   "source": [
    "Для начала мы проведем базовый анализ того, насколько данные готовы к дальнейшей предобработке и анализу. "
   ]
  },
  {
   "attachments": {},
   "cell_type": "markdown",
   "metadata": {
    "id": "33rsP7rTkBLj"
   },
   "source": [
    "### Задание 2.1\n",
    "Для начала посмотрим на временные рамки, в которых мы работаем с данными.\n",
    "\n",
    "Переведите признак pickup_datetime в тип данных datetime с форматом год-месяц-день час:минута:секунда (в функции pd.to_datetime() параметр format='%Y-%m-%d %H:%M:%S'). \n",
    "\n",
    "Определите временные рамки (без учета времени), за которые представлены данные."
   ]
  },
  {
   "cell_type": "code",
   "execution_count": 412,
   "metadata": {
    "id": "cIVxwqW1kBLj"
   },
   "outputs": [],
   "source": [
    "# ваш код здесь\n",
    "taxi_data['pickup_datetime'] = pd.to_datetime(taxi_data['pickup_datetime'], format='%Y-%m-%d %H:%M:%S')"
   ]
  },
  {
   "cell_type": "code",
   "execution_count": 413,
   "metadata": {},
   "outputs": [
    {
     "data": {
      "text/plain": [
       "96469     2016-01-01 00:00:17\n",
       "223872    2016-01-01 00:00:53\n",
       "713067    2016-01-01 00:01:01\n",
       "652463    2016-01-01 00:01:14\n",
       "722901    2016-01-01 00:01:20\n",
       "                  ...        \n",
       "853710    2016-06-30 23:58:52\n",
       "419031    2016-06-30 23:59:09\n",
       "1008720   2016-06-30 23:59:10\n",
       "405743    2016-06-30 23:59:37\n",
       "500524    2016-06-30 23:59:39\n",
       "Name: pickup_datetime, Length: 1458644, dtype: datetime64[ns]"
      ]
     },
     "execution_count": 413,
     "metadata": {},
     "output_type": "execute_result"
    }
   ],
   "source": [
    "taxi_data['pickup_datetime'].sort_values()"
   ]
  },
  {
   "attachments": {},
   "cell_type": "markdown",
   "metadata": {
    "id": "prw5RhKnkBLj"
   },
   "source": [
    "### Задание 2.2\n",
    "Посмотрим на пропуски. \n",
    "Сколько пропущенных значений присутствует в данных (суммарно по всем столбцам таблицы)?"
   ]
  },
  {
   "cell_type": "code",
   "execution_count": 414,
   "metadata": {
    "id": "ug16JoZDkBLk"
   },
   "outputs": [
    {
     "data": {
      "text/html": [
       "<div>\n",
       "<style scoped>\n",
       "    .dataframe tbody tr th:only-of-type {\n",
       "        vertical-align: middle;\n",
       "    }\n",
       "\n",
       "    .dataframe tbody tr th {\n",
       "        vertical-align: top;\n",
       "    }\n",
       "\n",
       "    .dataframe thead th {\n",
       "        text-align: right;\n",
       "    }\n",
       "</style>\n",
       "<table border=\"1\" class=\"dataframe\">\n",
       "  <thead>\n",
       "    <tr style=\"text-align: right;\">\n",
       "      <th></th>\n",
       "      <th>количество пропусков</th>\n",
       "    </tr>\n",
       "  </thead>\n",
       "  <tbody>\n",
       "    <tr>\n",
       "      <th>id</th>\n",
       "      <td>0</td>\n",
       "    </tr>\n",
       "    <tr>\n",
       "      <th>vendor_id</th>\n",
       "      <td>0</td>\n",
       "    </tr>\n",
       "    <tr>\n",
       "      <th>pickup_datetime</th>\n",
       "      <td>0</td>\n",
       "    </tr>\n",
       "    <tr>\n",
       "      <th>dropoff_datetime</th>\n",
       "      <td>0</td>\n",
       "    </tr>\n",
       "    <tr>\n",
       "      <th>passenger_count</th>\n",
       "      <td>0</td>\n",
       "    </tr>\n",
       "    <tr>\n",
       "      <th>pickup_longitude</th>\n",
       "      <td>0</td>\n",
       "    </tr>\n",
       "    <tr>\n",
       "      <th>pickup_latitude</th>\n",
       "      <td>0</td>\n",
       "    </tr>\n",
       "    <tr>\n",
       "      <th>dropoff_longitude</th>\n",
       "      <td>0</td>\n",
       "    </tr>\n",
       "    <tr>\n",
       "      <th>dropoff_latitude</th>\n",
       "      <td>0</td>\n",
       "    </tr>\n",
       "    <tr>\n",
       "      <th>store_and_fwd_flag</th>\n",
       "      <td>0</td>\n",
       "    </tr>\n",
       "    <tr>\n",
       "      <th>trip_duration</th>\n",
       "      <td>0</td>\n",
       "    </tr>\n",
       "  </tbody>\n",
       "</table>\n",
       "</div>"
      ],
      "text/plain": [
       "                    количество пропусков\n",
       "id                                     0\n",
       "vendor_id                              0\n",
       "pickup_datetime                        0\n",
       "dropoff_datetime                       0\n",
       "passenger_count                        0\n",
       "pickup_longitude                       0\n",
       "pickup_latitude                        0\n",
       "dropoff_longitude                      0\n",
       "dropoff_latitude                       0\n",
       "store_and_fwd_flag                     0\n",
       "trip_duration                          0"
      ]
     },
     "execution_count": 414,
     "metadata": {},
     "output_type": "execute_result"
    }
   ],
   "source": [
    "# ваш код здесь\n",
    "pd.DataFrame(taxi_data.isna().sum(), columns=['количество пропусков'])"
   ]
  },
  {
   "attachments": {},
   "cell_type": "markdown",
   "metadata": {
    "id": "ZMMIyT1skBLk"
   },
   "source": [
    "### Задание 2.3\n",
    "Посмотрим на статистические характеристики некоторых признаков. \n",
    "\n",
    "а) Сколько уникальных таксопарков присутствует в данных?\n",
    "\n",
    "б) Каково максимальное количество пассажиров?\n",
    "\n",
    "в) Чему равна средняя и медианная длительность поездки? Ответ приведите в секундах и округлите до целого.\n",
    "\n",
    "г) Чему равно минимальное и максимальное время поездки (в секундах)?\n"
   ]
  },
  {
   "cell_type": "code",
   "execution_count": 415,
   "metadata": {
    "id": "UeJfdmIskBLk"
   },
   "outputs": [
    {
     "name": "stdout",
     "output_type": "stream",
     "text": [
      "Кол-во уникальных таксопарков: 2\n",
      "Максимальное кол-во пассажиров: 9\n",
      "Средняя длительность поездки состовляет: 959.0 а медианная: 662.0\n",
      "Минимальное время поездки в секундах: 1 а максимальное: 3526282\n"
     ]
    }
   ],
   "source": [
    "# ваш код здесь\n",
    "print('Кол-во уникальных таксопарков:' ,len(taxi_data['vendor_id'].unique())),\n",
    "print('Максимальное кол-во пассажиров:', taxi_data['passenger_count'].max()),\n",
    "print('Средняя длительность поездки состовляет:', round(taxi_data['trip_duration'].mean(), 0) ,'а медианная:', taxi_data['trip_duration'].median()),\n",
    "print('Минимальное время поездки в секундах:', taxi_data['trip_duration'].min(), 'а максимальное:', taxi_data['trip_duration'].max())"
   ]
  },
  {
   "attachments": {},
   "cell_type": "markdown",
   "metadata": {
    "id": "JhUgalQSkBLk"
   },
   "source": [
    "Займемся расширением исходного набора данных как с помощью внешних источников, так и с помощью манипуляций над имеющимися в данных признаками. \n"
   ]
  },
  {
   "attachments": {},
   "cell_type": "markdown",
   "metadata": {
    "id": "riVyyTGRkBLk"
   },
   "source": [
    "### Задание 2.4\n",
    "Реализуйте функцию add_datetime_features(), которая принимает на вход таблицу с данными о поездках (DataFrame) и возвращает ту же таблицу с добавленными в нее 3 столбцами:\n",
    "* pickup_date - дата включения счетчика - начала поездки (без времени);\n",
    "* pickup_hour - час дня включения счетчика;\n",
    "* pickup_day_of_week - порядковый номер дня недели (число), в который был включен счетчик.\n",
    "\n",
    "а) Сколько поездок было совершено в субботу?\n",
    "\n",
    "б) Сколько поездок в среднем совершается в день? Ответ округлите до целого"
   ]
  },
  {
   "cell_type": "code",
   "execution_count": 416,
   "metadata": {
    "id": "2987aTUAkBLl"
   },
   "outputs": [
    {
     "name": "stdout",
     "output_type": "stream",
     "text": [
      "Количество поездок в субботу: 220868 \n",
      "Среднее количество поездок в день: 8015.0\n"
     ]
    }
   ],
   "source": [
    "# ваш код здесь\n",
    "# def add_datetime_features(df_taxi):\n",
    "#     df_taxi['pickup_date'] = df_taxi['pickup_datetime'].dt.date\n",
    "#     df_taxi['pickup_hour'] = df_taxi['pickup_datetime'].dt.time\n",
    "#     df_taxi['pickup_day_of_week'] = df_taxi['pickup_datetime'].dt.day_name()\n",
    "\n",
    "def add_datetime_features(data:pd.DataFrame):\n",
    "    data_copy = data.copy()\n",
    "    data_copy['pickup_datetime'] = pd.to_datetime(data['pickup_datetime'], format='%Y-%m-%d %H:%M:%S')\n",
    "    data_copy['pickup_date'] = data_copy['pickup_datetime'].dt.date\n",
    "    data_copy['pickup_hour'] = data_copy['pickup_datetime'].dt.hour\n",
    "    data_copy['pickup_day_of_week'] = data_copy['pickup_datetime'].dt.day_of_week\n",
    "    return data_copy\n",
    "\n",
    "taxi_data = add_datetime_features(taxi_data)\n",
    "\n",
    "print(\n",
    "    'Количество поездок в субботу:', taxi_data[taxi_data['pickup_day_of_week'] == 5].shape[0],\n",
    "    '\\nСреднее количество поездок в день:', round(taxi_data['pickup_date'].value_counts().mean(), 0)\n",
    ")"
   ]
  },
  {
   "cell_type": "code",
   "execution_count": 417,
   "metadata": {},
   "outputs": [
    {
     "data": {
      "text/html": [
       "<div>\n",
       "<style scoped>\n",
       "    .dataframe tbody tr th:only-of-type {\n",
       "        vertical-align: middle;\n",
       "    }\n",
       "\n",
       "    .dataframe tbody tr th {\n",
       "        vertical-align: top;\n",
       "    }\n",
       "\n",
       "    .dataframe thead th {\n",
       "        text-align: right;\n",
       "    }\n",
       "</style>\n",
       "<table border=\"1\" class=\"dataframe\">\n",
       "  <thead>\n",
       "    <tr style=\"text-align: right;\">\n",
       "      <th></th>\n",
       "      <th>id</th>\n",
       "      <th>vendor_id</th>\n",
       "      <th>pickup_datetime</th>\n",
       "      <th>dropoff_datetime</th>\n",
       "      <th>passenger_count</th>\n",
       "      <th>pickup_longitude</th>\n",
       "      <th>pickup_latitude</th>\n",
       "      <th>dropoff_longitude</th>\n",
       "      <th>dropoff_latitude</th>\n",
       "      <th>store_and_fwd_flag</th>\n",
       "      <th>trip_duration</th>\n",
       "      <th>pickup_date</th>\n",
       "      <th>pickup_hour</th>\n",
       "      <th>pickup_day_of_week</th>\n",
       "    </tr>\n",
       "  </thead>\n",
       "  <tbody>\n",
       "    <tr>\n",
       "      <th>0</th>\n",
       "      <td>id2875421</td>\n",
       "      <td>2</td>\n",
       "      <td>2016-03-14 17:24:55</td>\n",
       "      <td>2016-03-14 17:32:30</td>\n",
       "      <td>1</td>\n",
       "      <td>-73.982155</td>\n",
       "      <td>40.767937</td>\n",
       "      <td>-73.964630</td>\n",
       "      <td>40.765602</td>\n",
       "      <td>N</td>\n",
       "      <td>455</td>\n",
       "      <td>2016-03-14</td>\n",
       "      <td>17</td>\n",
       "      <td>0</td>\n",
       "    </tr>\n",
       "    <tr>\n",
       "      <th>1</th>\n",
       "      <td>id2377394</td>\n",
       "      <td>1</td>\n",
       "      <td>2016-06-12 00:43:35</td>\n",
       "      <td>2016-06-12 00:54:38</td>\n",
       "      <td>1</td>\n",
       "      <td>-73.980415</td>\n",
       "      <td>40.738564</td>\n",
       "      <td>-73.999481</td>\n",
       "      <td>40.731152</td>\n",
       "      <td>N</td>\n",
       "      <td>663</td>\n",
       "      <td>2016-06-12</td>\n",
       "      <td>0</td>\n",
       "      <td>6</td>\n",
       "    </tr>\n",
       "    <tr>\n",
       "      <th>2</th>\n",
       "      <td>id3858529</td>\n",
       "      <td>2</td>\n",
       "      <td>2016-01-19 11:35:24</td>\n",
       "      <td>2016-01-19 12:10:48</td>\n",
       "      <td>1</td>\n",
       "      <td>-73.979027</td>\n",
       "      <td>40.763939</td>\n",
       "      <td>-74.005333</td>\n",
       "      <td>40.710087</td>\n",
       "      <td>N</td>\n",
       "      <td>2124</td>\n",
       "      <td>2016-01-19</td>\n",
       "      <td>11</td>\n",
       "      <td>1</td>\n",
       "    </tr>\n",
       "    <tr>\n",
       "      <th>3</th>\n",
       "      <td>id3504673</td>\n",
       "      <td>2</td>\n",
       "      <td>2016-04-06 19:32:31</td>\n",
       "      <td>2016-04-06 19:39:40</td>\n",
       "      <td>1</td>\n",
       "      <td>-74.010040</td>\n",
       "      <td>40.719971</td>\n",
       "      <td>-74.012268</td>\n",
       "      <td>40.706718</td>\n",
       "      <td>N</td>\n",
       "      <td>429</td>\n",
       "      <td>2016-04-06</td>\n",
       "      <td>19</td>\n",
       "      <td>2</td>\n",
       "    </tr>\n",
       "    <tr>\n",
       "      <th>4</th>\n",
       "      <td>id2181028</td>\n",
       "      <td>2</td>\n",
       "      <td>2016-03-26 13:30:55</td>\n",
       "      <td>2016-03-26 13:38:10</td>\n",
       "      <td>1</td>\n",
       "      <td>-73.973053</td>\n",
       "      <td>40.793209</td>\n",
       "      <td>-73.972923</td>\n",
       "      <td>40.782520</td>\n",
       "      <td>N</td>\n",
       "      <td>435</td>\n",
       "      <td>2016-03-26</td>\n",
       "      <td>13</td>\n",
       "      <td>5</td>\n",
       "    </tr>\n",
       "  </tbody>\n",
       "</table>\n",
       "</div>"
      ],
      "text/plain": [
       "          id  vendor_id     pickup_datetime     dropoff_datetime  \\\n",
       "0  id2875421          2 2016-03-14 17:24:55  2016-03-14 17:32:30   \n",
       "1  id2377394          1 2016-06-12 00:43:35  2016-06-12 00:54:38   \n",
       "2  id3858529          2 2016-01-19 11:35:24  2016-01-19 12:10:48   \n",
       "3  id3504673          2 2016-04-06 19:32:31  2016-04-06 19:39:40   \n",
       "4  id2181028          2 2016-03-26 13:30:55  2016-03-26 13:38:10   \n",
       "\n",
       "   passenger_count  pickup_longitude  pickup_latitude  dropoff_longitude  \\\n",
       "0                1        -73.982155        40.767937         -73.964630   \n",
       "1                1        -73.980415        40.738564         -73.999481   \n",
       "2                1        -73.979027        40.763939         -74.005333   \n",
       "3                1        -74.010040        40.719971         -74.012268   \n",
       "4                1        -73.973053        40.793209         -73.972923   \n",
       "\n",
       "   dropoff_latitude store_and_fwd_flag  trip_duration pickup_date  \\\n",
       "0         40.765602                  N            455  2016-03-14   \n",
       "1         40.731152                  N            663  2016-06-12   \n",
       "2         40.710087                  N           2124  2016-01-19   \n",
       "3         40.706718                  N            429  2016-04-06   \n",
       "4         40.782520                  N            435  2016-03-26   \n",
       "\n",
       "   pickup_hour  pickup_day_of_week  \n",
       "0           17                   0  \n",
       "1            0                   6  \n",
       "2           11                   1  \n",
       "3           19                   2  \n",
       "4           13                   5  "
      ]
     },
     "execution_count": 417,
     "metadata": {},
     "output_type": "execute_result"
    }
   ],
   "source": [
    "add_datetime_features(taxi_data)\n",
    "taxi_data.head()"
   ]
  },
  {
   "attachments": {},
   "cell_type": "markdown",
   "metadata": {
    "id": "5rCk6lyTkBLl"
   },
   "source": [
    "### Задание 2.5\n",
    "Реализуйте функцию add_holiday_features(), которая принимает на вход две таблицы: \n",
    "* таблицу с данными о поездках;\n",
    "* таблицу с данными о праздничных днях;\n",
    "\n",
    "и возвращает обновленную таблицу с данными о поездках с добавленным в нее столбцом pickup_holiday - бинарным признаком того, начата ли поездка в праздничный день или нет (1 - да, 0 - нет). \n",
    "\n",
    "Чему равна медианная длительность поездки на такси в праздничные дни? Ответ приведите в секундах, округлив до целого.\n"
   ]
  },
  {
   "cell_type": "code",
   "execution_count": 418,
   "metadata": {
    "id": "ZnPWsSMukBLl"
   },
   "outputs": [
    {
     "data": {
      "text/html": [
       "<div>\n",
       "<style scoped>\n",
       "    .dataframe tbody tr th:only-of-type {\n",
       "        vertical-align: middle;\n",
       "    }\n",
       "\n",
       "    .dataframe tbody tr th {\n",
       "        vertical-align: top;\n",
       "    }\n",
       "\n",
       "    .dataframe thead th {\n",
       "        text-align: right;\n",
       "    }\n",
       "</style>\n",
       "<table border=\"1\" class=\"dataframe\">\n",
       "  <thead>\n",
       "    <tr style=\"text-align: right;\">\n",
       "      <th></th>\n",
       "      <th>day</th>\n",
       "      <th>date</th>\n",
       "      <th>holiday</th>\n",
       "    </tr>\n",
       "  </thead>\n",
       "  <tbody>\n",
       "    <tr>\n",
       "      <th>0</th>\n",
       "      <td>Friday</td>\n",
       "      <td>2016-01-01</td>\n",
       "      <td>New Years Day</td>\n",
       "    </tr>\n",
       "    <tr>\n",
       "      <th>1</th>\n",
       "      <td>Monday</td>\n",
       "      <td>2016-01-18</td>\n",
       "      <td>Martin Luther King Jr. Day</td>\n",
       "    </tr>\n",
       "    <tr>\n",
       "      <th>2</th>\n",
       "      <td>Friday</td>\n",
       "      <td>2016-02-12</td>\n",
       "      <td>Lincoln's Birthday</td>\n",
       "    </tr>\n",
       "    <tr>\n",
       "      <th>3</th>\n",
       "      <td>Monday</td>\n",
       "      <td>2016-02-15</td>\n",
       "      <td>Presidents' Day</td>\n",
       "    </tr>\n",
       "    <tr>\n",
       "      <th>4</th>\n",
       "      <td>Sunday</td>\n",
       "      <td>2016-05-08</td>\n",
       "      <td>Mother's Day</td>\n",
       "    </tr>\n",
       "  </tbody>\n",
       "</table>\n",
       "</div>"
      ],
      "text/plain": [
       "      day       date                     holiday\n",
       "0  Friday 2016-01-01               New Years Day\n",
       "1  Monday 2016-01-18  Martin Luther King Jr. Day\n",
       "2  Friday 2016-02-12          Lincoln's Birthday\n",
       "3  Monday 2016-02-15             Presidents' Day\n",
       "4  Sunday 2016-05-08                Mother's Day"
      ]
     },
     "execution_count": 418,
     "metadata": {},
     "output_type": "execute_result"
    }
   ],
   "source": [
    "# ваш код здесь\n",
    "holiday_data = pd.read_csv('data/holiday_data.csv', sep=';')\n",
    "holiday_data['date'] = pd.to_datetime(holiday_data['date'], format='%Y-%m-%d')\n",
    "taxi_data['pickup_date'] = pd.to_datetime(taxi_data['pickup_date'], format='%Y-%m-%d')\n",
    "holiday_data.head()"
   ]
  },
  {
   "cell_type": "code",
   "execution_count": 419,
   "metadata": {},
   "outputs": [],
   "source": [
    "column_1 = taxi_data['pickup_date']\n",
    "column_2 = holiday_data['date']\n",
    "\n",
    "def add_holiday_features(table_1, column_1, table_2, column_2):\n",
    "    temp_df = pd.merge(table_1, table_2, left_on=column_1, right_on=column_2, how='left')\n",
    "    temp_df.drop('day', axis=1, inplace=True)\n",
    "    temp_df['date'] = temp_df['date'].astype(str)\n",
    "    def replace_date(x):\n",
    "        if x == 'NaT':\n",
    "            x = '0'\n",
    "            return x\n",
    "        else:\n",
    "            x = '1'\n",
    "            return x\n",
    "    temp_df['date'] = temp_df['date'].apply(replace_date)\n",
    "    temp_df['date'] = temp_df['date'].astype(int)\n",
    "    return temp_df"
   ]
  },
  {
   "cell_type": "code",
   "execution_count": 420,
   "metadata": {},
   "outputs": [],
   "source": [
    "taxi_data = add_holiday_features(taxi_data, column_1, holiday_data, column_2).copy()"
   ]
  },
  {
   "cell_type": "code",
   "execution_count": 421,
   "metadata": {},
   "outputs": [
    {
     "data": {
      "text/html": [
       "<div>\n",
       "<style scoped>\n",
       "    .dataframe tbody tr th:only-of-type {\n",
       "        vertical-align: middle;\n",
       "    }\n",
       "\n",
       "    .dataframe tbody tr th {\n",
       "        vertical-align: top;\n",
       "    }\n",
       "\n",
       "    .dataframe thead th {\n",
       "        text-align: right;\n",
       "    }\n",
       "</style>\n",
       "<table border=\"1\" class=\"dataframe\">\n",
       "  <thead>\n",
       "    <tr style=\"text-align: right;\">\n",
       "      <th></th>\n",
       "      <th>key_0</th>\n",
       "      <th>id</th>\n",
       "      <th>vendor_id</th>\n",
       "      <th>pickup_datetime</th>\n",
       "      <th>dropoff_datetime</th>\n",
       "      <th>passenger_count</th>\n",
       "      <th>pickup_longitude</th>\n",
       "      <th>pickup_latitude</th>\n",
       "      <th>dropoff_longitude</th>\n",
       "      <th>dropoff_latitude</th>\n",
       "      <th>store_and_fwd_flag</th>\n",
       "      <th>trip_duration</th>\n",
       "      <th>pickup_date</th>\n",
       "      <th>pickup_hour</th>\n",
       "      <th>pickup_day_of_week</th>\n",
       "      <th>date</th>\n",
       "      <th>holiday</th>\n",
       "    </tr>\n",
       "  </thead>\n",
       "  <tbody>\n",
       "    <tr>\n",
       "      <th>0</th>\n",
       "      <td>2016-03-14</td>\n",
       "      <td>id2875421</td>\n",
       "      <td>2</td>\n",
       "      <td>2016-03-14 17:24:55</td>\n",
       "      <td>2016-03-14 17:32:30</td>\n",
       "      <td>1</td>\n",
       "      <td>-73.982155</td>\n",
       "      <td>40.767937</td>\n",
       "      <td>-73.964630</td>\n",
       "      <td>40.765602</td>\n",
       "      <td>N</td>\n",
       "      <td>455</td>\n",
       "      <td>2016-03-14</td>\n",
       "      <td>17</td>\n",
       "      <td>0</td>\n",
       "      <td>0</td>\n",
       "      <td>NaN</td>\n",
       "    </tr>\n",
       "    <tr>\n",
       "      <th>1</th>\n",
       "      <td>2016-06-12</td>\n",
       "      <td>id2377394</td>\n",
       "      <td>1</td>\n",
       "      <td>2016-06-12 00:43:35</td>\n",
       "      <td>2016-06-12 00:54:38</td>\n",
       "      <td>1</td>\n",
       "      <td>-73.980415</td>\n",
       "      <td>40.738564</td>\n",
       "      <td>-73.999481</td>\n",
       "      <td>40.731152</td>\n",
       "      <td>N</td>\n",
       "      <td>663</td>\n",
       "      <td>2016-06-12</td>\n",
       "      <td>0</td>\n",
       "      <td>6</td>\n",
       "      <td>0</td>\n",
       "      <td>NaN</td>\n",
       "    </tr>\n",
       "    <tr>\n",
       "      <th>2</th>\n",
       "      <td>2016-01-19</td>\n",
       "      <td>id3858529</td>\n",
       "      <td>2</td>\n",
       "      <td>2016-01-19 11:35:24</td>\n",
       "      <td>2016-01-19 12:10:48</td>\n",
       "      <td>1</td>\n",
       "      <td>-73.979027</td>\n",
       "      <td>40.763939</td>\n",
       "      <td>-74.005333</td>\n",
       "      <td>40.710087</td>\n",
       "      <td>N</td>\n",
       "      <td>2124</td>\n",
       "      <td>2016-01-19</td>\n",
       "      <td>11</td>\n",
       "      <td>1</td>\n",
       "      <td>0</td>\n",
       "      <td>NaN</td>\n",
       "    </tr>\n",
       "    <tr>\n",
       "      <th>3</th>\n",
       "      <td>2016-04-06</td>\n",
       "      <td>id3504673</td>\n",
       "      <td>2</td>\n",
       "      <td>2016-04-06 19:32:31</td>\n",
       "      <td>2016-04-06 19:39:40</td>\n",
       "      <td>1</td>\n",
       "      <td>-74.010040</td>\n",
       "      <td>40.719971</td>\n",
       "      <td>-74.012268</td>\n",
       "      <td>40.706718</td>\n",
       "      <td>N</td>\n",
       "      <td>429</td>\n",
       "      <td>2016-04-06</td>\n",
       "      <td>19</td>\n",
       "      <td>2</td>\n",
       "      <td>0</td>\n",
       "      <td>NaN</td>\n",
       "    </tr>\n",
       "    <tr>\n",
       "      <th>4</th>\n",
       "      <td>2016-03-26</td>\n",
       "      <td>id2181028</td>\n",
       "      <td>2</td>\n",
       "      <td>2016-03-26 13:30:55</td>\n",
       "      <td>2016-03-26 13:38:10</td>\n",
       "      <td>1</td>\n",
       "      <td>-73.973053</td>\n",
       "      <td>40.793209</td>\n",
       "      <td>-73.972923</td>\n",
       "      <td>40.782520</td>\n",
       "      <td>N</td>\n",
       "      <td>435</td>\n",
       "      <td>2016-03-26</td>\n",
       "      <td>13</td>\n",
       "      <td>5</td>\n",
       "      <td>0</td>\n",
       "      <td>NaN</td>\n",
       "    </tr>\n",
       "  </tbody>\n",
       "</table>\n",
       "</div>"
      ],
      "text/plain": [
       "       key_0         id  vendor_id     pickup_datetime     dropoff_datetime  \\\n",
       "0 2016-03-14  id2875421          2 2016-03-14 17:24:55  2016-03-14 17:32:30   \n",
       "1 2016-06-12  id2377394          1 2016-06-12 00:43:35  2016-06-12 00:54:38   \n",
       "2 2016-01-19  id3858529          2 2016-01-19 11:35:24  2016-01-19 12:10:48   \n",
       "3 2016-04-06  id3504673          2 2016-04-06 19:32:31  2016-04-06 19:39:40   \n",
       "4 2016-03-26  id2181028          2 2016-03-26 13:30:55  2016-03-26 13:38:10   \n",
       "\n",
       "   passenger_count  pickup_longitude  pickup_latitude  dropoff_longitude  \\\n",
       "0                1        -73.982155        40.767937         -73.964630   \n",
       "1                1        -73.980415        40.738564         -73.999481   \n",
       "2                1        -73.979027        40.763939         -74.005333   \n",
       "3                1        -74.010040        40.719971         -74.012268   \n",
       "4                1        -73.973053        40.793209         -73.972923   \n",
       "\n",
       "   dropoff_latitude store_and_fwd_flag  trip_duration pickup_date  \\\n",
       "0         40.765602                  N            455  2016-03-14   \n",
       "1         40.731152                  N            663  2016-06-12   \n",
       "2         40.710087                  N           2124  2016-01-19   \n",
       "3         40.706718                  N            429  2016-04-06   \n",
       "4         40.782520                  N            435  2016-03-26   \n",
       "\n",
       "   pickup_hour  pickup_day_of_week  date holiday  \n",
       "0           17                   0     0     NaN  \n",
       "1            0                   6     0     NaN  \n",
       "2           11                   1     0     NaN  \n",
       "3           19                   2     0     NaN  \n",
       "4           13                   5     0     NaN  "
      ]
     },
     "execution_count": 421,
     "metadata": {},
     "output_type": "execute_result"
    }
   ],
   "source": [
    "taxi_data.head()"
   ]
  },
  {
   "cell_type": "code",
   "execution_count": 422,
   "metadata": {},
   "outputs": [
    {
     "name": "stdout",
     "output_type": "stream",
     "text": [
      "В праздничные дни медианная длитильность поездки: 585.0\n"
     ]
    }
   ],
   "source": [
    "print('В праздничные дни медианная длитильность поездки:', taxi_data[taxi_data['date'] == 1]['trip_duration'].median())"
   ]
  },
  {
   "attachments": {},
   "cell_type": "markdown",
   "metadata": {
    "id": "YPxMlVMAkBLl"
   },
   "source": [
    "### Задание 2.6\n",
    "Реализуйте функцию add_osrm_features(), которая принимает на вход две таблицы:\n",
    "* таблицу с данными о поездках;\n",
    "* таблицу с данными из OSRM;\n",
    "\n",
    "и возвращает обновленную таблицу с данными о поездках с добавленными в нее 3 столбцами:\n",
    "* total_distance;\n",
    "* total_travel_time;\n",
    "* number_of_steps.\n",
    "\n",
    "а) Чему равна разница (в секундах) между медианной длительностью поездки в данных и медианной длительностью поездки, полученной из OSRM? \n",
    "\n",
    "В результате объединения таблиц у вас должны были получиться пропуски в столбцах с информацией из OSRM API. Это связано с тем, что для некоторых поездок не удалось выгрузить данные из веб источника. \n",
    "\n",
    "б) Сколько пропусков содержится в столбцах с информацией из OSRM API после объединения таблиц?"
   ]
  },
  {
   "cell_type": "code",
   "execution_count": 423,
   "metadata": {
    "id": "uey_zFbwkBLm"
   },
   "outputs": [],
   "source": [
    "# ваш код здесь\n",
    "# удаляем лишние столбцы\n",
    "osrm_data = pd.read_csv('data/osrm_data_train.csv')\n",
    "osrm_data_list = ['id', 'total_distance', 'total_travel_time', 'number_of_steps']\n",
    "current_columns = osrm_data.columns\n",
    "columns_to_drop = current_columns.difference(osrm_data_list)\n",
    "osrm_data.drop(columns_to_drop, axis=1, inplace=True)"
   ]
  },
  {
   "cell_type": "code",
   "execution_count": 424,
   "metadata": {},
   "outputs": [
    {
     "data": {
      "text/html": [
       "<div>\n",
       "<style scoped>\n",
       "    .dataframe tbody tr th:only-of-type {\n",
       "        vertical-align: middle;\n",
       "    }\n",
       "\n",
       "    .dataframe tbody tr th {\n",
       "        vertical-align: top;\n",
       "    }\n",
       "\n",
       "    .dataframe thead th {\n",
       "        text-align: right;\n",
       "    }\n",
       "</style>\n",
       "<table border=\"1\" class=\"dataframe\">\n",
       "  <thead>\n",
       "    <tr style=\"text-align: right;\">\n",
       "      <th></th>\n",
       "      <th>id</th>\n",
       "      <th>total_distance</th>\n",
       "      <th>total_travel_time</th>\n",
       "      <th>number_of_steps</th>\n",
       "    </tr>\n",
       "  </thead>\n",
       "  <tbody>\n",
       "    <tr>\n",
       "      <th>0</th>\n",
       "      <td>id2875421</td>\n",
       "      <td>2009.1</td>\n",
       "      <td>164.9</td>\n",
       "      <td>5</td>\n",
       "    </tr>\n",
       "    <tr>\n",
       "      <th>1</th>\n",
       "      <td>id2377394</td>\n",
       "      <td>2513.2</td>\n",
       "      <td>332.0</td>\n",
       "      <td>6</td>\n",
       "    </tr>\n",
       "    <tr>\n",
       "      <th>2</th>\n",
       "      <td>id3504673</td>\n",
       "      <td>1779.4</td>\n",
       "      <td>235.8</td>\n",
       "      <td>4</td>\n",
       "    </tr>\n",
       "    <tr>\n",
       "      <th>3</th>\n",
       "      <td>id2181028</td>\n",
       "      <td>1614.9</td>\n",
       "      <td>140.1</td>\n",
       "      <td>5</td>\n",
       "    </tr>\n",
       "    <tr>\n",
       "      <th>4</th>\n",
       "      <td>id0801584</td>\n",
       "      <td>1393.5</td>\n",
       "      <td>189.4</td>\n",
       "      <td>5</td>\n",
       "    </tr>\n",
       "    <tr>\n",
       "      <th>...</th>\n",
       "      <td>...</td>\n",
       "      <td>...</td>\n",
       "      <td>...</td>\n",
       "      <td>...</td>\n",
       "    </tr>\n",
       "    <tr>\n",
       "      <th>1458638</th>\n",
       "      <td>id2976426</td>\n",
       "      <td>28051.1</td>\n",
       "      <td>1462.5</td>\n",
       "      <td>13</td>\n",
       "    </tr>\n",
       "    <tr>\n",
       "      <th>1458639</th>\n",
       "      <td>id1440046</td>\n",
       "      <td>29616.3</td>\n",
       "      <td>1643.2</td>\n",
       "      <td>16</td>\n",
       "    </tr>\n",
       "    <tr>\n",
       "      <th>1458640</th>\n",
       "      <td>id1607338</td>\n",
       "      <td>25615.0</td>\n",
       "      <td>1765.1</td>\n",
       "      <td>30</td>\n",
       "    </tr>\n",
       "    <tr>\n",
       "      <th>1458641</th>\n",
       "      <td>id2071901</td>\n",
       "      <td>20284.1</td>\n",
       "      <td>1074.3</td>\n",
       "      <td>14</td>\n",
       "    </tr>\n",
       "    <tr>\n",
       "      <th>1458642</th>\n",
       "      <td>id0995846</td>\n",
       "      <td>30302.5</td>\n",
       "      <td>1675.8</td>\n",
       "      <td>20</td>\n",
       "    </tr>\n",
       "  </tbody>\n",
       "</table>\n",
       "<p>1458643 rows × 4 columns</p>\n",
       "</div>"
      ],
      "text/plain": [
       "                id  total_distance  total_travel_time  number_of_steps\n",
       "0        id2875421          2009.1              164.9                5\n",
       "1        id2377394          2513.2              332.0                6\n",
       "2        id3504673          1779.4              235.8                4\n",
       "3        id2181028          1614.9              140.1                5\n",
       "4        id0801584          1393.5              189.4                5\n",
       "...            ...             ...                ...              ...\n",
       "1458638  id2976426         28051.1             1462.5               13\n",
       "1458639  id1440046         29616.3             1643.2               16\n",
       "1458640  id1607338         25615.0             1765.1               30\n",
       "1458641  id2071901         20284.1             1074.3               14\n",
       "1458642  id0995846         30302.5             1675.8               20\n",
       "\n",
       "[1458643 rows x 4 columns]"
      ]
     },
     "execution_count": 424,
     "metadata": {},
     "output_type": "execute_result"
    }
   ],
   "source": [
    "# выводим результат\n",
    "osrm_data"
   ]
  },
  {
   "cell_type": "code",
   "execution_count": 425,
   "metadata": {},
   "outputs": [],
   "source": [
    "def add_osrm_features(table_1, table_2):\n",
    "    return pd.merge(table_1, table_2, on='id', how='left')\n",
    "\n",
    "taxi_data = add_osrm_features(taxi_data, osrm_data).copy()\n",
    "taxi_data.drop('holiday', axis=1, inplace=True)"
   ]
  },
  {
   "cell_type": "code",
   "execution_count": 426,
   "metadata": {},
   "outputs": [
    {
     "name": "stdout",
     "output_type": "stream",
     "text": [
      "Разница между медианной длитильностью составляет: 372.5\n"
     ]
    }
   ],
   "source": [
    "print('Разница между медианной длитильностью составляет:' ,(taxi_data['trip_duration'].median()) - (taxi_data['total_travel_time'].median()))"
   ]
  },
  {
   "cell_type": "code",
   "execution_count": 427,
   "metadata": {},
   "outputs": [
    {
     "data": {
      "text/html": [
       "<div>\n",
       "<style scoped>\n",
       "    .dataframe tbody tr th:only-of-type {\n",
       "        vertical-align: middle;\n",
       "    }\n",
       "\n",
       "    .dataframe tbody tr th {\n",
       "        vertical-align: top;\n",
       "    }\n",
       "\n",
       "    .dataframe thead th {\n",
       "        text-align: right;\n",
       "    }\n",
       "</style>\n",
       "<table border=\"1\" class=\"dataframe\">\n",
       "  <thead>\n",
       "    <tr style=\"text-align: right;\">\n",
       "      <th></th>\n",
       "      <th>Кол-во пропусков</th>\n",
       "    </tr>\n",
       "  </thead>\n",
       "  <tbody>\n",
       "    <tr>\n",
       "      <th>key_0</th>\n",
       "      <td>0</td>\n",
       "    </tr>\n",
       "    <tr>\n",
       "      <th>id</th>\n",
       "      <td>0</td>\n",
       "    </tr>\n",
       "    <tr>\n",
       "      <th>vendor_id</th>\n",
       "      <td>0</td>\n",
       "    </tr>\n",
       "    <tr>\n",
       "      <th>pickup_datetime</th>\n",
       "      <td>0</td>\n",
       "    </tr>\n",
       "    <tr>\n",
       "      <th>dropoff_datetime</th>\n",
       "      <td>0</td>\n",
       "    </tr>\n",
       "    <tr>\n",
       "      <th>passenger_count</th>\n",
       "      <td>0</td>\n",
       "    </tr>\n",
       "    <tr>\n",
       "      <th>pickup_longitude</th>\n",
       "      <td>0</td>\n",
       "    </tr>\n",
       "    <tr>\n",
       "      <th>pickup_latitude</th>\n",
       "      <td>0</td>\n",
       "    </tr>\n",
       "    <tr>\n",
       "      <th>dropoff_longitude</th>\n",
       "      <td>0</td>\n",
       "    </tr>\n",
       "    <tr>\n",
       "      <th>dropoff_latitude</th>\n",
       "      <td>0</td>\n",
       "    </tr>\n",
       "    <tr>\n",
       "      <th>store_and_fwd_flag</th>\n",
       "      <td>0</td>\n",
       "    </tr>\n",
       "    <tr>\n",
       "      <th>trip_duration</th>\n",
       "      <td>0</td>\n",
       "    </tr>\n",
       "    <tr>\n",
       "      <th>pickup_date</th>\n",
       "      <td>0</td>\n",
       "    </tr>\n",
       "    <tr>\n",
       "      <th>pickup_hour</th>\n",
       "      <td>0</td>\n",
       "    </tr>\n",
       "    <tr>\n",
       "      <th>pickup_day_of_week</th>\n",
       "      <td>0</td>\n",
       "    </tr>\n",
       "    <tr>\n",
       "      <th>date</th>\n",
       "      <td>0</td>\n",
       "    </tr>\n",
       "    <tr>\n",
       "      <th>total_distance</th>\n",
       "      <td>1</td>\n",
       "    </tr>\n",
       "    <tr>\n",
       "      <th>total_travel_time</th>\n",
       "      <td>1</td>\n",
       "    </tr>\n",
       "    <tr>\n",
       "      <th>number_of_steps</th>\n",
       "      <td>1</td>\n",
       "    </tr>\n",
       "  </tbody>\n",
       "</table>\n",
       "</div>"
      ],
      "text/plain": [
       "                    Кол-во пропусков\n",
       "key_0                              0\n",
       "id                                 0\n",
       "vendor_id                          0\n",
       "pickup_datetime                    0\n",
       "dropoff_datetime                   0\n",
       "passenger_count                    0\n",
       "pickup_longitude                   0\n",
       "pickup_latitude                    0\n",
       "dropoff_longitude                  0\n",
       "dropoff_latitude                   0\n",
       "store_and_fwd_flag                 0\n",
       "trip_duration                      0\n",
       "pickup_date                        0\n",
       "pickup_hour                        0\n",
       "pickup_day_of_week                 0\n",
       "date                               0\n",
       "total_distance                     1\n",
       "total_travel_time                  1\n",
       "number_of_steps                    1"
      ]
     },
     "execution_count": 427,
     "metadata": {},
     "output_type": "execute_result"
    }
   ],
   "source": [
    "pd.DataFrame(taxi_data.isna().sum(), columns=['Кол-во пропусков'])"
   ]
  },
  {
   "cell_type": "code",
   "execution_count": 428,
   "metadata": {
    "id": "ti1rljMGkBLm"
   },
   "outputs": [],
   "source": [
    "def get_haversine_distance(lat1, lng1, lat2, lng2):\n",
    "    # переводим углы в радианы\n",
    "    lat1, lng1, lat2, lng2 = map(np.radians, (lat1, lng1, lat2, lng2))\n",
    "    # радиус земли в километрах\n",
    "    EARTH_RADIUS = 6371 \n",
    "    # считаем кратчайшее расстояние h по формуле Хаверсина\n",
    "    lat_delta = lat2 - lat1\n",
    "    lng_delta = lng2 - lng1\n",
    "    d = np.sin(lat_delta * 0.5) ** 2 + np.cos(lat1) * np.cos(lat2) * np.sin(lng_delta * 0.5) ** 2\n",
    "    h = 2 * EARTH_RADIUS * np.arcsin(np.sqrt(d))\n",
    "    return h\n",
    "\n",
    "def get_angle_direction(lat1, lng1, lat2, lng2):\n",
    "    # переводим углы в радианы\n",
    "    lat1, lng1, lat2, lng2 = map(np.radians, (lat1, lng1, lat2, lng2))\n",
    "    # считаем угол направления движения alpha по формуле угла пеленга\n",
    "    lng_delta_rad = lng2 - lng1\n",
    "    y = np.sin(lng_delta_rad) * np.cos(lat2)\n",
    "    x = np.cos(lat1) * np.sin(lat2) - np.sin(lat1) * np.cos(lat2) * np.cos(lng_delta_rad)\n",
    "    alpha = np.degrees(np.arctan2(y, x))\n",
    "    return alpha"
   ]
  },
  {
   "attachments": {},
   "cell_type": "markdown",
   "metadata": {
    "id": "lGQpi4erkBLm",
    "tags": []
   },
   "source": [
    "### Задание 2.7.\n",
    "Реализуйте функцию add_geographical_features(), которая принимает на вход таблицу с данными о поездках и возвращает обновленную таблицу с добавленными в нее 2 столбцами:\n",
    "* haversine_distance - расстояние Хаверсина между точкой, в которой был включен счетчик, и точкой, в которой счетчик был выключен;\n",
    "* direction - направление движения из точки, в которой был включен счетчик, в точку, в которой счетчик был выключен.\n",
    "\n",
    "Чему равно медианное расстояние Хаверсина поездок (в киллометрах)? Ответ округлите до сотых.\n"
   ]
  },
  {
   "cell_type": "code",
   "execution_count": 429,
   "metadata": {
    "id": "zqIZyeHmkBLm"
   },
   "outputs": [],
   "source": [
    "# ваш код здесь\n",
    "def add_geographical_features(data:pd.DataFrame):\n",
    "    data_copy = data.copy()\n",
    "    coordinates = data_copy[['pickup_latitude', 'pickup_longitude', 'dropoff_latitude', 'dropoff_longitude']]\n",
    "    data_copy['haversine_distance'] = coordinates.apply(lambda x: get_haversine_distance(*x), axis=1)\n",
    "    data_copy['direction'] = coordinates.apply(lambda x: get_angle_direction(*x), axis=1)\n",
    "    return data_copy\n",
    "\n",
    "taxi_data = add_geographical_features(taxi_data)"
   ]
  },
  {
   "cell_type": "code",
   "execution_count": 430,
   "metadata": {},
   "outputs": [
    {
     "name": "stdout",
     "output_type": "stream",
     "text": [
      "Медианное расстояние Хаверсина: 2.09\n"
     ]
    }
   ],
   "source": [
    "print('Медианное расстояние Хаверсина:', round(taxi_data['haversine_distance'].median(), 2))"
   ]
  },
  {
   "attachments": {},
   "cell_type": "markdown",
   "metadata": {
    "id": "_WWydgB2kBLm"
   },
   "source": [
    "### Задание 2.8.\n",
    "Реализуйте функцию add_cluster_features(), которая принимает на вход таблицу с данными о поездках и обученный алгоритм кластеризации. Функция должна возвращать обновленную таблицу с добавленными в нее столбцом geo_cluster - географический кластер, к которому относится поездка.\n",
    "\n",
    "Сколько поездок содержится в наименьшем по размеру географическом кластере?\n"
   ]
  },
  {
   "cell_type": "code",
   "execution_count": 431,
   "metadata": {
    "id": "YxpWNYfakBLn"
   },
   "outputs": [
    {
     "data": {
      "text/html": [
       "<style>#sk-container-id-9 {\n",
       "  /* Definition of color scheme common for light and dark mode */\n",
       "  --sklearn-color-text: black;\n",
       "  --sklearn-color-line: gray;\n",
       "  /* Definition of color scheme for unfitted estimators */\n",
       "  --sklearn-color-unfitted-level-0: #fff5e6;\n",
       "  --sklearn-color-unfitted-level-1: #f6e4d2;\n",
       "  --sklearn-color-unfitted-level-2: #ffe0b3;\n",
       "  --sklearn-color-unfitted-level-3: chocolate;\n",
       "  /* Definition of color scheme for fitted estimators */\n",
       "  --sklearn-color-fitted-level-0: #f0f8ff;\n",
       "  --sklearn-color-fitted-level-1: #d4ebff;\n",
       "  --sklearn-color-fitted-level-2: #b3dbfd;\n",
       "  --sklearn-color-fitted-level-3: cornflowerblue;\n",
       "\n",
       "  /* Specific color for light theme */\n",
       "  --sklearn-color-text-on-default-background: var(--sg-text-color, var(--theme-code-foreground, var(--jp-content-font-color1, black)));\n",
       "  --sklearn-color-background: var(--sg-background-color, var(--theme-background, var(--jp-layout-color0, white)));\n",
       "  --sklearn-color-border-box: var(--sg-text-color, var(--theme-code-foreground, var(--jp-content-font-color1, black)));\n",
       "  --sklearn-color-icon: #696969;\n",
       "\n",
       "  @media (prefers-color-scheme: dark) {\n",
       "    /* Redefinition of color scheme for dark theme */\n",
       "    --sklearn-color-text-on-default-background: var(--sg-text-color, var(--theme-code-foreground, var(--jp-content-font-color1, white)));\n",
       "    --sklearn-color-background: var(--sg-background-color, var(--theme-background, var(--jp-layout-color0, #111)));\n",
       "    --sklearn-color-border-box: var(--sg-text-color, var(--theme-code-foreground, var(--jp-content-font-color1, white)));\n",
       "    --sklearn-color-icon: #878787;\n",
       "  }\n",
       "}\n",
       "\n",
       "#sk-container-id-9 {\n",
       "  color: var(--sklearn-color-text);\n",
       "}\n",
       "\n",
       "#sk-container-id-9 pre {\n",
       "  padding: 0;\n",
       "}\n",
       "\n",
       "#sk-container-id-9 input.sk-hidden--visually {\n",
       "  border: 0;\n",
       "  clip: rect(1px 1px 1px 1px);\n",
       "  clip: rect(1px, 1px, 1px, 1px);\n",
       "  height: 1px;\n",
       "  margin: -1px;\n",
       "  overflow: hidden;\n",
       "  padding: 0;\n",
       "  position: absolute;\n",
       "  width: 1px;\n",
       "}\n",
       "\n",
       "#sk-container-id-9 div.sk-dashed-wrapped {\n",
       "  border: 1px dashed var(--sklearn-color-line);\n",
       "  margin: 0 0.4em 0.5em 0.4em;\n",
       "  box-sizing: border-box;\n",
       "  padding-bottom: 0.4em;\n",
       "  background-color: var(--sklearn-color-background);\n",
       "}\n",
       "\n",
       "#sk-container-id-9 div.sk-container {\n",
       "  /* jupyter's `normalize.less` sets `[hidden] { display: none; }`\n",
       "     but bootstrap.min.css set `[hidden] { display: none !important; }`\n",
       "     so we also need the `!important` here to be able to override the\n",
       "     default hidden behavior on the sphinx rendered scikit-learn.org.\n",
       "     See: https://github.com/scikit-learn/scikit-learn/issues/21755 */\n",
       "  display: inline-block !important;\n",
       "  position: relative;\n",
       "}\n",
       "\n",
       "#sk-container-id-9 div.sk-text-repr-fallback {\n",
       "  display: none;\n",
       "}\n",
       "\n",
       "div.sk-parallel-item,\n",
       "div.sk-serial,\n",
       "div.sk-item {\n",
       "  /* draw centered vertical line to link estimators */\n",
       "  background-image: linear-gradient(var(--sklearn-color-text-on-default-background), var(--sklearn-color-text-on-default-background));\n",
       "  background-size: 2px 100%;\n",
       "  background-repeat: no-repeat;\n",
       "  background-position: center center;\n",
       "}\n",
       "\n",
       "/* Parallel-specific style estimator block */\n",
       "\n",
       "#sk-container-id-9 div.sk-parallel-item::after {\n",
       "  content: \"\";\n",
       "  width: 100%;\n",
       "  border-bottom: 2px solid var(--sklearn-color-text-on-default-background);\n",
       "  flex-grow: 1;\n",
       "}\n",
       "\n",
       "#sk-container-id-9 div.sk-parallel {\n",
       "  display: flex;\n",
       "  align-items: stretch;\n",
       "  justify-content: center;\n",
       "  background-color: var(--sklearn-color-background);\n",
       "  position: relative;\n",
       "}\n",
       "\n",
       "#sk-container-id-9 div.sk-parallel-item {\n",
       "  display: flex;\n",
       "  flex-direction: column;\n",
       "}\n",
       "\n",
       "#sk-container-id-9 div.sk-parallel-item:first-child::after {\n",
       "  align-self: flex-end;\n",
       "  width: 50%;\n",
       "}\n",
       "\n",
       "#sk-container-id-9 div.sk-parallel-item:last-child::after {\n",
       "  align-self: flex-start;\n",
       "  width: 50%;\n",
       "}\n",
       "\n",
       "#sk-container-id-9 div.sk-parallel-item:only-child::after {\n",
       "  width: 0;\n",
       "}\n",
       "\n",
       "/* Serial-specific style estimator block */\n",
       "\n",
       "#sk-container-id-9 div.sk-serial {\n",
       "  display: flex;\n",
       "  flex-direction: column;\n",
       "  align-items: center;\n",
       "  background-color: var(--sklearn-color-background);\n",
       "  padding-right: 1em;\n",
       "  padding-left: 1em;\n",
       "}\n",
       "\n",
       "\n",
       "/* Toggleable style: style used for estimator/Pipeline/ColumnTransformer box that is\n",
       "clickable and can be expanded/collapsed.\n",
       "- Pipeline and ColumnTransformer use this feature and define the default style\n",
       "- Estimators will overwrite some part of the style using the `sk-estimator` class\n",
       "*/\n",
       "\n",
       "/* Pipeline and ColumnTransformer style (default) */\n",
       "\n",
       "#sk-container-id-9 div.sk-toggleable {\n",
       "  /* Default theme specific background. It is overwritten whether we have a\n",
       "  specific estimator or a Pipeline/ColumnTransformer */\n",
       "  background-color: var(--sklearn-color-background);\n",
       "}\n",
       "\n",
       "/* Toggleable label */\n",
       "#sk-container-id-9 label.sk-toggleable__label {\n",
       "  cursor: pointer;\n",
       "  display: block;\n",
       "  width: 100%;\n",
       "  margin-bottom: 0;\n",
       "  padding: 0.5em;\n",
       "  box-sizing: border-box;\n",
       "  text-align: center;\n",
       "}\n",
       "\n",
       "#sk-container-id-9 label.sk-toggleable__label-arrow:before {\n",
       "  /* Arrow on the left of the label */\n",
       "  content: \"▸\";\n",
       "  float: left;\n",
       "  margin-right: 0.25em;\n",
       "  color: var(--sklearn-color-icon);\n",
       "}\n",
       "\n",
       "#sk-container-id-9 label.sk-toggleable__label-arrow:hover:before {\n",
       "  color: var(--sklearn-color-text);\n",
       "}\n",
       "\n",
       "/* Toggleable content - dropdown */\n",
       "\n",
       "#sk-container-id-9 div.sk-toggleable__content {\n",
       "  max-height: 0;\n",
       "  max-width: 0;\n",
       "  overflow: hidden;\n",
       "  text-align: left;\n",
       "  /* unfitted */\n",
       "  background-color: var(--sklearn-color-unfitted-level-0);\n",
       "}\n",
       "\n",
       "#sk-container-id-9 div.sk-toggleable__content.fitted {\n",
       "  /* fitted */\n",
       "  background-color: var(--sklearn-color-fitted-level-0);\n",
       "}\n",
       "\n",
       "#sk-container-id-9 div.sk-toggleable__content pre {\n",
       "  margin: 0.2em;\n",
       "  border-radius: 0.25em;\n",
       "  color: var(--sklearn-color-text);\n",
       "  /* unfitted */\n",
       "  background-color: var(--sklearn-color-unfitted-level-0);\n",
       "}\n",
       "\n",
       "#sk-container-id-9 div.sk-toggleable__content.fitted pre {\n",
       "  /* unfitted */\n",
       "  background-color: var(--sklearn-color-fitted-level-0);\n",
       "}\n",
       "\n",
       "#sk-container-id-9 input.sk-toggleable__control:checked~div.sk-toggleable__content {\n",
       "  /* Expand drop-down */\n",
       "  max-height: 200px;\n",
       "  max-width: 100%;\n",
       "  overflow: auto;\n",
       "}\n",
       "\n",
       "#sk-container-id-9 input.sk-toggleable__control:checked~label.sk-toggleable__label-arrow:before {\n",
       "  content: \"▾\";\n",
       "}\n",
       "\n",
       "/* Pipeline/ColumnTransformer-specific style */\n",
       "\n",
       "#sk-container-id-9 div.sk-label input.sk-toggleable__control:checked~label.sk-toggleable__label {\n",
       "  color: var(--sklearn-color-text);\n",
       "  background-color: var(--sklearn-color-unfitted-level-2);\n",
       "}\n",
       "\n",
       "#sk-container-id-9 div.sk-label.fitted input.sk-toggleable__control:checked~label.sk-toggleable__label {\n",
       "  background-color: var(--sklearn-color-fitted-level-2);\n",
       "}\n",
       "\n",
       "/* Estimator-specific style */\n",
       "\n",
       "/* Colorize estimator box */\n",
       "#sk-container-id-9 div.sk-estimator input.sk-toggleable__control:checked~label.sk-toggleable__label {\n",
       "  /* unfitted */\n",
       "  background-color: var(--sklearn-color-unfitted-level-2);\n",
       "}\n",
       "\n",
       "#sk-container-id-9 div.sk-estimator.fitted input.sk-toggleable__control:checked~label.sk-toggleable__label {\n",
       "  /* fitted */\n",
       "  background-color: var(--sklearn-color-fitted-level-2);\n",
       "}\n",
       "\n",
       "#sk-container-id-9 div.sk-label label.sk-toggleable__label,\n",
       "#sk-container-id-9 div.sk-label label {\n",
       "  /* The background is the default theme color */\n",
       "  color: var(--sklearn-color-text-on-default-background);\n",
       "}\n",
       "\n",
       "/* On hover, darken the color of the background */\n",
       "#sk-container-id-9 div.sk-label:hover label.sk-toggleable__label {\n",
       "  color: var(--sklearn-color-text);\n",
       "  background-color: var(--sklearn-color-unfitted-level-2);\n",
       "}\n",
       "\n",
       "/* Label box, darken color on hover, fitted */\n",
       "#sk-container-id-9 div.sk-label.fitted:hover label.sk-toggleable__label.fitted {\n",
       "  color: var(--sklearn-color-text);\n",
       "  background-color: var(--sklearn-color-fitted-level-2);\n",
       "}\n",
       "\n",
       "/* Estimator label */\n",
       "\n",
       "#sk-container-id-9 div.sk-label label {\n",
       "  font-family: monospace;\n",
       "  font-weight: bold;\n",
       "  display: inline-block;\n",
       "  line-height: 1.2em;\n",
       "}\n",
       "\n",
       "#sk-container-id-9 div.sk-label-container {\n",
       "  text-align: center;\n",
       "}\n",
       "\n",
       "/* Estimator-specific */\n",
       "#sk-container-id-9 div.sk-estimator {\n",
       "  font-family: monospace;\n",
       "  border: 1px dotted var(--sklearn-color-border-box);\n",
       "  border-radius: 0.25em;\n",
       "  box-sizing: border-box;\n",
       "  margin-bottom: 0.5em;\n",
       "  /* unfitted */\n",
       "  background-color: var(--sklearn-color-unfitted-level-0);\n",
       "}\n",
       "\n",
       "#sk-container-id-9 div.sk-estimator.fitted {\n",
       "  /* fitted */\n",
       "  background-color: var(--sklearn-color-fitted-level-0);\n",
       "}\n",
       "\n",
       "/* on hover */\n",
       "#sk-container-id-9 div.sk-estimator:hover {\n",
       "  /* unfitted */\n",
       "  background-color: var(--sklearn-color-unfitted-level-2);\n",
       "}\n",
       "\n",
       "#sk-container-id-9 div.sk-estimator.fitted:hover {\n",
       "  /* fitted */\n",
       "  background-color: var(--sklearn-color-fitted-level-2);\n",
       "}\n",
       "\n",
       "/* Specification for estimator info (e.g. \"i\" and \"?\") */\n",
       "\n",
       "/* Common style for \"i\" and \"?\" */\n",
       "\n",
       ".sk-estimator-doc-link,\n",
       "a:link.sk-estimator-doc-link,\n",
       "a:visited.sk-estimator-doc-link {\n",
       "  float: right;\n",
       "  font-size: smaller;\n",
       "  line-height: 1em;\n",
       "  font-family: monospace;\n",
       "  background-color: var(--sklearn-color-background);\n",
       "  border-radius: 1em;\n",
       "  height: 1em;\n",
       "  width: 1em;\n",
       "  text-decoration: none !important;\n",
       "  margin-left: 1ex;\n",
       "  /* unfitted */\n",
       "  border: var(--sklearn-color-unfitted-level-1) 1pt solid;\n",
       "  color: var(--sklearn-color-unfitted-level-1);\n",
       "}\n",
       "\n",
       ".sk-estimator-doc-link.fitted,\n",
       "a:link.sk-estimator-doc-link.fitted,\n",
       "a:visited.sk-estimator-doc-link.fitted {\n",
       "  /* fitted */\n",
       "  border: var(--sklearn-color-fitted-level-1) 1pt solid;\n",
       "  color: var(--sklearn-color-fitted-level-1);\n",
       "}\n",
       "\n",
       "/* On hover */\n",
       "div.sk-estimator:hover .sk-estimator-doc-link:hover,\n",
       ".sk-estimator-doc-link:hover,\n",
       "div.sk-label-container:hover .sk-estimator-doc-link:hover,\n",
       ".sk-estimator-doc-link:hover {\n",
       "  /* unfitted */\n",
       "  background-color: var(--sklearn-color-unfitted-level-3);\n",
       "  color: var(--sklearn-color-background);\n",
       "  text-decoration: none;\n",
       "}\n",
       "\n",
       "div.sk-estimator.fitted:hover .sk-estimator-doc-link.fitted:hover,\n",
       ".sk-estimator-doc-link.fitted:hover,\n",
       "div.sk-label-container:hover .sk-estimator-doc-link.fitted:hover,\n",
       ".sk-estimator-doc-link.fitted:hover {\n",
       "  /* fitted */\n",
       "  background-color: var(--sklearn-color-fitted-level-3);\n",
       "  color: var(--sklearn-color-background);\n",
       "  text-decoration: none;\n",
       "}\n",
       "\n",
       "/* Span, style for the box shown on hovering the info icon */\n",
       ".sk-estimator-doc-link span {\n",
       "  display: none;\n",
       "  z-index: 9999;\n",
       "  position: relative;\n",
       "  font-weight: normal;\n",
       "  right: .2ex;\n",
       "  padding: .5ex;\n",
       "  margin: .5ex;\n",
       "  width: min-content;\n",
       "  min-width: 20ex;\n",
       "  max-width: 50ex;\n",
       "  color: var(--sklearn-color-text);\n",
       "  box-shadow: 2pt 2pt 4pt #999;\n",
       "  /* unfitted */\n",
       "  background: var(--sklearn-color-unfitted-level-0);\n",
       "  border: .5pt solid var(--sklearn-color-unfitted-level-3);\n",
       "}\n",
       "\n",
       ".sk-estimator-doc-link.fitted span {\n",
       "  /* fitted */\n",
       "  background: var(--sklearn-color-fitted-level-0);\n",
       "  border: var(--sklearn-color-fitted-level-3);\n",
       "}\n",
       "\n",
       ".sk-estimator-doc-link:hover span {\n",
       "  display: block;\n",
       "}\n",
       "\n",
       "/* \"?\"-specific style due to the `<a>` HTML tag */\n",
       "\n",
       "#sk-container-id-9 a.estimator_doc_link {\n",
       "  float: right;\n",
       "  font-size: 1rem;\n",
       "  line-height: 1em;\n",
       "  font-family: monospace;\n",
       "  background-color: var(--sklearn-color-background);\n",
       "  border-radius: 1rem;\n",
       "  height: 1rem;\n",
       "  width: 1rem;\n",
       "  text-decoration: none;\n",
       "  /* unfitted */\n",
       "  color: var(--sklearn-color-unfitted-level-1);\n",
       "  border: var(--sklearn-color-unfitted-level-1) 1pt solid;\n",
       "}\n",
       "\n",
       "#sk-container-id-9 a.estimator_doc_link.fitted {\n",
       "  /* fitted */\n",
       "  border: var(--sklearn-color-fitted-level-1) 1pt solid;\n",
       "  color: var(--sklearn-color-fitted-level-1);\n",
       "}\n",
       "\n",
       "/* On hover */\n",
       "#sk-container-id-9 a.estimator_doc_link:hover {\n",
       "  /* unfitted */\n",
       "  background-color: var(--sklearn-color-unfitted-level-3);\n",
       "  color: var(--sklearn-color-background);\n",
       "  text-decoration: none;\n",
       "}\n",
       "\n",
       "#sk-container-id-9 a.estimator_doc_link.fitted:hover {\n",
       "  /* fitted */\n",
       "  background-color: var(--sklearn-color-fitted-level-3);\n",
       "}\n",
       "</style><div id=\"sk-container-id-9\" class=\"sk-top-container\"><div class=\"sk-text-repr-fallback\"><pre>KMeans(n_clusters=10, random_state=42)</pre><b>In a Jupyter environment, please rerun this cell to show the HTML representation or trust the notebook. <br />On GitHub, the HTML representation is unable to render, please try loading this page with nbviewer.org.</b></div><div class=\"sk-container\" hidden><div class=\"sk-item\"><div class=\"sk-estimator fitted sk-toggleable\"><input class=\"sk-toggleable__control sk-hidden--visually\" id=\"sk-estimator-id-9\" type=\"checkbox\" checked><label for=\"sk-estimator-id-9\" class=\"sk-toggleable__label fitted sk-toggleable__label-arrow fitted\">&nbsp;&nbsp;KMeans<a class=\"sk-estimator-doc-link fitted\" rel=\"noreferrer\" target=\"_blank\" href=\"https://scikit-learn.org/1.4/modules/generated/sklearn.cluster.KMeans.html\">?<span>Documentation for KMeans</span></a><span class=\"sk-estimator-doc-link fitted\">i<span>Fitted</span></span></label><div class=\"sk-toggleable__content fitted\"><pre>KMeans(n_clusters=10, random_state=42)</pre></div> </div></div></div></div>"
      ],
      "text/plain": [
       "KMeans(n_clusters=10, random_state=42)"
      ]
     },
     "execution_count": 431,
     "metadata": {},
     "output_type": "execute_result"
    }
   ],
   "source": [
    "# создаем обучающую выборку из географических координат всех точек\n",
    "coords = np.hstack((taxi_data[['pickup_latitude', 'pickup_longitude']],\n",
    "                    taxi_data[['dropoff_latitude', 'dropoff_longitude']]))\n",
    "# обучаем алгоритм кластеризации\n",
    "kmeans = cluster.KMeans(n_clusters=10, random_state=42)\n",
    "kmeans.fit(coords)\n",
    "\n",
    "# ваш код здесь"
   ]
  },
  {
   "cell_type": "code",
   "execution_count": 432,
   "metadata": {},
   "outputs": [],
   "source": [
    "def add_cluster_features(table, kmeans):\n",
    "    data_copy = table.copy()\n",
    "    coordinates = data_copy[['pickup_latitude', 'pickup_longitude', 'dropoff_latitude', 'dropoff_longitude']]\n",
    "    data_copy['geo_cluster'] = coordinates.apply(lambda x: kmeans.predict([x])[0], axis=1)\n",
    "    return data_copy\n",
    "\n",
    "taxi_data = add_cluster_features(taxi_data, kmeans)"
   ]
  },
  {
   "cell_type": "code",
   "execution_count": 433,
   "metadata": {},
   "outputs": [
    {
     "data": {
      "text/html": [
       "<div>\n",
       "<style scoped>\n",
       "    .dataframe tbody tr th:only-of-type {\n",
       "        vertical-align: middle;\n",
       "    }\n",
       "\n",
       "    .dataframe tbody tr th {\n",
       "        vertical-align: top;\n",
       "    }\n",
       "\n",
       "    .dataframe thead th {\n",
       "        text-align: right;\n",
       "    }\n",
       "</style>\n",
       "<table border=\"1\" class=\"dataframe\">\n",
       "  <thead>\n",
       "    <tr style=\"text-align: right;\">\n",
       "      <th></th>\n",
       "      <th>Количество поездок</th>\n",
       "    </tr>\n",
       "  </thead>\n",
       "  <tbody>\n",
       "    <tr>\n",
       "      <th>1</th>\n",
       "      <td>2</td>\n",
       "    </tr>\n",
       "    <tr>\n",
       "      <th>5</th>\n",
       "      <td>3</td>\n",
       "    </tr>\n",
       "    <tr>\n",
       "      <th>4</th>\n",
       "      <td>4</td>\n",
       "    </tr>\n",
       "    <tr>\n",
       "      <th>8</th>\n",
       "      <td>15510</td>\n",
       "    </tr>\n",
       "    <tr>\n",
       "      <th>2</th>\n",
       "      <td>32769</td>\n",
       "    </tr>\n",
       "    <tr>\n",
       "      <th>3</th>\n",
       "      <td>40671</td>\n",
       "    </tr>\n",
       "    <tr>\n",
       "      <th>7</th>\n",
       "      <td>45791</td>\n",
       "    </tr>\n",
       "    <tr>\n",
       "      <th>9</th>\n",
       "      <td>322999</td>\n",
       "    </tr>\n",
       "    <tr>\n",
       "      <th>6</th>\n",
       "      <td>405045</td>\n",
       "    </tr>\n",
       "    <tr>\n",
       "      <th>0</th>\n",
       "      <td>595850</td>\n",
       "    </tr>\n",
       "  </tbody>\n",
       "</table>\n",
       "</div>"
      ],
      "text/plain": [
       "   Количество поездок\n",
       "1                   2\n",
       "5                   3\n",
       "4                   4\n",
       "8               15510\n",
       "2               32769\n",
       "3               40671\n",
       "7               45791\n",
       "9              322999\n",
       "6              405045\n",
       "0              595850"
      ]
     },
     "execution_count": 433,
     "metadata": {},
     "output_type": "execute_result"
    }
   ],
   "source": [
    "# print('Кол-во наимешних поездок в кластере:', taxi_data.groupby('geo_cluster')['id'].count().sort_values()[1])\n",
    "clusters_info = {}\n",
    "for i in range(taxi_data['geo_cluster'].nunique()):\n",
    "    clusters_info[i] = taxi_data[taxi_data['geo_cluster'] == i].shape[0]\n",
    "pd.DataFrame(\n",
    "    data=clusters_info.values(), \n",
    "    index=clusters_info.keys(), \n",
    "    columns=['Количество поездок']\n",
    ").sort_values(by='Количество поездок')"
   ]
  },
  {
   "attachments": {},
   "cell_type": "markdown",
   "metadata": {
    "id": "4FRtxWNDkBLn"
   },
   "source": [
    "### Задание 2.9.\n",
    "Реализуйте функцию add_weather_features(), которая принимает на вход две таблицы:\n",
    "* таблицу с данными о поездках;\n",
    "* таблицу с данными о погодных условиях на каждый час;\n",
    "\n",
    "и возвращает обновленную таблицу с данными о поездках с добавленными в нее 5 столбцами:\n",
    "* temperature - температура;\n",
    "* visibility - видимость;\n",
    "* wind speed - средняя скорость ветра;\n",
    "* precip - количество осадков;\n",
    "* events - погодные явления.\n",
    "\n",
    "а) Сколько поездок было совершено в снежную погоду?\n",
    "\n",
    "В результате объединения у вас должны получиться записи, для которых в столбцах temperature, visibility, wind speed, precip, и events будут пропуски. Это связано с тем, что в таблице с данными о погодных условиях отсутствуют измерения для некоторых моментов времени, в которых включался счетчик поездки. \n",
    "\n",
    "б) Сколько процентов от общего количества наблюдений в таблице с данными о поездках занимают пропуски в столбцах с погодными условиями? Ответ приведите с точностью до сотых процента.\n"
   ]
  },
  {
   "cell_type": "code",
   "execution_count": 434,
   "metadata": {
    "id": "PdgHJwQgkBLn"
   },
   "outputs": [],
   "source": [
    "# ваш код здесь\n",
    "weather_data = pd.read_csv('data/weather_data.csv')\n",
    "# удаляем лишние столбцы\n",
    "# weather_data_list = ['time', 'temperature', 'visibility', 'wind speed', 'precip', 'events']\n",
    "# current_columns = weather_data.columns\n",
    "# columns_to_drop = current_columns.difference(weather_data_list)\n",
    "# weather_data.drop(columns_to_drop, axis=1, inplace=True)"
   ]
  },
  {
   "cell_type": "code",
   "execution_count": 435,
   "metadata": {},
   "outputs": [
    {
     "data": {
      "text/html": [
       "<div>\n",
       "<style scoped>\n",
       "    .dataframe tbody tr th:only-of-type {\n",
       "        vertical-align: middle;\n",
       "    }\n",
       "\n",
       "    .dataframe tbody tr th {\n",
       "        vertical-align: top;\n",
       "    }\n",
       "\n",
       "    .dataframe thead th {\n",
       "        text-align: right;\n",
       "    }\n",
       "</style>\n",
       "<table border=\"1\" class=\"dataframe\">\n",
       "  <thead>\n",
       "    <tr style=\"text-align: right;\">\n",
       "      <th></th>\n",
       "      <th>time</th>\n",
       "      <th>temperature</th>\n",
       "      <th>windchill</th>\n",
       "      <th>heat index</th>\n",
       "      <th>humidity</th>\n",
       "      <th>pressure</th>\n",
       "      <th>dew Point</th>\n",
       "      <th>visibility</th>\n",
       "      <th>wind dir</th>\n",
       "      <th>wind speed</th>\n",
       "      <th>gust speed</th>\n",
       "      <th>precip</th>\n",
       "      <th>events</th>\n",
       "      <th>conditions</th>\n",
       "      <th>date</th>\n",
       "      <th>hour</th>\n",
       "    </tr>\n",
       "  </thead>\n",
       "  <tbody>\n",
       "    <tr>\n",
       "      <th>0</th>\n",
       "      <td>2015-12-31 02:00:00</td>\n",
       "      <td>7.8</td>\n",
       "      <td>7.1</td>\n",
       "      <td>NaN</td>\n",
       "      <td>0.89</td>\n",
       "      <td>1017.0</td>\n",
       "      <td>6.1</td>\n",
       "      <td>8.0</td>\n",
       "      <td>NNE</td>\n",
       "      <td>5.6</td>\n",
       "      <td>0.0</td>\n",
       "      <td>0.8</td>\n",
       "      <td>NaN</td>\n",
       "      <td>Overcast</td>\n",
       "      <td>2015-12-31</td>\n",
       "      <td>2</td>\n",
       "    </tr>\n",
       "    <tr>\n",
       "      <th>1</th>\n",
       "      <td>2015-12-31 03:00:00</td>\n",
       "      <td>7.2</td>\n",
       "      <td>5.9</td>\n",
       "      <td>NaN</td>\n",
       "      <td>0.90</td>\n",
       "      <td>1016.5</td>\n",
       "      <td>5.6</td>\n",
       "      <td>12.9</td>\n",
       "      <td>Variable</td>\n",
       "      <td>7.4</td>\n",
       "      <td>0.0</td>\n",
       "      <td>0.3</td>\n",
       "      <td>NaN</td>\n",
       "      <td>Overcast</td>\n",
       "      <td>2015-12-31</td>\n",
       "      <td>3</td>\n",
       "    </tr>\n",
       "    <tr>\n",
       "      <th>2</th>\n",
       "      <td>2015-12-31 04:00:00</td>\n",
       "      <td>7.2</td>\n",
       "      <td>NaN</td>\n",
       "      <td>NaN</td>\n",
       "      <td>0.90</td>\n",
       "      <td>1016.7</td>\n",
       "      <td>5.6</td>\n",
       "      <td>12.9</td>\n",
       "      <td>Calm</td>\n",
       "      <td>0.0</td>\n",
       "      <td>0.0</td>\n",
       "      <td>0.0</td>\n",
       "      <td>NaN</td>\n",
       "      <td>Overcast</td>\n",
       "      <td>2015-12-31</td>\n",
       "      <td>4</td>\n",
       "    </tr>\n",
       "    <tr>\n",
       "      <th>3</th>\n",
       "      <td>2015-12-31 05:00:00</td>\n",
       "      <td>7.2</td>\n",
       "      <td>5.9</td>\n",
       "      <td>NaN</td>\n",
       "      <td>0.86</td>\n",
       "      <td>1015.9</td>\n",
       "      <td>5.0</td>\n",
       "      <td>14.5</td>\n",
       "      <td>NW</td>\n",
       "      <td>7.4</td>\n",
       "      <td>0.0</td>\n",
       "      <td>0.0</td>\n",
       "      <td>NaN</td>\n",
       "      <td>Overcast</td>\n",
       "      <td>2015-12-31</td>\n",
       "      <td>5</td>\n",
       "    </tr>\n",
       "    <tr>\n",
       "      <th>4</th>\n",
       "      <td>2015-12-31 06:00:00</td>\n",
       "      <td>7.2</td>\n",
       "      <td>6.4</td>\n",
       "      <td>NaN</td>\n",
       "      <td>0.90</td>\n",
       "      <td>1016.2</td>\n",
       "      <td>5.6</td>\n",
       "      <td>11.3</td>\n",
       "      <td>West</td>\n",
       "      <td>5.6</td>\n",
       "      <td>0.0</td>\n",
       "      <td>0.0</td>\n",
       "      <td>NaN</td>\n",
       "      <td>Overcast</td>\n",
       "      <td>2015-12-31</td>\n",
       "      <td>6</td>\n",
       "    </tr>\n",
       "  </tbody>\n",
       "</table>\n",
       "</div>"
      ],
      "text/plain": [
       "                  time  temperature  windchill  heat index  humidity  \\\n",
       "0  2015-12-31 02:00:00          7.8        7.1         NaN      0.89   \n",
       "1  2015-12-31 03:00:00          7.2        5.9         NaN      0.90   \n",
       "2  2015-12-31 04:00:00          7.2        NaN         NaN      0.90   \n",
       "3  2015-12-31 05:00:00          7.2        5.9         NaN      0.86   \n",
       "4  2015-12-31 06:00:00          7.2        6.4         NaN      0.90   \n",
       "\n",
       "   pressure  dew Point  visibility  wind dir  wind speed  gust speed  precip  \\\n",
       "0    1017.0        6.1         8.0       NNE         5.6         0.0     0.8   \n",
       "1    1016.5        5.6        12.9  Variable         7.4         0.0     0.3   \n",
       "2    1016.7        5.6        12.9      Calm         0.0         0.0     0.0   \n",
       "3    1015.9        5.0        14.5        NW         7.4         0.0     0.0   \n",
       "4    1016.2        5.6        11.3      West         5.6         0.0     0.0   \n",
       "\n",
       "  events conditions        date  hour  \n",
       "0    NaN   Overcast  2015-12-31     2  \n",
       "1    NaN   Overcast  2015-12-31     3  \n",
       "2    NaN   Overcast  2015-12-31     4  \n",
       "3    NaN   Overcast  2015-12-31     5  \n",
       "4    NaN   Overcast  2015-12-31     6  "
      ]
     },
     "metadata": {},
     "output_type": "display_data"
    },
    {
     "name": "stdout",
     "output_type": "stream",
     "text": [
      "<class 'pandas.core.frame.DataFrame'>\n",
      "RangeIndex: 8787 entries, 0 to 8786\n",
      "Data columns (total 16 columns):\n",
      " #   Column       Non-Null Count  Dtype  \n",
      "---  ------       --------------  -----  \n",
      " 0   time         8787 non-null   object \n",
      " 1   temperature  8787 non-null   float64\n",
      " 2   windchill    2295 non-null   float64\n",
      " 3   heat index   815 non-null    float64\n",
      " 4   humidity     8787 non-null   float64\n",
      " 5   pressure     8556 non-null   float64\n",
      " 6   dew Point    8787 non-null   float64\n",
      " 7   visibility   8787 non-null   float64\n",
      " 8   wind dir     8787 non-null   object \n",
      " 9   wind speed   8787 non-null   float64\n",
      " 10  gust speed   8787 non-null   float64\n",
      " 11  precip       8787 non-null   float64\n",
      " 12  events       455 non-null    object \n",
      " 13  conditions   8787 non-null   object \n",
      " 14  date         8787 non-null   object \n",
      " 15  hour         8787 non-null   int64  \n",
      "dtypes: float64(10), int64(1), object(5)\n",
      "memory usage: 1.1+ MB\n"
     ]
    }
   ],
   "source": [
    "# taxi_data['pickup_hour'] = pd.to_datetime(taxi_data['pickup_hour'], format='%H:%M:%S')\n",
    "display(weather_data.head()),\n",
    "weather_data.info()"
   ]
  },
  {
   "cell_type": "code",
   "execution_count": 436,
   "metadata": {},
   "outputs": [],
   "source": [
    "def add_weather_features(table_1, table_2):\n",
    "    data_copy = table_1.copy()\n",
    "    table_2['time'] = pd.to_datetime(table_2['time'], format='%Y-%m-%d %H:%M:%S')\n",
    "    table_2['date'] = table_2['time'].dt.date\n",
    "    table_2['hour'] = table_2['time'].dt.hour\n",
    "    table_2['date'] = pd.to_datetime(table_2['date'], format='%Y-%m-%d')\n",
    "    # table_2['hour'] = pd.to_datetime(table_2['hour'], format='%H:%M:%S')\n",
    "    weather_temp = table_2.copy()\n",
    "    \n",
    "    weather_cols = ['date', 'hour', 'temperature', 'visibility', 'wind speed', 'precip', 'events']\n",
    "    data_copy = data_copy.merge(\n",
    "        right=weather_temp[weather_cols], \n",
    "        how='left', \n",
    "        left_on=['pickup_date', 'pickup_hour'],\n",
    "        right_on=['date', 'hour']\n",
    "    )\n",
    "    \n",
    "    \n",
    "    return data_copy\n",
    "    \n",
    "taxi_data = add_weather_features(taxi_data, weather_data)"
   ]
  },
  {
   "cell_type": "code",
   "execution_count": 457,
   "metadata": {},
   "outputs": [
    {
     "data": {
      "text/html": [
       "<div>\n",
       "<style scoped>\n",
       "    .dataframe tbody tr th:only-of-type {\n",
       "        vertical-align: middle;\n",
       "    }\n",
       "\n",
       "    .dataframe tbody tr th {\n",
       "        vertical-align: top;\n",
       "    }\n",
       "\n",
       "    .dataframe thead th {\n",
       "        text-align: right;\n",
       "    }\n",
       "</style>\n",
       "<table border=\"1\" class=\"dataframe\">\n",
       "  <thead>\n",
       "    <tr style=\"text-align: right;\">\n",
       "      <th></th>\n",
       "      <th>key_0</th>\n",
       "      <th>id</th>\n",
       "      <th>vendor_id</th>\n",
       "      <th>pickup_datetime</th>\n",
       "      <th>dropoff_datetime</th>\n",
       "      <th>passenger_count</th>\n",
       "      <th>pickup_longitude</th>\n",
       "      <th>pickup_latitude</th>\n",
       "      <th>dropoff_longitude</th>\n",
       "      <th>dropoff_latitude</th>\n",
       "      <th>...</th>\n",
       "      <th>direction</th>\n",
       "      <th>geo_cluster</th>\n",
       "      <th>date_y</th>\n",
       "      <th>hour</th>\n",
       "      <th>temperature</th>\n",
       "      <th>visibility</th>\n",
       "      <th>wind speed</th>\n",
       "      <th>precip</th>\n",
       "      <th>events</th>\n",
       "      <th>trip_duration_log</th>\n",
       "    </tr>\n",
       "  </thead>\n",
       "  <tbody>\n",
       "    <tr>\n",
       "      <th>0</th>\n",
       "      <td>2016-03-14</td>\n",
       "      <td>id2875421</td>\n",
       "      <td>2</td>\n",
       "      <td>2016-03-14 17:24:55</td>\n",
       "      <td>2016-03-14 17:32:30</td>\n",
       "      <td>1</td>\n",
       "      <td>-73.982155</td>\n",
       "      <td>40.767937</td>\n",
       "      <td>-73.964630</td>\n",
       "      <td>40.765602</td>\n",
       "      <td>...</td>\n",
       "      <td>99.970196</td>\n",
       "      <td>6</td>\n",
       "      <td>2016-03-14</td>\n",
       "      <td>17.0</td>\n",
       "      <td>4.4</td>\n",
       "      <td>8.0</td>\n",
       "      <td>27.8</td>\n",
       "      <td>0.3</td>\n",
       "      <td>NaN</td>\n",
       "      <td>6.122493</td>\n",
       "    </tr>\n",
       "    <tr>\n",
       "      <th>1</th>\n",
       "      <td>2016-06-12</td>\n",
       "      <td>id2377394</td>\n",
       "      <td>1</td>\n",
       "      <td>2016-06-12 00:43:35</td>\n",
       "      <td>2016-06-12 00:54:38</td>\n",
       "      <td>1</td>\n",
       "      <td>-73.980415</td>\n",
       "      <td>40.738564</td>\n",
       "      <td>-73.999481</td>\n",
       "      <td>40.731152</td>\n",
       "      <td>...</td>\n",
       "      <td>-117.153768</td>\n",
       "      <td>9</td>\n",
       "      <td>2016-06-12</td>\n",
       "      <td>0.0</td>\n",
       "      <td>28.9</td>\n",
       "      <td>16.1</td>\n",
       "      <td>7.4</td>\n",
       "      <td>0.0</td>\n",
       "      <td>NaN</td>\n",
       "      <td>6.498282</td>\n",
       "    </tr>\n",
       "    <tr>\n",
       "      <th>2</th>\n",
       "      <td>2016-01-19</td>\n",
       "      <td>id3858529</td>\n",
       "      <td>2</td>\n",
       "      <td>2016-01-19 11:35:24</td>\n",
       "      <td>2016-01-19 12:10:48</td>\n",
       "      <td>1</td>\n",
       "      <td>-73.979027</td>\n",
       "      <td>40.763939</td>\n",
       "      <td>-74.005333</td>\n",
       "      <td>40.710087</td>\n",
       "      <td>...</td>\n",
       "      <td>-159.680165</td>\n",
       "      <td>9</td>\n",
       "      <td>2016-01-19</td>\n",
       "      <td>11.0</td>\n",
       "      <td>-6.7</td>\n",
       "      <td>16.1</td>\n",
       "      <td>24.1</td>\n",
       "      <td>0.0</td>\n",
       "      <td>NaN</td>\n",
       "      <td>7.661527</td>\n",
       "    </tr>\n",
       "    <tr>\n",
       "      <th>3</th>\n",
       "      <td>2016-04-06</td>\n",
       "      <td>id3504673</td>\n",
       "      <td>2</td>\n",
       "      <td>2016-04-06 19:32:31</td>\n",
       "      <td>2016-04-06 19:39:40</td>\n",
       "      <td>1</td>\n",
       "      <td>-74.010040</td>\n",
       "      <td>40.719971</td>\n",
       "      <td>-74.012268</td>\n",
       "      <td>40.706718</td>\n",
       "      <td>...</td>\n",
       "      <td>-172.737700</td>\n",
       "      <td>9</td>\n",
       "      <td>2016-04-06</td>\n",
       "      <td>19.0</td>\n",
       "      <td>7.2</td>\n",
       "      <td>16.1</td>\n",
       "      <td>25.9</td>\n",
       "      <td>0.0</td>\n",
       "      <td>NaN</td>\n",
       "      <td>6.063785</td>\n",
       "    </tr>\n",
       "    <tr>\n",
       "      <th>4</th>\n",
       "      <td>2016-03-26</td>\n",
       "      <td>id2181028</td>\n",
       "      <td>2</td>\n",
       "      <td>2016-03-26 13:30:55</td>\n",
       "      <td>2016-03-26 13:38:10</td>\n",
       "      <td>1</td>\n",
       "      <td>-73.973053</td>\n",
       "      <td>40.793209</td>\n",
       "      <td>-73.972923</td>\n",
       "      <td>40.782520</td>\n",
       "      <td>...</td>\n",
       "      <td>179.473585</td>\n",
       "      <td>6</td>\n",
       "      <td>2016-03-26</td>\n",
       "      <td>13.0</td>\n",
       "      <td>9.4</td>\n",
       "      <td>16.1</td>\n",
       "      <td>9.3</td>\n",
       "      <td>0.0</td>\n",
       "      <td>NaN</td>\n",
       "      <td>6.077642</td>\n",
       "    </tr>\n",
       "  </tbody>\n",
       "</table>\n",
       "<p>5 rows × 30 columns</p>\n",
       "</div>"
      ],
      "text/plain": [
       "       key_0         id  vendor_id     pickup_datetime     dropoff_datetime  \\\n",
       "0 2016-03-14  id2875421          2 2016-03-14 17:24:55  2016-03-14 17:32:30   \n",
       "1 2016-06-12  id2377394          1 2016-06-12 00:43:35  2016-06-12 00:54:38   \n",
       "2 2016-01-19  id3858529          2 2016-01-19 11:35:24  2016-01-19 12:10:48   \n",
       "3 2016-04-06  id3504673          2 2016-04-06 19:32:31  2016-04-06 19:39:40   \n",
       "4 2016-03-26  id2181028          2 2016-03-26 13:30:55  2016-03-26 13:38:10   \n",
       "\n",
       "   passenger_count  pickup_longitude  pickup_latitude  dropoff_longitude  \\\n",
       "0                1        -73.982155        40.767937         -73.964630   \n",
       "1                1        -73.980415        40.738564         -73.999481   \n",
       "2                1        -73.979027        40.763939         -74.005333   \n",
       "3                1        -74.010040        40.719971         -74.012268   \n",
       "4                1        -73.973053        40.793209         -73.972923   \n",
       "\n",
       "   dropoff_latitude  ...   direction  geo_cluster     date_y  hour  \\\n",
       "0         40.765602  ...   99.970196            6 2016-03-14  17.0   \n",
       "1         40.731152  ... -117.153768            9 2016-06-12   0.0   \n",
       "2         40.710087  ... -159.680165            9 2016-01-19  11.0   \n",
       "3         40.706718  ... -172.737700            9 2016-04-06  19.0   \n",
       "4         40.782520  ...  179.473585            6 2016-03-26  13.0   \n",
       "\n",
       "   temperature  visibility  wind speed  precip  events  trip_duration_log  \n",
       "0          4.4         8.0        27.8     0.3     NaN           6.122493  \n",
       "1         28.9        16.1         7.4     0.0     NaN           6.498282  \n",
       "2         -6.7        16.1        24.1     0.0     NaN           7.661527  \n",
       "3          7.2        16.1        25.9     0.0     NaN           6.063785  \n",
       "4          9.4        16.1         9.3     0.0     NaN           6.077642  \n",
       "\n",
       "[5 rows x 30 columns]"
      ]
     },
     "execution_count": 457,
     "metadata": {},
     "output_type": "execute_result"
    }
   ],
   "source": [
    "taxi_data.head()"
   ]
  },
  {
   "cell_type": "code",
   "execution_count": 438,
   "metadata": {},
   "outputs": [
    {
     "name": "stdout",
     "output_type": "stream",
     "text": [
      "Количество поездок в снежную погоду: 13126\n",
      "Процент пропусков в погодных условиях: 0.82\n"
     ]
    },
    {
     "name": "stderr",
     "output_type": "stream",
     "text": [
      "C:\\Users\\Admin\\AppData\\Local\\Temp\\ipykernel_22372\\1867391668.py:3: FutureWarning: Series.__getitem__ treating keys as positions is deprecated. In a future version, integer keys will always be treated as labels (consistent with DataFrame behavior). To access a value by position, use `ser.iloc[pos]`\n",
      "  print('Процент пропусков в погодных условиях:', round(100 * taxi_data[weather_cols].isna().sum()[0] / taxi_data.shape[0], 2))\n"
     ]
    }
   ],
   "source": [
    "weather_cols = ['temperature', 'visibility', 'wind speed', 'precip', 'events']\n",
    "print('Количество поездок в снежную погоду:', taxi_data[taxi_data['events'] == 'Snow'].shape[0]),\n",
    "print('Процент пропусков в погодных условиях:', round(100 * taxi_data[weather_cols].isna().sum()[0] / taxi_data.shape[0], 2))"
   ]
  },
  {
   "attachments": {},
   "cell_type": "markdown",
   "metadata": {
    "id": "hwsluTQHkBLn"
   },
   "source": [
    "### Задание 2.10.\n",
    "Реализуйте функцию fill_null_weather_data(), которая принимает на вход которая принимает на вход таблицу с данными о поездках. Функция должна заполнять пропущенные значения в столбцах.\n",
    "\n",
    "Пропуски в столбцах с погодными условиями -  temperature, visibility, wind speed, precip заполните медианным значением температуры, влажности, скорости ветра и видимости в зависимости от даты начала поездки. Для этого сгруппируйте данные по столбцу pickup_date и рассчитайте медиану в каждой группе, после чего с помощью комбинации методов transform() и fillna() заполните пропуски. \n",
    "Пропуски в столбце events заполните строкой 'None' - символом отсутствия погодных явлений (снега/дождя/тумана). \n",
    "\n",
    "Пропуски в столбцах с информацией из OSRM API - total_distance, total_travel_time и number_of_steps заполните медианным значением по столбцам. \n",
    "\n",
    "Чему равна медиана в столбце temperature после заполнения пропусков? Ответ округлите до десятых.\n"
   ]
  },
  {
   "cell_type": "code",
   "execution_count": 458,
   "metadata": {
    "id": "oHIYqxjKkBLn"
   },
   "outputs": [
    {
     "name": "stderr",
     "output_type": "stream",
     "text": [
      "C:\\Users\\Admin\\AppData\\Local\\Temp\\ipykernel_22372\\3233011904.py:6: FutureWarning: A value is trying to be set on a copy of a DataFrame or Series through chained assignment using an inplace method.\n",
      "The behavior will change in pandas 3.0. This inplace method will never work because the intermediate object on which we are setting values always behaves as a copy.\n",
      "\n",
      "For example, when doing 'df[col].method(value, inplace=True)', try using 'df.method({col: value}, inplace=True)' or df[col] = df[col].method(value) instead, to perform the operation inplace on the original object.\n",
      "\n",
      "\n",
      "  data_copy['events'].fillna('None', inplace=True)\n",
      "C:\\Users\\Admin\\AppData\\Local\\Temp\\ipykernel_22372\\3233011904.py:9: FutureWarning: A value is trying to be set on a copy of a DataFrame or Series through chained assignment using an inplace method.\n",
      "The behavior will change in pandas 3.0. This inplace method will never work because the intermediate object on which we are setting values always behaves as a copy.\n",
      "\n",
      "For example, when doing 'df[col].method(value, inplace=True)', try using 'df.method({col: value}, inplace=True)' or df[col] = df[col].method(value) instead, to perform the operation inplace on the original object.\n",
      "\n",
      "\n",
      "  data_copy[col].fillna(data_copy.groupby('pickup_date')[col].transform('median'), inplace=True)\n",
      "C:\\Users\\Admin\\AppData\\Local\\Temp\\ipykernel_22372\\3233011904.py:12: FutureWarning: A value is trying to be set on a copy of a DataFrame or Series through chained assignment using an inplace method.\n",
      "The behavior will change in pandas 3.0. This inplace method will never work because the intermediate object on which we are setting values always behaves as a copy.\n",
      "\n",
      "For example, when doing 'df[col].method(value, inplace=True)', try using 'df.method({col: value}, inplace=True)' or df[col] = df[col].method(value) instead, to perform the operation inplace on the original object.\n",
      "\n",
      "\n",
      "  data_copy[col].fillna(data_copy[col].median(), inplace=True)\n",
      "C:\\Users\\Admin\\AppData\\Local\\Temp\\ipykernel_22372\\3233011904.py:12: FutureWarning: A value is trying to be set on a copy of a DataFrame or Series through chained assignment using an inplace method.\n",
      "The behavior will change in pandas 3.0. This inplace method will never work because the intermediate object on which we are setting values always behaves as a copy.\n",
      "\n",
      "For example, when doing 'df[col].method(value, inplace=True)', try using 'df.method({col: value}, inplace=True)' or df[col] = df[col].method(value) instead, to perform the operation inplace on the original object.\n",
      "\n",
      "\n",
      "  data_copy[col].fillna(data_copy[col].median(), inplace=True)\n",
      "C:\\Users\\Admin\\AppData\\Local\\Temp\\ipykernel_22372\\3233011904.py:12: FutureWarning: A value is trying to be set on a copy of a DataFrame or Series through chained assignment using an inplace method.\n",
      "The behavior will change in pandas 3.0. This inplace method will never work because the intermediate object on which we are setting values always behaves as a copy.\n",
      "\n",
      "For example, when doing 'df[col].method(value, inplace=True)', try using 'df.method({col: value}, inplace=True)' or df[col] = df[col].method(value) instead, to perform the operation inplace on the original object.\n",
      "\n",
      "\n",
      "  data_copy[col].fillna(data_copy[col].median(), inplace=True)\n"
     ]
    }
   ],
   "source": [
    "# ваш код здесь\n",
    "def fill_null_weather_data(data:pd.DataFrame):\n",
    "    data_copy = data.copy()\n",
    "    weather_cols = ['temperature', 'visibility', 'wind speed', 'precip']\n",
    "    osrm_cols = ['total_distance', 'total_travel_time', 'number_of_steps']\n",
    "    data_copy['events'].fillna('None', inplace=True)\n",
    "\n",
    "    for col in weather_cols:\n",
    "        data_copy[col].fillna(data_copy.groupby('pickup_date')[col].transform('median'), inplace=True)\n",
    "        \n",
    "    for col in osrm_cols:\n",
    "        data_copy[col].fillna(data_copy[col].median(), inplace=True)\n",
    "    \n",
    "    return data_copy\n",
    "        \n",
    "taxi_data = fill_null_weather_data(taxi_data)"
   ]
  },
  {
   "cell_type": "code",
   "execution_count": 459,
   "metadata": {},
   "outputs": [
    {
     "name": "stdout",
     "output_type": "stream",
     "text": [
      "Медиана в столбце temperature после заполнения пропусков: 11.1\n"
     ]
    }
   ],
   "source": [
    "print('Медиана в столбце temperature после заполнения пропусков:', round(taxi_data['temperature'].median(), 1))"
   ]
  },
  {
   "attachments": {},
   "cell_type": "markdown",
   "metadata": {
    "id": "MahzwVDxkBLn"
   },
   "source": [
    "В завершение первой части найдем очевидные выбросы в целевой переменной - длительности поездки. \n",
    "\n",
    "Проще всего найти слишком продолжительные поездки. Давайте условимся, что выбросами будут считаться поездки, длительность которых превышает 24 часа. \n",
    "\n",
    "Чуть сложнее с анализом поездок, длительность которых слишком мала. Потому что к ним относятся действительно реальные поездки на короткие расстояния, поездки, которые были отменены через секунду после того как включился счетчик, а также “телепортации” - перемещение на большие расстояния за считанные секунды. \n",
    "Условимся, что мы будем считать выбросами только последнюю группу. Как же нам их обнаружить наиболее простым способом?\n",
    "\n",
    "Можно воспользоваться информацией о кратчайшем расстоянии, которое проезжает такси. Вычислить среднюю скорость автомобиля на кратчайшем пути следующим образом: \n",
    "$$avg\\_speed= \\frac{total\\_distance}{1000*trip\\_duration}*3600$$\n",
    "Если мы построим диаграмму рассеяния средней скорости движения автомобилей, мы увидим следующую картину:\n"
   ]
  },
  {
   "cell_type": "code",
   "execution_count": 464,
   "metadata": {
    "id": "Nnp1KatIkBLo"
   },
   "outputs": [
    {
     "data": {
      "image/png": "[encoded data removed]",
      "text/plain": [
       "<Figure size 1000x500 with 1 Axes>"
      ]
     },
     "metadata": {},
     "output_type": "display_data"
    }
   ],
   "source": [
    "avg_speed = taxi_data['total_distance'] / taxi_data['trip_duration'] * 3.6\n",
    "fig, ax = plt.subplots(figsize=(10, 5))\n",
    "sns.scatterplot(x=avg_speed.index, y=avg_speed, ax=ax)\n",
    "ax.set_xlabel('Index')\n",
    "ax.set_ylabel('Average speed');"
   ]
  },
  {
   "attachments": {},
   "cell_type": "markdown",
   "metadata": {
    "id": "BGxXxv7LkBLo"
   },
   "source": [
    "Как раз отсюда мы видим, что у нас есть “поездки-телепортации”, для которых средняя скорость более 1000 км/ч. Даже есть такая, средняя скорость которой составляла более 12000 км/ч! \n",
    "\n",
    "Давайте условимся, что предельная средняя скорость, которую могут развивать таксисты будет 300 км/ч. \n"
   ]
  },
  {
   "attachments": {},
   "cell_type": "markdown",
   "metadata": {
    "id": "sSWHdHNWkBLo",
    "tags": []
   },
   "source": [
    "### Задание 2.11.\n",
    "Найдите поездки, длительность которых превышает 24 часа. И удалите их из набора данных.\n",
    "\n",
    "а) Сколько выбросов по признаку длительности поездки вам удалось найти?\n",
    "\n",
    "Найдите поездки, средняя скорость которых по кратчайшему пути превышает 300 км/ч и удалите их из данных. \n",
    "\n",
    "б) Сколько выбросов по признаку скорости вам удалось найти?"
   ]
  },
  {
   "cell_type": "code",
   "execution_count": 465,
   "metadata": {
    "id": "3KVmlq8SkBLo"
   },
   "outputs": [
    {
     "name": "stdout",
     "output_type": "stream",
     "text": [
      "Количество выбросов по признаку длительности: 4 \n",
      "Количество выбросов по признаку средней скорости: 407\n"
     ]
    }
   ],
   "source": [
    "# ваш код здесь\n",
    "duration_outliers = taxi_data[taxi_data['trip_duration'] > 24*60*60].index\n",
    "taxi_data['avg_speed'] = taxi_data['total_distance'] / taxi_data['trip_duration'] * 3.6\n",
    "speed_outliers = taxi_data[taxi_data['avg_speed'] > 300].index\n",
    "# удаляем выбросы\n",
    "taxi_data.drop(\n",
    "    index=duration_outliers.append(speed_outliers),\n",
    "    columns=['avg_speed'],\n",
    "    inplace=True\n",
    ")\n",
    "\n",
    "print(\n",
    "    'Количество выбросов по признаку длительности:', duration_outliers.shape[0],\n",
    "    '\\nКоличество выбросов по признаку средней скорости:', speed_outliers.shape[0]\n",
    ")"
   ]
  },
  {
   "attachments": {},
   "cell_type": "markdown",
   "metadata": {
    "id": "pEEXbpTfkBLo",
    "tags": []
   },
   "source": [
    "## 3. Разведывательный анализ данных (EDA)"
   ]
  },
  {
   "attachments": {},
   "cell_type": "markdown",
   "metadata": {
    "id": "59de6wa-kBLo"
   },
   "source": [
    "В этой части нашего проекта мы с вами:\n",
    "* Исследуем сформированный набор данных; \n",
    "* Попробуем найти закономерности, позволяющие сформулировать предварительные гипотезы относительно того, какие факторы являются решающими в определении длительности поездки;\n",
    "* Дополним наш анализ визуализациями, иллюстрирующими; исследование. Постарайтесь оформлять диаграммы с душой, а не «для галочки»: навыки визуализации полученных выводов обязательно пригодятся вам в будущем.\n"
   ]
  },
  {
   "attachments": {},
   "cell_type": "markdown",
   "metadata": {
    "id": "d-8PQtqRkBLo"
   },
   "source": [
    "Начинаем с целевого признака. Забегая вперед, скажем, что основной метрикой качества решения поставленной задачи будет RMSLE - Root Mean Squared Log Error, которая вычисляется на основе целевой переменной в логарифмическом масштабе. В таком случае целесообразно сразу логарифмировать признак длительности поездки и рассматривать при анализе логарифм в качестве целевого признака:\n",
    "$$trip\\_duration\\_log = log(trip\\_duration+1),$$\n",
    "где под символом log подразумевается натуральный логарифм.\n"
   ]
  },
  {
   "cell_type": "code",
   "execution_count": 442,
   "metadata": {
    "id": "y59BwN3MkBLp"
   },
   "outputs": [],
   "source": [
    "taxi_data['trip_duration_log'] = np.log(taxi_data['trip_duration']+1)"
   ]
  },
  {
   "attachments": {},
   "cell_type": "markdown",
   "metadata": {
    "id": "OoqAWXLLkBLp"
   },
   "source": [
    "### Задание 3.1.\n",
    "Постройте гистограмму и коробчатую диаграмму длительности поездок в логарифмическом масштабе (trip_duration_log). \n",
    "Исходя из визуализации, сделайте предположение, является ли полученное распределение нормальным? \n",
    "Проверьте свою гипотезу с помощью теста Д’Агостино при уровне значимости $\\alpha=0.05$. \n",
    "\n",
    "а) Чему равен вычисленный p-value? Ответ округлите до сотых.\n",
    "\n",
    "б) Является ли распределение длительности поездок в логарифмическом масштабе нормальным?"
   ]
  },
  {
   "cell_type": "code",
   "execution_count": 443,
   "metadata": {
    "_uuid": "4cea6d1f4372850e6c5692d7be7ca1cee3bdb42e",
    "id": "hSPVCtNckBLp",
    "tags": []
   },
   "outputs": [],
   "source": [
    "# ваш код здесь"
   ]
  },
  {
   "attachments": {},
   "cell_type": "markdown",
   "metadata": {
    "id": "teZmcjlIkBLp"
   },
   "source": [
    "### Задание 3.2.\n",
    "Постройте визуализацию, которая позволит сравнить распределение длительности поездки в логарифмическом масштабе (trip_duration_log) в зависимости от таксопарка (vendor_id). \n",
    "\n",
    "Сравните два распределения между собой."
   ]
  },
  {
   "cell_type": "code",
   "execution_count": 444,
   "metadata": {
    "id": "SfyhOuOYkBLp"
   },
   "outputs": [],
   "source": [
    "# ваш код здесь"
   ]
  },
  {
   "attachments": {},
   "cell_type": "markdown",
   "metadata": {
    "id": "Gq7d2zjjkBLp"
   },
   "source": [
    "### Задание 3.3.\n",
    "Постройте визуализацию, которая позволит сравнить распределение длительности поездки в логарифмическом масштабе (trip_duration_log) в зависимости от признака отправки сообщения поставщику (store_and_fwd_flag). \n",
    "\n",
    "Сравните два распределения между собой."
   ]
  },
  {
   "cell_type": "code",
   "execution_count": 445,
   "metadata": {
    "id": "3If4bSdEkBLp"
   },
   "outputs": [],
   "source": [
    "# ваш код здесь"
   ]
  },
  {
   "attachments": {},
   "cell_type": "markdown",
   "metadata": {
    "id": "ThgfBISekBLp"
   },
   "source": [
    "### Задание 3.4.\n",
    "Постройте две визуализации:\n",
    "* Распределение количества поездок в зависимости от часа дня;\n",
    "* Зависимость медианной длительности поездки от часа дня.\n",
    "\n",
    "На основе построенных графиков ответьте на следующие вопросы:\n",
    "\n",
    "а) В какое время суток такси заказывают реже всего?\n",
    "\n",
    "б) В какое время суток наблюдается пик медианной длительности поездок?"
   ]
  },
  {
   "cell_type": "code",
   "execution_count": 446,
   "metadata": {
    "id": "b7tRWY_BkBLq"
   },
   "outputs": [],
   "source": [
    "# ваш код здесь"
   ]
  },
  {
   "attachments": {},
   "cell_type": "markdown",
   "metadata": {
    "id": "GmHyGkbzkBLq"
   },
   "source": [
    "### Задание 3.5.\n",
    "Постройте две визуализации:\n",
    "* Распределение количества поездок в зависимости от дня недели;\n",
    "*  Зависимость медианной длительности поездки от дня недели.\n",
    "\n",
    "На основе построенных графиков ответьте на следующие вопросы:\n",
    "а) В какой день недели совершается больше всего поездок?\n",
    "б) В какой день недели медианная длительность поездок наименьшая?\n"
   ]
  },
  {
   "cell_type": "code",
   "execution_count": 447,
   "metadata": {
    "id": "b0mHfS17kBLq"
   },
   "outputs": [],
   "source": [
    "# ваш код здесь"
   ]
  },
  {
   "attachments": {},
   "cell_type": "markdown",
   "metadata": {
    "id": "KSRSS4tekBLq"
   },
   "source": [
    "### Задание 3.6.\n",
    "Посмотрим на обе временные характеристики одновременно. \n",
    "\n",
    "Постройте сводную таблицу, по строкам которой отложены часы (pickup_hour), по столбцам - дни недели (pickup_day_of_week), а в ячейках - медианная длительность поездки (trip_duration). \n",
    "\n",
    "Визуализируйте полученную сводную таблицу с помощью тепловой карты (рекомендуемая палитра - coolwarm)."
   ]
  },
  {
   "cell_type": "code",
   "execution_count": 448,
   "metadata": {
    "id": "zDUyBJTQkBLq"
   },
   "outputs": [],
   "source": [
    "# ваш код здесь"
   ]
  },
  {
   "attachments": {},
   "cell_type": "markdown",
   "metadata": {
    "id": "E5P2WBT6kBLq",
    "tags": []
   },
   "source": [
    "### Задание 3.7.\n",
    "Постройте две диаграммы рассеяния (scatter-диаграммы):\n",
    "* первая должна иллюстрировать географическое расположение точек начала поездок (pickup_longitude, pickup_latitude) \n",
    "* вторая должна географическое расположение точек завершения поездок (dropoff_longitude, dropoff_latitude).\n",
    "\n",
    "Для этого на диаграммах по оси абсцисс отложите широту (longitude), а по оси ординат - долготу (latitude). \n",
    "Включите в визуализацию только те точки, которые находятся в пределах Нью-Йорка - добавьте следующие ограничения на границы осей абсцисс и ординат:\n",
    " \n",
    "city_long_border = (-74.03, -73.75)\n",
    "\n",
    "city_lat_border = (40.63, 40.85)\n",
    "\n",
    "Добавьте на диаграммы расцветку по десяти географическим кластерам (geo_cluster), которые мы сгенерировали ранее. \n",
    "\n",
    "**Рекомендация:** для наглядности уменьшите размер точек на диаграмме рассеяния.  \n"
   ]
  },
  {
   "cell_type": "code",
   "execution_count": 449,
   "metadata": {
    "id": "T0Wd1q_PkBLq"
   },
   "outputs": [],
   "source": [
    "city_long_border = (-74.03, -73.75)\n",
    "city_lat_border = (40.63, 40.85)\n",
    "\n",
    "# ваш код здесь"
   ]
  },
  {
   "attachments": {},
   "cell_type": "markdown",
   "metadata": {
    "id": "cSKZEkO4kBLq"
   },
   "source": [
    "## 4. Отбор и преобразование признаков"
   ]
  },
  {
   "attachments": {},
   "cell_type": "markdown",
   "metadata": {
    "id": "Erg_Ejz1kBLr"
   },
   "source": [
    "Перед тем как перейти к построению модели, осталось сделать ещё несколько шагов.\n",
    "* Следует помнить, что многие алгоритмы машинного обучения не могут обрабатывать категориальные признаки в их обычном виде. Поэтому нам необходимо их закодировать;\n",
    "* Надо отобрать признаки, которые мы будем использовать для обучения модели;\n",
    "*  Необходимо масштабировать и трансформировать некоторые признаки для того, чтобы улучшить сходимость моделей, в основе которых лежат численные методы.\n"
   ]
  },
  {
   "cell_type": "code",
   "execution_count": 450,
   "metadata": {
    "id": "N7MHv9HKkBLr"
   },
   "outputs": [
    {
     "name": "stdout",
     "output_type": "stream",
     "text": [
      "Shape of data: (1458644, 30)\n",
      "Columns: Index(['key_0', 'id', 'vendor_id', 'pickup_datetime', 'dropoff_datetime',\n",
      "       'passenger_count', 'pickup_longitude', 'pickup_latitude',\n",
      "       'dropoff_longitude', 'dropoff_latitude', 'store_and_fwd_flag',\n",
      "       'trip_duration', 'pickup_date', 'pickup_hour', 'pickup_day_of_week',\n",
      "       'date_x', 'total_distance', 'total_travel_time', 'number_of_steps',\n",
      "       'haversine_distance', 'direction', 'geo_cluster', 'date_y', 'hour',\n",
      "       'temperature', 'visibility', 'wind speed', 'precip', 'events',\n",
      "       'trip_duration_log'],\n",
      "      dtype='object')\n"
     ]
    }
   ],
   "source": [
    "print('Shape of data: {}'.format(taxi_data.shape))\n",
    "print('Columns: {}'.format(taxi_data.columns))"
   ]
  },
  {
   "attachments": {},
   "cell_type": "markdown",
   "metadata": {
    "id": "j6sgAOFqkBLr"
   },
   "source": [
    "Для удобства работы сделаем копию исходной таблицы с поездками:"
   ]
  },
  {
   "cell_type": "code",
   "execution_count": 451,
   "metadata": {
    "id": "7rxobyQFkBLr"
   },
   "outputs": [
    {
     "data": {
      "text/html": [
       "<div>\n",
       "<style scoped>\n",
       "    .dataframe tbody tr th:only-of-type {\n",
       "        vertical-align: middle;\n",
       "    }\n",
       "\n",
       "    .dataframe tbody tr th {\n",
       "        vertical-align: top;\n",
       "    }\n",
       "\n",
       "    .dataframe thead th {\n",
       "        text-align: right;\n",
       "    }\n",
       "</style>\n",
       "<table border=\"1\" class=\"dataframe\">\n",
       "  <thead>\n",
       "    <tr style=\"text-align: right;\">\n",
       "      <th></th>\n",
       "      <th>key_0</th>\n",
       "      <th>id</th>\n",
       "      <th>vendor_id</th>\n",
       "      <th>pickup_datetime</th>\n",
       "      <th>dropoff_datetime</th>\n",
       "      <th>passenger_count</th>\n",
       "      <th>pickup_longitude</th>\n",
       "      <th>pickup_latitude</th>\n",
       "      <th>dropoff_longitude</th>\n",
       "      <th>dropoff_latitude</th>\n",
       "      <th>...</th>\n",
       "      <th>direction</th>\n",
       "      <th>geo_cluster</th>\n",
       "      <th>date_y</th>\n",
       "      <th>hour</th>\n",
       "      <th>temperature</th>\n",
       "      <th>visibility</th>\n",
       "      <th>wind speed</th>\n",
       "      <th>precip</th>\n",
       "      <th>events</th>\n",
       "      <th>trip_duration_log</th>\n",
       "    </tr>\n",
       "  </thead>\n",
       "  <tbody>\n",
       "    <tr>\n",
       "      <th>0</th>\n",
       "      <td>2016-03-14</td>\n",
       "      <td>id2875421</td>\n",
       "      <td>2</td>\n",
       "      <td>2016-03-14 17:24:55</td>\n",
       "      <td>2016-03-14 17:32:30</td>\n",
       "      <td>1</td>\n",
       "      <td>-73.982155</td>\n",
       "      <td>40.767937</td>\n",
       "      <td>-73.964630</td>\n",
       "      <td>40.765602</td>\n",
       "      <td>...</td>\n",
       "      <td>99.970196</td>\n",
       "      <td>6</td>\n",
       "      <td>2016-03-14</td>\n",
       "      <td>17.0</td>\n",
       "      <td>4.4</td>\n",
       "      <td>8.0</td>\n",
       "      <td>27.8</td>\n",
       "      <td>0.3</td>\n",
       "      <td>NaN</td>\n",
       "      <td>6.122493</td>\n",
       "    </tr>\n",
       "    <tr>\n",
       "      <th>1</th>\n",
       "      <td>2016-06-12</td>\n",
       "      <td>id2377394</td>\n",
       "      <td>1</td>\n",
       "      <td>2016-06-12 00:43:35</td>\n",
       "      <td>2016-06-12 00:54:38</td>\n",
       "      <td>1</td>\n",
       "      <td>-73.980415</td>\n",
       "      <td>40.738564</td>\n",
       "      <td>-73.999481</td>\n",
       "      <td>40.731152</td>\n",
       "      <td>...</td>\n",
       "      <td>-117.153768</td>\n",
       "      <td>9</td>\n",
       "      <td>2016-06-12</td>\n",
       "      <td>0.0</td>\n",
       "      <td>28.9</td>\n",
       "      <td>16.1</td>\n",
       "      <td>7.4</td>\n",
       "      <td>0.0</td>\n",
       "      <td>NaN</td>\n",
       "      <td>6.498282</td>\n",
       "    </tr>\n",
       "    <tr>\n",
       "      <th>2</th>\n",
       "      <td>2016-01-19</td>\n",
       "      <td>id3858529</td>\n",
       "      <td>2</td>\n",
       "      <td>2016-01-19 11:35:24</td>\n",
       "      <td>2016-01-19 12:10:48</td>\n",
       "      <td>1</td>\n",
       "      <td>-73.979027</td>\n",
       "      <td>40.763939</td>\n",
       "      <td>-74.005333</td>\n",
       "      <td>40.710087</td>\n",
       "      <td>...</td>\n",
       "      <td>-159.680165</td>\n",
       "      <td>9</td>\n",
       "      <td>2016-01-19</td>\n",
       "      <td>11.0</td>\n",
       "      <td>-6.7</td>\n",
       "      <td>16.1</td>\n",
       "      <td>24.1</td>\n",
       "      <td>0.0</td>\n",
       "      <td>NaN</td>\n",
       "      <td>7.661527</td>\n",
       "    </tr>\n",
       "    <tr>\n",
       "      <th>3</th>\n",
       "      <td>2016-04-06</td>\n",
       "      <td>id3504673</td>\n",
       "      <td>2</td>\n",
       "      <td>2016-04-06 19:32:31</td>\n",
       "      <td>2016-04-06 19:39:40</td>\n",
       "      <td>1</td>\n",
       "      <td>-74.010040</td>\n",
       "      <td>40.719971</td>\n",
       "      <td>-74.012268</td>\n",
       "      <td>40.706718</td>\n",
       "      <td>...</td>\n",
       "      <td>-172.737700</td>\n",
       "      <td>9</td>\n",
       "      <td>2016-04-06</td>\n",
       "      <td>19.0</td>\n",
       "      <td>7.2</td>\n",
       "      <td>16.1</td>\n",
       "      <td>25.9</td>\n",
       "      <td>0.0</td>\n",
       "      <td>NaN</td>\n",
       "      <td>6.063785</td>\n",
       "    </tr>\n",
       "    <tr>\n",
       "      <th>4</th>\n",
       "      <td>2016-03-26</td>\n",
       "      <td>id2181028</td>\n",
       "      <td>2</td>\n",
       "      <td>2016-03-26 13:30:55</td>\n",
       "      <td>2016-03-26 13:38:10</td>\n",
       "      <td>1</td>\n",
       "      <td>-73.973053</td>\n",
       "      <td>40.793209</td>\n",
       "      <td>-73.972923</td>\n",
       "      <td>40.782520</td>\n",
       "      <td>...</td>\n",
       "      <td>179.473585</td>\n",
       "      <td>6</td>\n",
       "      <td>2016-03-26</td>\n",
       "      <td>13.0</td>\n",
       "      <td>9.4</td>\n",
       "      <td>16.1</td>\n",
       "      <td>9.3</td>\n",
       "      <td>0.0</td>\n",
       "      <td>NaN</td>\n",
       "      <td>6.077642</td>\n",
       "    </tr>\n",
       "  </tbody>\n",
       "</table>\n",
       "<p>5 rows × 30 columns</p>\n",
       "</div>"
      ],
      "text/plain": [
       "       key_0         id  vendor_id     pickup_datetime     dropoff_datetime  \\\n",
       "0 2016-03-14  id2875421          2 2016-03-14 17:24:55  2016-03-14 17:32:30   \n",
       "1 2016-06-12  id2377394          1 2016-06-12 00:43:35  2016-06-12 00:54:38   \n",
       "2 2016-01-19  id3858529          2 2016-01-19 11:35:24  2016-01-19 12:10:48   \n",
       "3 2016-04-06  id3504673          2 2016-04-06 19:32:31  2016-04-06 19:39:40   \n",
       "4 2016-03-26  id2181028          2 2016-03-26 13:30:55  2016-03-26 13:38:10   \n",
       "\n",
       "   passenger_count  pickup_longitude  pickup_latitude  dropoff_longitude  \\\n",
       "0                1        -73.982155        40.767937         -73.964630   \n",
       "1                1        -73.980415        40.738564         -73.999481   \n",
       "2                1        -73.979027        40.763939         -74.005333   \n",
       "3                1        -74.010040        40.719971         -74.012268   \n",
       "4                1        -73.973053        40.793209         -73.972923   \n",
       "\n",
       "   dropoff_latitude  ...   direction  geo_cluster     date_y  hour  \\\n",
       "0         40.765602  ...   99.970196            6 2016-03-14  17.0   \n",
       "1         40.731152  ... -117.153768            9 2016-06-12   0.0   \n",
       "2         40.710087  ... -159.680165            9 2016-01-19  11.0   \n",
       "3         40.706718  ... -172.737700            9 2016-04-06  19.0   \n",
       "4         40.782520  ...  179.473585            6 2016-03-26  13.0   \n",
       "\n",
       "   temperature  visibility  wind speed  precip  events  trip_duration_log  \n",
       "0          4.4         8.0        27.8     0.3     NaN           6.122493  \n",
       "1         28.9        16.1         7.4     0.0     NaN           6.498282  \n",
       "2         -6.7        16.1        24.1     0.0     NaN           7.661527  \n",
       "3          7.2        16.1        25.9     0.0     NaN           6.063785  \n",
       "4          9.4        16.1         9.3     0.0     NaN           6.077642  \n",
       "\n",
       "[5 rows x 30 columns]"
      ]
     },
     "execution_count": 451,
     "metadata": {},
     "output_type": "execute_result"
    }
   ],
   "source": [
    "train_data = taxi_data.copy()\n",
    "train_data.head()"
   ]
  },
  {
   "attachments": {},
   "cell_type": "markdown",
   "metadata": {
    "id": "U7i7DFBdkBLr"
   },
   "source": [
    "### Задание 4.1.\n",
    "Сразу позаботимся об очевидных неинформативных и избыточных признаках. \n",
    "\n",
    "а) Какой из признаков является уникальным для каждой поездки и не несет полезной информации в определении ее продолжительности?\n",
    "\n",
    "б) Утечка данных (data leak) - это…\n",
    "\n",
    "в) Подумайте, наличие какого из признаков в обучающем наборе данных создает утечку данных?\n",
    "\n",
    "г) Исключите выбранные в пунктах а) и в) признаки из исходной таблицы с данными. Сколько столбцов в таблице у вас осталось?\n"
   ]
  },
  {
   "cell_type": "code",
   "execution_count": 452,
   "metadata": {
    "id": "-hg53Bv1kBLr"
   },
   "outputs": [],
   "source": [
    "# ваш код здесь"
   ]
  },
  {
   "attachments": {},
   "cell_type": "markdown",
   "metadata": {
    "id": "NHyYd7XzkBLr"
   },
   "source": [
    "Ранее мы извлекли всю необходимую для нас информацию из даты начала поездки, теперь мы можем избавиться от этих признаков, так как они нам больше не понадобятся:\n"
   ]
  },
  {
   "cell_type": "code",
   "execution_count": 453,
   "metadata": {
    "id": "nzO9ioMHkBLs"
   },
   "outputs": [
    {
     "name": "stdout",
     "output_type": "stream",
     "text": [
      "Shape of data:  (1458644, 28)\n"
     ]
    }
   ],
   "source": [
    "drop_columns = ['pickup_datetime', 'pickup_date']\n",
    "train_data = train_data.drop(drop_columns, axis=1)\n",
    "print('Shape of data:  {}'.format(train_data.shape))"
   ]
  },
  {
   "attachments": {},
   "cell_type": "markdown",
   "metadata": {
    "id": "cXHbkc3ykBLs"
   },
   "source": [
    "### Задание 4.2.\n",
    "\n",
    "Закодируйте признак vendor_id в таблице train_data таким образом, чтобы он был равен 0, если идентификатор таксопарка равен 1, и 1 — в противном случае.\n",
    "\n",
    "Закодируйте признак store_and_fwd_flag в таблице train_data таким образом, чтобы он был равен 0, если флаг выставлен в значение 'N', и 1 — в противном случае.\n",
    "\n",
    "а) Рассчитайте среднее по закодированному столбцу vendor_id. Ответ приведите с точностью до сотых.\n",
    "\n",
    "б) Рассчитайте среднее по закодированному столбцу store_and_fwd_flag. Ответ приведите с точностью до тысячных.\n",
    "\n"
   ]
  },
  {
   "cell_type": "code",
   "execution_count": 454,
   "metadata": {
    "id": "_O1jJaZtkBLs"
   },
   "outputs": [],
   "source": [
    "# ваш код здесь"
   ]
  },
  {
   "attachments": {},
   "cell_type": "markdown",
   "metadata": {
    "id": "XMUmtLu1kBLs"
   },
   "source": [
    "### Задание 4.3.\n",
    "Создайте таблицу data_onehot из закодированных однократным кодированием признаков pickup_day_of_week, geo_cluster и events в таблице train_data с помощью OneHotEncoder из библиотеки sklearn. Параметр drop выставите в значение 'first', чтобы удалять первый бинарный столбец, тем самым не создавая излишних признаков.\n",
    "\n",
    "В параметре handle_unknown установите значение 'ignore'. Это позволит коду отработать без ошибок в случае появления в тестовой выборке значений, отсутствующих в обучающей выборке.\n",
    "\n",
    "В результате работы OneHotEncoder вы получите безымянный numpy-массив, который нам будет необходимо преобразовать обратно в DataFrame, для более удобной работы в дальнейшем. Чтобы получить имена закодированных столбцов у объекта типа OneHotEncoder есть специальный метод get_feature_names_out(). Он возвращает список новых закодированных имен столбцов в формате <оригинальное имя столбца>_<имя категории>.\n",
    "\n",
    "Пример использования:\n",
    "\n",
    "``` python\n",
    "# Объявляем кодировщик\n",
    "one_hot_encoder = OneHotEncoder(drop='first', handle_unknown='ignore')\n",
    "# Получаем закодированные имена столбцов\n",
    "column_names = one_hot_encoder.get_feature_names_out()\n",
    "# Составляем DataFrame из закодированных признаков\n",
    "data_onehot = pd.DataFrame(data_onehot, columns=column_names)\n",
    "```\n",
    "\n",
    "В этом псевдокоде:\n",
    "* one_hot_encoder - объект класса OneHotEncoder\n",
    "* data_onehot - numpy-массив, полученный в результате трансформации кодировщиком\n",
    "\n",
    "В результате выполнения задания у вас должен быть образован DataFrame `data_onehot`, который содержит кодированные категориальные признаки pickup_day_of_week, geo_cluster и events. \n",
    "\n",
    "\n",
    "Сколько бинарных столбцов у вас получилось сгенерировать с помощью однократного кодирования?\n"
   ]
  },
  {
   "cell_type": "code",
   "execution_count": 455,
   "metadata": {
    "id": "BonLFJbhkBLs"
   },
   "outputs": [],
   "source": [
    "# ваш код здесь"
   ]
  },
  {
   "attachments": {},
   "cell_type": "markdown",
   "metadata": {
    "id": "AsGsYqHRkBLs"
   },
   "source": [
    "Добавим полученную таблицу с закодированными признаками:"
   ]
  },
  {
   "cell_type": "code",
   "execution_count": 456,
   "metadata": {
    "id": "blXeWiS0kBLs"
   },
   "outputs": [
    {
     "ename": "NameError",
     "evalue": "name 'columns_to_change' is not defined",
     "output_type": "error",
     "traceback": [
      "\u001b[1;31m---------------------------------------------------------------------------\u001b[0m",
      "\u001b[1;31mNameError\u001b[0m                                 Traceback (most recent call last)",
      "Cell \u001b[1;32mIn[456], line 2\u001b[0m\n\u001b[0;32m      1\u001b[0m train_data \u001b[38;5;241m=\u001b[39m pd\u001b[38;5;241m.\u001b[39mconcat(\n\u001b[1;32m----> 2\u001b[0m     [train_data\u001b[38;5;241m.\u001b[39mreset_index(drop\u001b[38;5;241m=\u001b[39m\u001b[38;5;28;01mTrue\u001b[39;00m)\u001b[38;5;241m.\u001b[39mdrop(\u001b[43mcolumns_to_change\u001b[49m, axis\u001b[38;5;241m=\u001b[39m\u001b[38;5;241m1\u001b[39m), data_onehot], \n\u001b[0;32m      3\u001b[0m     axis\u001b[38;5;241m=\u001b[39m\u001b[38;5;241m1\u001b[39m\n\u001b[0;32m      4\u001b[0m )\n\u001b[0;32m      5\u001b[0m \u001b[38;5;28mprint\u001b[39m(\u001b[38;5;124m'\u001b[39m\u001b[38;5;124mShape of data: \u001b[39m\u001b[38;5;132;01m{}\u001b[39;00m\u001b[38;5;124m'\u001b[39m\u001b[38;5;241m.\u001b[39mformat(train_data\u001b[38;5;241m.\u001b[39mshape))\n",
      "\u001b[1;31mNameError\u001b[0m: name 'columns_to_change' is not defined"
     ]
    }
   ],
   "source": [
    "train_data = pd.concat(\n",
    "    [train_data.reset_index(drop=True).drop(columns_to_change, axis=1), data_onehot], \n",
    "    axis=1\n",
    ")\n",
    "print('Shape of data: {}'.format(train_data.shape))"
   ]
  },
  {
   "attachments": {},
   "cell_type": "markdown",
   "metadata": {
    "id": "XQhXAud5kBLt"
   },
   "source": [
    "Теперь, когда категориальные признаки предобработаны, сформируем матрицу наблюдений X, вектор целевой переменной y и его логарифм y_log. В матрицу наблюдений войдут все столбцы из таблицы с поездками за исключением целевого признака trip_duration и его логарифмированной версии trip_duration_log:\n"
   ]
  },
  {
   "cell_type": "code",
   "execution_count": null,
   "metadata": {
    "id": "Vz6YfcALkBLt"
   },
   "outputs": [],
   "source": [
    "X = train_data.drop(['trip_duration', 'trip_duration_log'], axis=1)\n",
    "y = train_data['trip_duration']\n",
    "y_log = train_data['trip_duration_log']"
   ]
  },
  {
   "attachments": {},
   "cell_type": "markdown",
   "metadata": {
    "id": "orPjdejMkBLt"
   },
   "source": [
    "Все наши модели мы будем обучать на логарифмированной версии y_log. "
   ]
  },
  {
   "attachments": {},
   "cell_type": "markdown",
   "metadata": {
    "id": "L8CzG9CnkBLt"
   },
   "source": [
    "Выбранный тип валидации - hold-out. Разобьем выборку на обучающую и валидационную в соотношении 67/33:"
   ]
  },
  {
   "cell_type": "code",
   "execution_count": null,
   "metadata": {
    "id": "hPEJ89ZdkBLt"
   },
   "outputs": [],
   "source": [
    "X_train, X_valid, y_train_log, y_valid_log = model_selection.train_test_split(\n",
    "    X, y_log, \n",
    "    test_size=0.33, \n",
    "    random_state=42\n",
    ")"
   ]
  },
  {
   "attachments": {},
   "cell_type": "markdown",
   "metadata": {
    "id": "yL9ZPlW3kBLt"
   },
   "source": [
    "На данный момент у нас достаточно много признаков: скорее всего, не все из них будут важны. Давайте оставим лишь те, которые сильнее всего связаны с целевой переменной и точно будут вносить вклад в повышение качества модели.\n"
   ]
  },
  {
   "attachments": {},
   "cell_type": "markdown",
   "metadata": {
    "id": "AaqdJUp-kBLt"
   },
   "source": [
    "### Задание 4.4.\n",
    "С помощью SelectKBest отберите 25 признаков, наилучшим образом подходящих для предсказания целевой переменной в логарифмическом масштабе. Отбор реализуйте по обучающей выборке, используя параметр score_func = f_regression.\n",
    "\n",
    "Укажите признаки, которые вошли в список отобранных\n"
   ]
  },
  {
   "cell_type": "code",
   "execution_count": null,
   "metadata": {
    "id": "TEeqoG20kBLt"
   },
   "outputs": [],
   "source": [
    "# ваш код здесь"
   ]
  },
  {
   "attachments": {},
   "cell_type": "markdown",
   "metadata": {
    "id": "JLOJ_kdlkBLt"
   },
   "source": [
    "Так как мы будем использовать различные модели, в том числе внутри которых заложены численные методы оптимизации, то давайте заранее позаботимся о масштабировании факторов. \n"
   ]
  },
  {
   "attachments": {},
   "cell_type": "markdown",
   "metadata": {
    "id": "9WfHLiGKkBLu"
   },
   "source": [
    "### Задание 4.5.\n",
    "Нормализуйте предикторы в обучающей и валидационной выборках с помощью MinMaxScaler из библиотеки sklearn. Помните, что обучение нормализатора производится на обучающей выборке, а трансформация на обучающей и валидационной!\n",
    "\n",
    "Рассчитайте среднее арифметическое для первого предиктора (т. е. для первого столбца матрицы) из валидационной выборки. Ответ округлите до сотых.\n"
   ]
  },
  {
   "cell_type": "code",
   "execution_count": null,
   "metadata": {
    "id": "WSslyUgwkBLu"
   },
   "outputs": [],
   "source": [
    "# ваш код здесь"
   ]
  },
  {
   "attachments": {},
   "cell_type": "markdown",
   "metadata": {
    "id": "gaEMuA6skBLu"
   },
   "source": [
    "## 5. Решение задачи регрессии: линейная регрессия и деревья решений"
   ]
  },
  {
   "attachments": {},
   "cell_type": "markdown",
   "metadata": {
    "id": "y-pS_2XykBLu"
   },
   "source": [
    "Определим метрику, по которой мы будем измерять качество наших моделей. Мы будем следовать канонам исходного соревнования на Kaggle и в качестве метрики использовать RMSLE (Root Mean Squared Log Error), которая вычисляется как:\n",
    "$$RMSLE = \\sqrt{\\frac{1}{n}\\sum_{i=1}^n(log(y_i+1)-log(\\hat{y_i}+1))^2},$$\n",
    "где:\n",
    "* $y_i$ - истинная длительность i-ой поездки на такси (trip_duration)\n",
    "* $\\hat{y_i}$- предсказанная моделью длительность i-ой поездки на такси\n",
    "\n",
    "Заметим, что логарифмирование целевого признака мы уже провели заранее, поэтому нам будет достаточно вычислить метрику RMSE для модели, обученной прогнозировать длительность поездки такси в логарифмическом масштабе:\n",
    "$$z_i=log(y_i+1),$$\n",
    "$$RMSLE = \\sqrt{\\frac{1}{n}\\sum_{i=1}^n(z_i-\\hat{z_i})^2}=\\sqrt{MSE(z_i,\\hat{z_i})}$$ \n",
    "\n"
   ]
  },
  {
   "attachments": {},
   "cell_type": "markdown",
   "metadata": {
    "id": "6Qd3xY1-kBLu"
   },
   "source": [
    "### Задание 5.1.\n",
    "Постройте модель линейной регрессии на обучающей выборке (факторы должны быть нормализованы, целевую переменную используйте в логарифмическом масштабе). Все параметры оставьте по умолчанию.\n",
    "\n",
    "Для полученной модели рассчитайте метрику RMSLE на тренировочной и валидационной выборках. Ответ округлите до сотых.\n"
   ]
  },
  {
   "cell_type": "code",
   "execution_count": null,
   "metadata": {
    "id": "R1IB1yK5kBLu"
   },
   "outputs": [],
   "source": [
    "# ваш код здесь"
   ]
  },
  {
   "attachments": {},
   "cell_type": "markdown",
   "metadata": {
    "id": "QSN6i928kBLu"
   },
   "source": [
    "### Задание 5.2.\n",
    "Сгенерируйте полиномиальные признаки 2-ой степени с помощью PolynomialFeatures из библиотеки sklearn. Параметр include_bias выставите в значение False.\n",
    "\n",
    "Постройте модель полиномиальной регрессии 2-ой степени на обучающей выборке (факторы должны быть нормализованы, целевую переменную используйте в логарифмическом масштабе). Все параметры оставьте по умолчанию.\n",
    "\n",
    "а) Для полученной модели рассчитайте метрику RMSLE на тренировочной и валидационной выборках. Ответ округлите до сотых.\n",
    "\n",
    "б) Наблюдаются ли у вашей модели признаки переобучения?\n"
   ]
  },
  {
   "cell_type": "code",
   "execution_count": null,
   "metadata": {
    "id": "gIIWA_arkBLu"
   },
   "outputs": [],
   "source": [
    "# ваш код здесь"
   ]
  },
  {
   "attachments": {},
   "cell_type": "markdown",
   "metadata": {
    "id": "7ChD_MF6kBLv"
   },
   "source": [
    "### Задание 5.3.\n",
    "Постройте модель полиномиальной регрессии 2-ой степени с L2-регуляризацией (регуляризация по Тихонову) на обучающей выборке  (факторы должны быть нормализованы, целевую переменную используйте в логарифмическом масштабе). Коэффициент регуляризации $\\alpha$ установите равным 1, остальные параметры оставьте по умолчанию.\n",
    "\n",
    "Для полученной модели рассчитайте метрику RMSLE на тренировочной и валидационной выборках. Ответ округлите до сотых.\n"
   ]
  },
  {
   "cell_type": "code",
   "execution_count": null,
   "metadata": {
    "id": "pwcMCt3XkBLv"
   },
   "outputs": [],
   "source": [
    "# ваш код здесь"
   ]
  },
  {
   "attachments": {},
   "cell_type": "markdown",
   "metadata": {
    "id": "aU5EJsIqkBLv"
   },
   "source": [
    "### Задание 5.4.\n",
    "Постройте модель дерева решений (DecisionTreeRegressor) на обучающей выборке (факторы должны быть нормализованы, целевую переменную используйте в логарифмическом масштабе). Все параметры оставьте по умолчанию. \n",
    "\n",
    "а) Для полученной модели рассчитайте метрику RMSLE на тренировочной и валидационной выборках. Ответ округлите до сотых.\n",
    "\n",
    "б) Наблюдаются ли у вашей модели признаки переобучения?\n"
   ]
  },
  {
   "cell_type": "code",
   "execution_count": null,
   "metadata": {
    "id": "SY1G4YcrkBLv"
   },
   "outputs": [],
   "source": [
    "# ваш код здесь"
   ]
  },
  {
   "attachments": {},
   "cell_type": "markdown",
   "metadata": {
    "id": "1YJIlj4ykBLv"
   },
   "source": [
    "### Задание 5.5.\n",
    "Переберите все возможные варианты глубины дерева решений в диапазоне от 7 до 20:\n",
    "\n",
    "max_depths = range(7, 20)\n",
    "\n",
    "Параметр random_state задайте равным 42.\n",
    "\n",
    "Постройте линейные графики изменения метрики RMSE на тренировочной и валидационной выборках в зависимости от значения параметра глубины дерева решений. \n",
    "\n",
    "а) Найдите оптимальное значение максимальной глубины дерева, для которой будет наблюдаться минимальное значение RMSLE на обучающей выборке, но при этом еще не будет наблюдаться переобучение (валидационная кривая еще не начинает возрастать).\n",
    "\n",
    "б) Чему равно значение метрик RMSLE на тренировочной и валидационной выборках для дерева решений с выбранной оптимальной глубиной? Ответ округлите до сотых.\n"
   ]
  },
  {
   "cell_type": "code",
   "execution_count": null,
   "metadata": {
    "id": "_MbTVYsWkBLv"
   },
   "outputs": [],
   "source": [
    "# ваш код здесь"
   ]
  },
  {
   "attachments": {},
   "cell_type": "markdown",
   "metadata": {
    "id": "zUXrz7YDkBLv"
   },
   "source": [
    "## 6. Решение задачи регрессии: ансамблевые методы и построение прогноза"
   ]
  },
  {
   "attachments": {},
   "cell_type": "markdown",
   "metadata": {
    "id": "297rnbaikBLv"
   },
   "source": [
    "Переходим к тяжелой артиллерии: ансамблевым алгоритмам. "
   ]
  },
  {
   "attachments": {},
   "cell_type": "markdown",
   "metadata": {
    "id": "ZIAGlVjqkBLw"
   },
   "source": [
    "### Задание 6.1.\n",
    "\n",
    "Постройте модель случайного леса на обучающей выборке (факторы должны быть нормализованы, целевую переменную используйте в логарифмическом масштабе). В качестве гиперпараметров укажите следующие:\n",
    "* n_estimators=200,\n",
    "* max_depth=12,\n",
    "* criterion='squared_error',\n",
    "* min_samples_split=20,\n",
    "* random_state=42\n",
    "\n",
    "Для полученной модели рассчитайте метрику RMSLE на тренировочной и валидационной выборках. Ответ округлите до сотых.\n"
   ]
  },
  {
   "cell_type": "code",
   "execution_count": null,
   "metadata": {
    "id": "QQQdFHWfkBLw"
   },
   "outputs": [],
   "source": [
    "# ваш код здесь"
   ]
  },
  {
   "attachments": {},
   "cell_type": "markdown",
   "metadata": {
    "id": "JZz_qWKDkBLw"
   },
   "source": [
    "### Задание 6.2.\n",
    "Постройте модель градиентного бустинга над деревьями решений (GradientBoostingRegressor) на обучающей выборке (факторы должны быть нормализованы, целевую переменную используйте в логарифмическом масштабе). В качестве гиперпараметров укажите следующие:\n",
    "* learning_rate=0.5,\n",
    "* n_estimators=100,\n",
    "* max_depth=6, \n",
    "* min_samples_split=30,\n",
    "* random_state=42\n",
    "\n",
    "Для полученной модели рассчитайте метрику RMSLE на тренировочной и валидационной выборках. Ответ округлите до сотых.\n"
   ]
  },
  {
   "cell_type": "code",
   "execution_count": null,
   "metadata": {
    "id": "KnnmuhoSkBLw"
   },
   "outputs": [],
   "source": [
    "# ваш код здесь"
   ]
  },
  {
   "attachments": {},
   "cell_type": "markdown",
   "metadata": {
    "id": "zC3NKXLhkBLw"
   },
   "source": [
    "### Задание 6.3.\n",
    "Какая из построенных вами моделей показала наилучший результат (наименьшее значение RMSLE на валидационной выборке)?\n",
    "* Линейная регрессия\n",
    "* Полиномиальная регрессия 2ой степени\n",
    "* Дерево решений\n",
    "* Случайный лес\n",
    "* Градиентный бустинг над деревьями решений\n"
   ]
  },
  {
   "attachments": {},
   "cell_type": "markdown",
   "metadata": {
    "id": "eaBYTxnkkBLx"
   },
   "source": [
    "### Задание 6.4.\n",
    "Постройте столбчатую диаграмму коэффициентов значимости каждого из факторов.\n",
    "\n",
    "Укажите топ-3 наиболее значимых для предсказания целевого признака - длительности поездки в логарифмическом масштабе - факторов.\n"
   ]
  },
  {
   "cell_type": "code",
   "execution_count": null,
   "metadata": {
    "id": "KmYOePR8kBLx"
   },
   "outputs": [],
   "source": [
    "# ваш код здесь"
   ]
  },
  {
   "attachments": {},
   "cell_type": "markdown",
   "metadata": {
    "id": "TQ4NzZaTkBLx"
   },
   "source": [
    "### Задание 6.5.\n",
    "Для лучшей из построенных моделей рассчитайте медианную абсолютную ошибку (MeAE - в sklearn функция median_absolute_error) предсказания длительности поездки такси на валидационной выборке:\n",
    "$$ MeAE = median(|y_i-\\hat{y_i}|)$$\n",
    "\n",
    "Значение метрики MeAE переведите в минуты и округлите до десятых.\n"
   ]
  },
  {
   "cell_type": "code",
   "execution_count": null,
   "metadata": {
    "id": "mOYteyJ-kBLx"
   },
   "outputs": [],
   "source": [
    "# ваш код здесь"
   ]
  },
  {
   "attachments": {},
   "cell_type": "markdown",
   "metadata": {
    "id": "NZzsSUFfkBLx"
   },
   "source": [
    "Финальный шаг - сделать submit -  предсказание для отложенного тестового набора данных. "
   ]
  },
  {
   "attachments": {},
   "cell_type": "markdown",
   "metadata": {
    "id": "J12UJrZOkBLx"
   },
   "source": [
    "Прочитаем тестовые данные и заранее выделим столбец с идентификаторами поездок из тестового набора данных. Он нам еще пригодится:\n"
   ]
  },
  {
   "cell_type": "code",
   "execution_count": null,
   "metadata": {
    "id": "5KAzvZidkBLx"
   },
   "outputs": [],
   "source": [
    "test_data = pd.read_csv(\"data/test.csv\")\n",
    "osrm_data_test = pd.read_csv(\"data/osrm_data_test.csv\")\n",
    "test_id = test_data['id']"
   ]
  },
  {
   "attachments": {},
   "cell_type": "markdown",
   "metadata": {
    "id": "sdrR42JrkBLy"
   },
   "source": [
    "Перед созданием прогноза для тестовой выборки необходимо произвести все манипуляции с данными, которые мы производили с тренировочной выборкой, а именно:\n",
    "* Перевести признак pickup_datetime в формат datetime;\n",
    "* Добавить новые признаки (временные, географические, погодные и другие факторы);\n",
    "* Произвести очистку данных от пропусков;\n",
    "* Произвести кодировку категориальных признаков:\n",
    "    * Закодировать бинарные признаки;\n",
    "    * Закодировать номинальные признаки с помощью обученного на тренировочной выборке OneHotEncoder’а;\n",
    "* Сформировать матрицу наблюдений, оставив в таблице только те признаки, которые были отобраны с помощью SelectKBest;\n",
    "* Нормализовать данные с помощью обученного на тренировочной выборке MinMaxScaler’а.\n"
   ]
  },
  {
   "cell_type": "code",
   "execution_count": null,
   "metadata": {
    "id": "nqWQbqhGkBLy"
   },
   "outputs": [],
   "source": [
    "test_data['pickup_datetime']=pd.to_datetime(test_data['pickup_datetime'],format='%Y-%m-%d %H:%M:%S')\n",
    "test_data = add_datetime_features(test_data)\n",
    "test_data = add_holiday_features(test_data, holiday_data)\n",
    "test_data = add_osrm_features(test_data, osrm_data_test)\n",
    "test_data = add_geographical_features(test_data)\n",
    "test_data = add_cluster_features(test_data, kmeans)\n",
    "test_data = add_weather_features(test_data, weather_data)\n",
    "test_data = fill_null_weather_data(test_data)\n",
    "\n",
    "test_data['vendor_id'] = test_data['vendor_id'].apply(lambda x: 0 if x == 1 else 1)\n",
    "test_data['store_and_fwd_flag'] = test_data['store_and_fwd_flag'].apply(lambda x: 0 if x == 'N' else 1)\n",
    "test_data_onehot = one_hot_encoder.fit_transform(test_data[columns_to_change]).toarray()\n",
    "column_names = one_hot_encoder.get_feature_names_out(columns_to_change)\n",
    "test_data_onehot = pd.DataFrame(test_data_onehot, columns=column_names)\n",
    "\n",
    "test_data = pd.concat(\n",
    "    [test_data.reset_index(drop=True).drop(columns_to_change, axis=1), test_data_onehot], \n",
    "    axis=1\n",
    ")\n",
    "X_test = test_data[best_features]\n",
    "X_test_scaled = scaler.transform(X_test)\n",
    "print('Shape of data: {}'.format(X_test.shape))"
   ]
  },
  {
   "attachments": {},
   "cell_type": "markdown",
   "metadata": {
    "id": "24JJ64T4kBLy"
   },
   "source": [
    "Только после выполнения всех этих шагов можно сделать предсказание длительности поездки для тестовой выборки. Не забудьте перевести предсказания из логарифмического масштаба в истинный, используя формулу:\n",
    "$$y_i=exp(z_i)-1$$\n",
    "\n",
    "После того, как вы сформируете предсказание длительности поездок на тестовой выборке вам необходимо будет создать submission-файл в формате csv, отправить его на платформу Kaggle и посмотреть на результирующее значение метрики RMSLE на тестовой выборке.\n",
    "\n",
    "Код для создания submission-файла:\n"
   ]
  },
  {
   "cell_type": "code",
   "execution_count": null,
   "metadata": {
    "id": "JeMAzrHHkBLy"
   },
   "outputs": [],
   "source": [
    "# ваш код здесь\n",
    "submission = pd.DataFrame({'id': test_id, 'trip_duration': y_test_predict})\n",
    "submission.to_csv('data/submission_gb.csv', index=False)"
   ]
  },
  {
   "attachments": {},
   "cell_type": "markdown",
   "metadata": {
    "id": "iU5BA_XDkBLy"
   },
   "source": [
    "### **В качестве бонуса**\n",
    "\n",
    "В завершение по ансамблевым мы предлагаем вам попробовать улучшить свое предсказание, воспользовавшись моделью экстремального градиентного бустинга (XGBoost) из библиотеки xgboost.\n",
    "\n",
    "**XGBoost** - современная модель машинного обучения, которая является продолжением идеи градиентного бустинга Фридмана. У нее есть несколько преимуществ по сравнению с классической моделью градиентного бустинга из библиотеки sklearn: повышенная производительность путем параллелизации процесса обучения, повышенное качество решения за счет усовершенствования алгоритма бустинга, меньшая склонность к переобучению и широкий функционал возможности управления параметрами модели.\n"
   ]
  },
  {
   "attachments": {},
   "cell_type": "markdown",
   "metadata": {
    "id": "_FARWLbakBLy"
   },
   "source": [
    "Для ее использования необходимо для начала установить пакет xgboost:"
   ]
  },
  {
   "cell_type": "code",
   "execution_count": null,
   "metadata": {
    "id": "h8KXUhyGkBLy"
   },
   "outputs": [],
   "source": [
    "#!pip install xgboost"
   ]
  },
  {
   "attachments": {},
   "cell_type": "markdown",
   "metadata": {
    "id": "urka0597kBLz"
   },
   "source": [
    "После чего модуль можно импортировать:"
   ]
  },
  {
   "cell_type": "code",
   "execution_count": null,
   "metadata": {
    "id": "kpLIalxfkBLz"
   },
   "outputs": [],
   "source": [
    "import xgboost as xgb"
   ]
  },
  {
   "attachments": {},
   "cell_type": "markdown",
   "metadata": {
    "id": "CwJ80NU7kBLz"
   },
   "source": [
    "Перед обучением модели необходимо перевести наборы данных в тип данных xgboost.DMatrix:"
   ]
  },
  {
   "cell_type": "code",
   "execution_count": null,
   "metadata": {
    "id": "ehrdmZJekBLz"
   },
   "outputs": [],
   "source": [
    "# Создание матриц наблюдений в формате DMatrix\n",
    "dtrain = xgb.DMatrix(X_train_scaled, label=y_train_log, feature_names=best_features)\n",
    "dvalid = xgb.DMatrix(X_valid_scaled, label=y_valid_log, feature_names=best_features)\n",
    "dtest = xgb.DMatrix(X_test_scaled, feature_names=best_features)"
   ]
  },
  {
   "attachments": {},
   "cell_type": "markdown",
   "metadata": {
    "id": "kW0LAucxkBLz"
   },
   "source": [
    "Обучение модели XGBoost происходит с помощью метода train, в который необходимо передать параметры модели, набор данных, количество базовых моделей в ансамбле, а также дополнительные параметры:\n"
   ]
  },
  {
   "cell_type": "code",
   "execution_count": null,
   "metadata": {
    "id": "u0uDs1YakBLz"
   },
   "outputs": [],
   "source": [
    "# Гиперпараметры модели\n",
    "xgb_pars = {'min_child_weight': 20, 'eta': 0.1, 'colsample_bytree': 0.9, \n",
    "            'max_depth': 6, 'subsample': 0.9, 'lambda': 1, 'nthread': -1, \n",
    "            'booster' : 'gbtree', 'eval_metric': 'rmse', 'objective': 'reg:squarederror'\n",
    "           }\n",
    "# Тренировочная и валидационная выборка\n",
    "watchlist = [(dtrain, 'train'), (dvalid, 'valid')]\n",
    "# Обучаем модель XGBoost\n",
    "model = xgb.train(\n",
    "    params=xgb_pars, #гиперпараметры модели\n",
    "    dtrain=dtrain, #обучающая выборка\n",
    "    num_boost_round=300, #количество моделей в ансамбле\n",
    "    evals=watchlist, #выборки, на которых считается матрица\n",
    "    early_stopping_rounds=20, #раняя остановка\n",
    "    maximize=False, #смена поиска максимума на минимум\n",
    "    verbose_eval=10 #шаг, через который происходит отображение метрик\n",
    ")"
   ]
  },
  {
   "attachments": {},
   "cell_type": "markdown",
   "metadata": {
    "id": "nDiMljt5kBLz"
   },
   "source": [
    "Предсказать целевой признак на новых данных можно с помощью метода predict():"
   ]
  },
  {
   "cell_type": "code",
   "execution_count": null,
   "metadata": {
    "id": "XYBTeO7UkBLz"
   },
   "outputs": [],
   "source": [
    "#Делаем предсказание на тестовом наборе данных\n",
    "y_test_predict = np.exp(model.predict(dtest)) - 1\n",
    "print('Modeling RMSLE %.5f' % model.best_score)"
   ]
  },
  {
   "attachments": {},
   "cell_type": "markdown",
   "metadata": {
    "id": "jgBn4xmikBLz"
   },
   "source": [
    "Также как и все модели, основанные на использовании деревьев решений в качестве базовых моделей, XGBoost имеет возможность определения коэффициентов важности факторов. Более того, в библиотеку встроена возможность визуализации важность факторов в виде столбчатой диаграммы. За эту возможность отвечает функция plot_importance():\n"
   ]
  },
  {
   "cell_type": "code",
   "execution_count": null,
   "metadata": {
    "id": "FEvlaqz4kBLz"
   },
   "outputs": [],
   "source": [
    "fig, ax = plt.subplots(figsize = (15,15))\n",
    "xgb.plot_importance(model, ax = ax, height=0.5)"
   ]
  }
 ],
 "metadata": {
  "colab": {
   "provenance": []
  },
  "kernelspec": {
   "display_name": "Python 3",
   "language": "python",
   "name": "python3"
  },
  "language_info": {
   "codemirror_mode": {
    "name": "ipython",
    "version": 3
   },
   "file_extension": ".py",
   "mimetype": "text/x-python",
   "name": "python",
   "nbconvert_exporter": "python",
   "pygments_lexer": "ipython3",
   "version": "3.10.11"
  }
 },
 "nbformat": 4,
 "nbformat_minor": 0
}
